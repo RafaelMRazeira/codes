{
 "cells": [
  {
   "cell_type": "code",
   "execution_count": 4,
   "metadata": {},
   "outputs": [],
   "source": [
    "import pandas as pd\n",
    "\n",
    "cidades_ibge = pd.read_csv('/media/rafael/D/2020 RAFAEL/Faculdade/ICs/IC Direito/codes/pre-processing/IBGECIDADES.csv', sep=';', )"
   ]
  },
  {
   "cell_type": "code",
   "execution_count": 12,
   "metadata": {},
   "outputs": [
    {
     "data": {
      "text/plain": [
       "3267          Adamantina\n",
       "3268              Adolfo\n",
       "3269               Aguaí\n",
       "3270      Águas da Prata\n",
       "3271    Águas de Lindóia\n",
       "              ...       \n",
       "3907          Votorantim\n",
       "3908         Votuporanga\n",
       "3909            Zacarias\n",
       "3910           Chavantes\n",
       "3911        Estiva Gerbi\n",
       "Name: Município, Length: 645, dtype: object"
      ]
     },
     "execution_count": 12,
     "metadata": {},
     "output_type": "execute_result"
    }
   ],
   "source": [
    "# Municípios do estado de são paulo\n",
    "cidades_ibge.loc[cidades_ibge['UF'] == 'SP', ('Município')]"
   ]
  }
 ],
 "metadata": {
  "kernelspec": {
   "display_name": "Python 3",
   "language": "python",
   "name": "python3"
  },
  "language_info": {
   "codemirror_mode": {
    "name": "ipython",
    "version": 3
   },
   "file_extension": ".py",
   "mimetype": "text/x-python",
   "name": "python",
   "nbconvert_exporter": "python",
   "pygments_lexer": "ipython3",
   "version": "3.6.9"
  }
 },
 "nbformat": 4,
 "nbformat_minor": 4
}
