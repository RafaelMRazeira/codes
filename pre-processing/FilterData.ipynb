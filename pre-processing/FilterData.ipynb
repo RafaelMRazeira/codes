{
 "cells": [
  {
   "cell_type": "markdown",
   "metadata": {},
   "source": [
    "![purple-divider](https://user-images.githubusercontent.com/7065401/52071927-c1cd7100-2562-11e9-908a-dde91ba14e59.png)\n",
    "<!-- ![green-divider](https://user-images.githubusercontent.com/7065401/52071924-c003ad80-2562-11e9-8297-1c6595f8a7ff.png) -->\n",
    "### Import our libraries and reading the dataset\n",
    "\n",
    "<!-- ![green-divider](https://user-images.githubusercontent.com/7065401/52071924-c003ad80-2562-11e9-8297-1c6595f8a7ff.png) -->\n"
   ]
  },
  {
   "cell_type": "code",
   "execution_count": 1,
   "metadata": {},
   "outputs": [],
   "source": [
    "# import our data and libraries\n",
    "import pandas as pd\n",
    "import numpy as np\n",
    "import matplotlib.pyplot as plt\n",
    "import re\n",
    "\n",
    "# sp_data is a pandas dataframe of our data\n",
    "sp_data = pd.read_json(\n",
    "    '/media/rafael/D/2020 RAFAEL/Faculdade/ICs/IC Direito/data/sp_shinx.json', lines=True)\n",
    "\n",
    "new_sp_data = sp_data.copy()"
   ]
  },
  {
   "cell_type": "markdown",
   "metadata": {},
   "source": [
    "![green-divider](https://user-images.githubusercontent.com/7065401/52071924-c003ad80-2562-11e9-8297-1c6595f8a7ff.png)\n",
    "### Couting what we need. \n",
    "Count the separator ' - ' in `Conteúdo` of sp_data"
   ]
  },
  {
   "cell_type": "code",
   "execution_count": 2,
   "metadata": {},
   "outputs": [],
   "source": [
    "count_separator = [] # this is a vector which contains the frequency of ' - ' in each Document\n",
    "\n",
    "count_Counteudo_length = [] # this is a vector which contains the lenght of \"Conteúdo\" in each Document\n",
    "\n",
    "# for each Document in data, count the frequency of ' - ' and the len of \"Conteúdo\"\n",
    "for i, Document in enumerate(sp_data['Conteúdo']):\n",
    "    count_separator.append(Document.count(' - '))\n",
    "\n",
    "data = np.array(count_separator) # vector which contains the amount of ' - ' in each document"
   ]
  },
  {
   "cell_type": "markdown",
   "metadata": {},
   "source": [
    "![green-divider](https://user-images.githubusercontent.com/7065401/52071924-c003ad80-2562-11e9-8297-1c6595f8a7ff.png)\n",
    "### Filtering the dataset\n",
    "Filter the `Conteúdo` of all documents which has 4 or more ' - '"
   ]
  },
  {
   "cell_type": "code",
   "execution_count": 3,
   "metadata": {},
   "outputs": [],
   "source": [
    "Doc_series = pd.Series(sp_data['Conteúdo'])\n",
    "\n",
    "ind_range = (data > 4)\n",
    "\n",
    "data_in_6_and_9 = sp_data['Conteúdo'][ind_range]\n",
    "\n",
    "positions_all = []\n",
    "\n",
    "processos_all = []\n",
    "\n",
    "classes_all = []\n",
    "\n",
    "assuntos_all = []\n",
    "\n",
    "partes_all = []\n",
    "\n",
    "conteudo_all = []\n",
    "\n",
    "advs_all = []\n",
    "\n",
    "for document in data_in_6_and_9:\n",
    "\n",
    "    # ----------------------------------------------------------\n",
    "    # Filtering the processes\n",
    "    # ----------------------------------------------------------\n",
    "\n",
    "    position = re.search(r' - ', document)\n",
    "    processos_all.append(document[0:position.start()])\n",
    "\n",
    "    doc_no_processos = document[position.end():]\n",
    "\n",
    "    # ----------------------------------------------------------\n",
    "    # Filtering the classes\n",
    "    # ----------------------------------------------------------\n",
    "    position = re.search(r' - ', doc_no_processos)\n",
    "    classes_all.append(doc_no_processos[0:position.start()])\n",
    "\n",
    "    doc_no_classes_to = doc_no_processos[position.end():]\n",
    "\n",
    "    # ----------------------------------------------------------\n",
    "    # Filtering the assuntos\n",
    "    # ----------------------------------------------------------\n",
    "    position = re.search(r' - ', doc_no_classes_to)\n",
    "    assuntos_all.append(doc_no_classes_to[0:position.start()])\n",
    "\n",
    "    doc_no_assuntos_to = doc_no_classes_to[position.end():]\n",
    "\n",
    "    # ----------------------------------------------------------\n",
    "    # Filtering the parts\n",
    "    # ----------------------------------------------------------\n",
    "    position = re.search(r' - ', doc_no_assuntos_to)\n",
    "    partes_all.append(doc_no_assuntos_to[0:position.start()])\n",
    "\n",
    "    doc_no_parts_to = doc_no_assuntos_to[position.end():]\n",
    "\n",
    "    # ----------------------------------------------------------\n",
    "    # Filtering the content\n",
    "    # ----------------------------------------------------------\n",
    "\n",
    "    # ----------------------------------------------------------\n",
    "    # Filtering the ADV\n",
    "    # ----------------------------------------------------------\n",
    "    position = re.search(r\"(?i)- ADV\", doc_no_parts_to)\n",
    "    if position:\n",
    "        advs_all.append(doc_no_parts_to[position.start():])\n",
    "\n",
    "        conteudo_all.append(doc_no_parts_to[0: position.start()])\n",
    "    else:\n",
    "        conteudo_all.append(doc_no_parts_to)"
   ]
  },
  {
   "cell_type": "markdown",
   "metadata": {},
   "source": [
    "![green-divider](https://user-images.githubusercontent.com/7065401/52071924-c003ad80-2562-11e9-8297-1c6595f8a7ff.png)\n",
    "### Taking the right number of process"
   ]
  },
  {
   "cell_type": "code",
   "execution_count": 4,
   "metadata": {},
   "outputs": [],
   "source": [
    "# conteudo_all[]\n",
    "# processos_all[1],classes_all[1],assuntos_all[1],partes_all[1],sp_data['Conteúdo'][1]\n",
    "\n",
    "regex_processo = r\"\\d{6,7}.\\d{2,3}.\\d{4,5}.\\d{1,2}.\\d{2}\\.\\d{4,5}\" # return the pattern \n",
    "\n",
    "processos = sp_data['Conteúdo'].str.findall(regex_processo)"
   ]
  },
  {
   "cell_type": "code",
   "execution_count": 5,
   "metadata": {},
   "outputs": [
    {
     "name": "stderr",
     "output_type": "stream",
     "text": [
      "/home/rafael/.local/lib/python3.6/site-packages/ipykernel_launcher.py:8: SettingWithCopyWarning: \n",
      "A value is trying to be set on a copy of a slice from a DataFrame\n",
      "\n",
      "See the caveats in the documentation: https://pandas.pydata.org/pandas-docs/stable/user_guide/indexing.html#returning-a-view-versus-a-copy\n",
      "  \n"
     ]
    }
   ],
   "source": [
    "# take only the first time which that pattern was saw\n",
    "teste = processos.copy()\n",
    "teste = processos.str[0]\n",
    "\n",
    "# add new process to \"Processo\" collumn\n",
    "new_sp_data['Processo'] = teste\n",
    "\n",
    "new_sp_data['Processo'][teste.isnull()] = sp_data['Processo'][teste.isnull()]"
   ]
  },
  {
   "cell_type": "markdown",
   "metadata": {},
   "source": [
    "![green-divider](https://user-images.githubusercontent.com/7065401/52071924-c003ad80-2562-11e9-8297-1c6595f8a7ff.png)\n",
    "### Seeying the true Assuntos of files"
   ]
  },
  {
   "cell_type": "code",
   "execution_count": 136,
   "metadata": {},
   "outputs": [],
   "source": [
    "import time\n",
    "import multiprocessing \n",
    "\n",
    "from tqdm import tqdm\n",
    "\n",
    "assuntos = [\"Periculosidade\",\"Contribuição / Taxa Assistencial\",\"Contribuição Confederativa\",\"Eleição\",\"Registro de Entidade Sindical\",\"Salário In Natura\",\"Assédio Moral\",\"Assédio Sexual\",\"Cesta Básica\",\"Contribuição Sindical\",\"Comissão\",\"Complemento Temporário Variável de Ajuste ao Piso de Mercado\",\"Culpa Recíproca\",\"Descontos Salariais - Devolução\",\"Despedida / Dispensa Imotivada\",\"Justa Causa / Falta Grave\",\"Diárias\",\"Dirigente Sindical\",\"Empregado Público\",\"Portador de HIV\",\"Contrato Suspenso\",\"Estabilidade decorrente de Norma Coletiva\",\"Gestante\",\"Membro da Cipa\",\"Multa de 40% do FGTS\",\"Fruição / Gozo\",\"Indenização / Terço Constitucional\",\"Supressão de Horas Extras Habituais - Indenização\",\"Multa do Artigo 467 da CLT\",\"Multa do Artigo 477 da CLT\",\"Multa Prevista em Norma Coletiva\",\"Plano de Demissão Voluntária\",\"PIS - Indenização\",\"Piso Salarial da Categoria / Salário Mínimo Profissional\",\"Prêmio\",\"Contribuição de Previdência Privada - Resgate\",\"Plano de Saúde\",\"Rescisão Indireta\",\"Reajuste Salarial\",\"Gorjeta\",\"Salário Vencido / Retido\",\"Salário Família\",\"Salário Paternidade\",\"Salário Por Fora - Integração\",\"Salário Por Safra\",\"Seguro de Vida\",\"Indenização\",\"Liberação das Guias\",\"Tarefa\",\"Tíquete Alimentação\",\"Vale Transporte\",\"Contrato de Aprendizagem\",\"Cooperativa de Trabalho\",\"Contrato de Estágio\",\"Acidente de Trabalho\",\"Abono\",\"Adicional de Transferência\",\"Ajuda de Custo\",\"Complementação de Aposentadoria / Pensão\",\"AVISO PRÉVIO\",\"Anistia\",\"Estabilidade Acidentária\",\"Abono Pecuniário\",\"Décimo Terceiro Salário\",\"Salário por Equiparação / Isonomia\",\"Tomador de Serviços / Terceirização\",\"Homicídio Simples\",\"Homicídio Privilegiado\",\"Homicídio Qualificado\",\"Induzimento, Instigação ou Auxílio a Suicídio\",\"Infanticídio\",\"Leve\",\"Seguida de Morte\",\"Perigo de contágio de moléstia grave\",\"Perigo para a vida ou saúde de outrem\",\"Abandono de incapaz\",\"Omissão de socorro\",\"Rixa\",\"Calúnia\",\"Difamação\",\"Injúria\",\"Constrangimento ilegal\",\"Ameaça\",\"Seqüestro e cárcere privado\",\"Redução a condição análoga à de escravo\",\"Violação de domicílio\",\"Violação de correspondência\",\"Sonegação ou destruição de correspondência\",\"Violação de comunicação telegráfica, radioelétrica ou telefônica\",\"Violação de Correspondência comercial\",\"Divulgação de segredo\",\"Violação do segredo profissional\",\"Furto\",\"Furto Qualificado\",\"Furto de coisa comum\",\"Roubo\",\"Extorsão\",\"Extorsão mediante seqüestro\",\"Extorsão indireta\",\"Alteração de limites\",\"Usurpação de águas\",\"Esbulho possessório\",\"Dano\",\"Introdução ou abandono de animais em propriedade alheia\",\"Dano em coisa de valor artístico, arqueológico ou histórico\",\"Alteração de local especialmente protegido\",\"Apropriação indébita Previdenciária\",\"Estelionato\",\"Estelionato Majorado\",\"Outras fraudes\",\"Fraude à execução\",\"Receptação\",\"Apropriação indébita\",\"Apropriação de Coisa Havida por Erro, Caso Fortuito ou Força da Natureza\",\"Violação de direito autoral\",\"Atentado contra a liberdade de trabalho\",\"Atentado contra a liberdade de contrato de trabalho e boicotagem violenta\",\"Atentado contra a liberdade de associação\",\"Paralisação de trabalho, seguida de violência ou perturbação da ordem\",\"Paralisação de trabalho de interesse coletivo\",\"Invasão de estabelecimento industrial, comercial ou agrícola. Sabotagem\",\"Frustração de direitos assegurados por lei trabalhista\",\"Exercício de atividade com infração de decisão administrativa\",\"Aliciamento para fins de emigração\",\"Aliciamento de trabalhadores de um local para outro do território nacional\",\"Frustração de lei sobre a nacionalização do trabalho\",\"Destruição / Subração / Ocultação de Cadáver\",\"Impedimento ou Perturbação de Cerimônia Funerária\",\"Vilipêndio a Cadáver\",\"Violação a Sepultura\",\"Ultraje / Impedimento ou Perturbação de Culto Religioso\",\"Estupro\",\"Atentado Violento ao Pudor\",\"Atentado ao Pudor Mediante Fraude\",\"Corrupção de Menores\",\"Ultraje Público ao Pudor (Ato/Escrito Obsceno)\",\"Mediação para Servir a Lascívia de Outrem\",\"Abandono Material\",\"Abandono Intelectual\",\"Entrega de Filho Menor a Pessoa Inidônea\",\"Bigamia\",\"Conhecimento Prévio de Impedimento\",\"Induzimento a erro essencial e ocultação de impedimento\",\"Simulação de Casamento\",\"Simulação de Autoridade para Celebração de Casamento\",\"Parto Suposto\",\"Registro de Nascimento Inexistente\",\"Sonegação do Estado de Filiação\",\"Induzimento a Fuga, Entrega Arbitrária ou Sonegação de Incapazes\",\"Subtração de Incapazes\",\"Incêndio\",\"Explosão\",\"Uso de gás tóxico ou asfixiante\",\"Inundação / Perigo de Inundação\",\"Desabamento ou desmoronamento\",\"Subtração, ocultação ou inutilização de material de salvamento\",\"Difusão de doença ou praga\",\"Desastre ferroviário / Perigo de Desastre Ferroviário\",\"Atentado contra a segurança de transporte público\",\"Arremesso de projétil\",\"Atentado contra a segurança de serviços de utilidade pública\",\"Interrupção /perturbação de serviços telegráficos/telefônicos\",\"Epidemia\",\"Emprego de Processo Proibido/Substância não permitida\",\"Invólucro ou recipiente com falsa indicação\",\"Falsificação / Corrupção / Adulteração / Alteração de produto destinado a fins terapêuticos ou medicinais\",\"Exercício Ilegal da Medicina, Arte Dentária ou Farmacêutica\",\"Charlatanismo\",\"Corrupção ou Poluição de Água Potável\",\"Curandeirismo\",\"Envenenamento de Água Potável / Substância Alimentícia ou Medicinal\",\"Falsificação / Corrupção / Adulteração / Alteração de Substância ou Produtos Alimentícios\",\"Infração de Medida Sanitária Preventiva\",\"Omissão de Notificação de Doença\",\"Outras Substâncias Nocivas a Saúde Pública\",\"Substância Destinada à Falsificação\",\"Quadrilha ou Bando\",\"Moeda Falsa / Assimilados\",\"Petrechos para falsificação de moeda\",\"Emissão de título ao portador sem permissão legal\",\"Falsificação de papéis públicos\",\"Falsificação do selo ou sinal público\",\"Falsificação de documento público\",\"Falsificação de documento particular\",\"Falsidade ideológica\",\"Falso reconhecimento de firma ou letra\",\"Certidão ou atestado ideologicamente falso\",\"Falsidade material de atestado ou certidão\",\"Falsidade de atestado médico\",\"Reprodução ou adulteração de selo ou peça filatélica\",\"Uso de documento falso\",\"Supressão de documento\",\"Falsificação do sinal empregado no contraste de metal precioso ou na fiscalização alfandegária, ou para outros fins\",\"Falsa identidade\",\"Fraude de lei sobre estrangeiros\",\"Petrechos de Falsificação de Papéis Públicos\",\"Adulteração de Sinal Identificador de Veículo Automotor\",\"Peculato\",\"Peculato mediante erro de outrem\",\"Extravio, sonegação ou inutilização de livro ou documento\",\"Emprego irregular de verbas ou rendas públicas\",\"Concussão\",\"Excesso de exação\",\"Corrupção passiva\",\"Facilitação de contrabando ou descaminho\",\"Prevaricação\",\"Condescendência criminosa\",\"Advocacia administrativa\",\"Violência arbitrária\",\"Abandono de função\",\"Exercício funcional ilegalmente antecipado ou prolongado\",\"Violação do sigilo funcional\",\"Violação do sigilo de proposta de concorrência\",\"Usurpação de função pública\",\"Resistência\",\"Tráfico de influência\",\"Corrupção ativa\",\"Impedimento, perturbação ou fraude de concorrência\",\"Inutilização de edital ou de sinal\",\"Subtração ou inutilização de livro ou documento\",\"Desobediência\",\"Desacato\",\"Contrabando ou descaminho\",\"Reingresso de estrangeiro expulso\",\"Denunciação caluniosa\",\"Comunicação falsa de crime ou de contravenção\",\"Auto-acusação falsa\",\"Falso testemunho ou falsa perícia\",\"Coação no curso do processo\",\"Exercício arbitrário das próprias razões\",\"Fraude processual\",\"Favorecimento pessoal\",\"Favorecimento real\",\"Exercício arbitrário ou abuso de poder\",\"Fuga de pessoa presa ou submetida a medida de segurança\",\"Evasão mediante violência contra a pessoa\",\"Arrebatamento de preso\",\"Motim de presos\",\"Patrocínio infiel\",\"Patrocínio simultâneo ou tergiversação\",\"Sonegação de papel ou objeto de valor probatório\",\"Exploração de prestígio\",\"Violência ou fraude em arrematação judicial\",\"Desobediência a decisão judicial sobre perda ou suspensão de direitos\",\"Inserção de dados falsos em sistema de informações\",\"Modificação ou alteração não autorizada de sistema de informações\",\"Sonegação de contribuição previdenciária\",\"Crimes de Responsabilidade\",\"Crimes contra a Economia Popular\",\"Crimes de Abuso de Autoridade\",\"Tráfico de Drogas e Condutas Afins\",\"Responsabilidade Criminal por Danos Nucleares\",\"Crimes contra o Serviço Postal e o Serviço de Telegrama\",\"Crimes contra a Segurança Nacional, a Ordem Política e Social\",\"Crimes contra o Sistema Financeiro Nacional\",\"Crimes Resultante de Preconceito de Raça ou de Cor\",\"Crimes contra a Ordem Tributária\",\"Crimes contra a Ordem Econômica\",\"Crimes contra as Relações de Consumo\",\"Representação caluniosa\",\"Crimes contra a Fauna\",\"Crimes contra a Flora\",\"Da Poluição\",\"Agrotóxicos\",\"Atividades Nucleares\",\"Caça\",\"Liberação ou Descarte de OGM (Organismo Geneticamente Modificado)\",\"Pesca\",\"ou Ocultação de Bens, Direitos ou Valores\",\"Crimes contra as Telecomunicações\",\"Crimes Previstos na Lei de Estrangeiros\",\"Crimes de Tortura\",\"Crimes de Trânsito\",\"Crimes do Sistema Nacional de Armas\",\"Crimes de Imprensa\",\"Crimes Previstos no Estatuto da criança e do adolescente\",\"Crimes contra o mercado de capitais\",\"Crimes de genocídio\",\"Sigilo Telefônico\",\"Crimes da Lei de licitações\",\"Crimes da Lei de remoção de órgãos e tecidos\",\"Crimes praticados contra os índios e a cultura indígena\",\"Recusa, retardamento ou omissão de dados técnicos indispensáveis à propositura de Ação Civil Pública\",\"Crimes Agrários\",\"Crimes relacionados à Comissão Parlamentar de Inquérito\",\"Crime de Quebra de Sigilo Financeiro\",\"Crimes do Código Brasileiro de Telecomunicações\",\"Crimes Previstos no Estatuto do Idoso\",\"Parcelamento do solo urbano\",\"Crimes Falimentares\",\"Trancamento\",\"Fiança\",\"Prisão Preventiva\",\"Recebimento\",\"Rejeição\",\"Aplicabilidade\",\"Revisão\",\"Anulação\",\"Restituição / Indenização de Despesa\",\"Representação Sindical\",\"Direito Autoral\",\"Patente\",\"Desenho Industrial\",\"Marca\",\"Defeito, nulidade ou anulação\",\"Evicção ou Vicio Redibitório\",\"Cessão de Crédito\",\"Câmbio\",\"Parceria Agrícola e/ou pecuária\",\"Representação comercial\",\"Atraso de vôo\",\"Cancelamento de vôo\",\"Overbooking\",\"Extravio de bagagem\",\"Equivalência salarial\",\"Quitação\",\"Reajuste de Prestações\",\"Transferência de Financiamento (contrato de gaveta)\",\"Sustação/Alteração de Leilão\",\"Seguro\",\"Revisão do Saldo Devedor\",\"Assembléia\",\"Eleição\",\"Extinção\",\"Assembléia\",\"Eleição\",\"Extinção\",\"Apuração de haveres\",\"Constituição\",\"Dissolução\",\"Desconsideração da Personalidade Jurídica\",\"Ingresso e Exclusão dos Sócios na Sociedade\",\"Responsabilidade dos sócios e administradores\",\"Transferência de cotas\",\"Anulação\",\"Requisitos\",\"Cédula de Crédito Bancário\",\"Cédula de Crédito à Exportação\",\"Cédula de Crédito Comercial\",\"Cédula de Crédito Industrial\",\"Cédula de Crédito Rural\",\"Cédula de Produto Rural\",\"Cédula Hipotecária\",\"Cheque\",\"Debêntures\",\"Duplicata\",\"Letra de Câmbio\",\"Nota de Crédito Comercial\",\"Nota de Crédito Industrial\",\"Nota de Crédito Rural\",\"Nota Promissória\",\"Warrant\",\"Recuperação extrajudicial\",\"Autofalência\",\"Concurso de Credores\",\"Liquidação\",\"Revogação de atos praticados em prejuízo de credores e da massa\",\"Bolsa de Valores\",\"Engajamento e Profissionais Marítimos\",\"Seguros Marítimos\",\"Aluguel de Embarcações (Fretamento E Carta Partida)\",\"Mínimo\",\"Advogados\",\"Aeronautas\",\"Artistas\",\"Atleta Profissional\",\"Bancários\",\"Cabineiros de Elevador\",\"Doméstico\",\"Engenheiro, Arquiteto e Engenheiro Agrônomo\",\"Jornalistas\",\"Marítimos\",\"Digitadores / Mecanógrafos / Datilógrafos\",\"Médicos\",\"Mineiros de Subsolos\",\"Músicos Profissionais\",\"Operadores de Carga e Descarga (Estiva e Capatazia)\",\"Operadores Cinematográficos\",\"Professores\",\"Químicos\",\"Radialistas\",\"Serviços de Telefonia ou Telegrafia\",\"Trabalhadores em Petróleo\",\"Vigia e Vigilantes\",\"Grupo Econômico\",\"Crime Tentado\",\"Grave\",\"Gravíssima\",\"Privilegiada\",\"Furto Privilegiado\",\"Furto de Veículo Automotor a ser Transportado para outro Estado ou Exterior\",\"Roubo Majorado\",\"Latrocínio\",\"Extorsão mediante Seqüestro Seguida de Morte\",\"Extorsão mediante Sequestro Seguida de Lesão Corporal Grave\",\"Supressão ou Alteração de Marca em Animais\",\"Dano Qualificado\",\"Apropriação de Tesouro\",\"Apropriação de Coisa Achada\",\"Abandono\",\"Acidentes da Navegação\",\"Registro / Cadastro do Armador\",\"Arresto de Embarcação\",\"Assistência / Salvamento\",\"Avaria\",\"Responsabilidade do Comandante ou Capitão\",\"Inscrição / Registro da Embarcação\",\"Hipoteca Marítima\",\"Créditos / Privilégios Marítimos\",\"Agenciamento\",\"Corretagem de Embarcação\",\"Praticagem\",\"Prescrição e Decadência\",\"Edição\",\"Exoneração\",\"Revisão\",\"Busca e Apreensão de Menores\",\"Guarda\",\"Investigação de Paternidade\",\"Regulamentação de Visitas\",\"Nulidade / Anulação\",\"Nulidade e Anulação de Testamento\",\"Nulidade e Anulação de Partilha e Adjudicação de Herança\",\"Sub-rogação de Vinculo\",\"Exclusão de herdeiro ou legatário\",\"Petição de Herança\",\"Deserdação\",\"Disposição de coisa alheia como própria\",\"Alienação ou Oneração Fraudulenta de Coisa Própria\",\"Defraudação de Penhor\",\"Fraude na Entrega de Coisa\",\"Fraude para Recebimento de Indenização ou Valor de Seguro\",\"Fraude no Pagamento por Meio de Cheque\",\"Duplicata Simulada\",\"Abuso de Incapazes\",\"Induzimento à Especulação\",\"Fraude no Comércio\",\"Fraudes e Abusos na Fundação ou Administração de Sociedade por Ações\",\"Receptação Qualificada\",\"Posse Sexual Mediante Fraude\",\"Assédio Sexual\",\"Favorecimento da Prostituição\",\"Casa de Prostituição\",\"Rufianismo\",\"Tráfico Internacional de Pessoas\",\"Tráfico Interno de Pessoas\",\"Fabrico / Fornecimento / Aquisição / Posse ou Transporte de Explosivos ou Gás Tóxico ou Asfixiante\",\"Crime Culposo\",\"Venda de Produtos ou Substância nas Condições dos Artigos 274 e 275\",\"Medicamento em Desacordo com Receita Médica\",\"Incitação ao Crime\",\"Apologia de Crime ou Criminoso\",\"Corrupção Ativa em Transação Comercial Internacional\",\"Tráfico de Influência em Transação Comercial Internacional\",\"Crimes contra Patente de Invenção\",\"Crimes contra os Desenhos Industriais\",\"Crimes contra as Marcas\",\"Crimes Cometidos por Meio de Marca, Título de Estabelecimento e Sinal de Propaganda\",\"Crimes contra Indicações Geeográficas e Demais Indicações\",\"Crimes de Concorrência Desleal\",\"Crime Contra a Administração da Justiça - Lei da Ação de Alimentos\",\"Fabricação de Objeto Destinado a Produção de Drogas e Condutas Afins\",\"Indução, Instigação ou Auxílio ao Uso de Drogas\",\"Oferecimento de Drogas para Consumo Conjunto\",\"Associação para a Produção e Tráfico e Condutas Afins\",\"Financiamento ou Custeio de Produção ou Tráfico de Drogas\",\"Colaboração com Grupo, Organização ou Associação Destinados à Produção ou Tráfico de Drogas\",\"Prescrição Culposa de Drogas\",\"Condução de Embarcação ou Aeronave sob Efeito de Drogas\",\"Contratação de Operação de Crédito\",\"Inscrição de Despesas Não Empenhadas\",\"Assunção de Obrigação no Último Ano do Mandato ou Legislatura\",\"Ordenação de Despesa Não Autorizada\",\"Prestação de Garantia Graciosa\",\"Não Cancelamento de Restos a Pagar\",\"Aumento de Despesa com Pessoal no Último Ano do Mandato ou Legislatura\",\"Oferta Pública ou Colocação de Títulos no Mercado\",\"Perigo de Contágio Venéreo\",\"Isenção\",\"Incidência sobre PDV\",\"Incidência sobre Aposentadoria\",\"Incidência sobre Aplicações Financeiras\",\"Incidência sobre Licença-Prêmio/Abono/Indenização\",\"Retido na fonte\",\"Incidência sobre Férias Compensadas\",\"Incidência sobre Proventos de Previdência Privada\",\"Incidência sobre Participação nos Lucros\",\"Incidência sobre Lucro Imobiliário\",\"Incidência sobre 1/3 de férias (art. 7º, XVII da CF)\",\"Incidência sobre 13° Salário\",\"Incidência sobre Função Comissionada\",\"Incidência sobre Hora Extra\",\"Incidência decorrente de Desligamento de Plano de Previdência Privada\",\"Incidência decorrente de Liquidação de Entidade de Previdência Privada\",\"Microempresa\",\"Demonstrações Financeiras (DCTF)\",\"Incidência sobre Aplicações Financeiras\",\"Retido na fonte\",\"Incidência sobre Lucro\",\"Cooperativa\",\"Compensação de Prejuízos\",\"Importação de bens usados\",\"Drawback\",\"IE/ Imposto sobre Exportação\",\"ICMS/Importação\",\"Incidência sobre Ações de Companhias Abertas\",\"ITR/ Imposto Territorial Rural\",\"ISS/ Imposto sobre Serviços\",\"IPTU/ Imposto Predial e Territorial Urbano\",\"IPVA - Imposto Sobre Propriedade de Veículos Automotores\",\"ITBI - Imposto de Transmissão Intervivos de Bens Móveis e Imóveis\",\"ITCD - Imposto de Transmissão Causa Mortis\",\"Taxa Anual por Hectare\",\"Taxa de Armazenamento\",\"Taxa de Despacho Aduaneiro\",\"Taxa de Exploração Mineral\",\"Taxa de Fiscalização Ambiental\",\"Taxa de Guia de Importação\",\"Taxa de Licença de Importação\",\"Taxa de Melhoramento de Portos\",\"Taxa de Permanência\",\"Taxa de Saúde Suplementar\",\"Taxa de Fiscalização da Comissão de Valores Mobiliários\",\"Taxa Judiciária\",\"Taxa de Aferição de Equipamentos de Metrologia\",\"Estaduais\",\"Aquisição de veículos automotores\",\"Aquisição de combustíveis\",\"Aquisição de passagens e moedas - Viagem Exterior\",\"Energia Elétrica\",\"Responsabilidade Tributária do Sócio-Gerente / Diretor / Representante\",\"Substituição Tributária\",\"DIMOB/Declaração de Informações sobre Atividades Imobilíárias\",\"CNPJ/Cadastro Nacional de Pessoas Jurídicas\",\"CPF/Cadastro de Pessoas Físicas\",\"Obrigação Acessória\",\"Carta de fiança\",\"Parcelamento\",\"Compensação com Apólices da Dívida Pública\",\"Compensação\",\"TDA/Títulos da Dívida Agrária\",\"Anistia\",\"Denúncia espontânea\",\"Lançamento\",\"Expedição de CND\",\"Expedição de Certidão Positiva de Débito com Efeito de Negativa\",\"Certificado de Regularidade - FGTS\",\"Incentivos fiscais\",\"Anulação de Débito Fiscal\",\"Juros/Correção Monetária\",\"Prazo de Recolhimento\",\"Repetição de indébito\",\"Crédito Prêmio\",\"Crédito Presumido\",\"Fato Gerador/Incidência\",\"Alíquota Zero\",\"Alíquota Progressiva\",\"Índice da Alíquota\",\"Creditamento\",\"Depósito Prévio ao Recurso Administrativo\",\"Arrolamento de Bens\",\"Utilização de Dados Relativos à CPMF para Fins de Fiscalização\",\"Liberação de mercadorias\",\"Levantamento de depósito\",\"Cadastro de Inadimplentes - CADIN\",\"Autorização para Impressão de Documentos Fiscais - AIDF\",\"Liberação de Veículo Apreendido\",\"Perdimento de Bens\",\"Contribuições de Melhoria\",\"Finsocial\",\"Salário-Educação\",\"Seguro Acidentes do Trabalho\",\"Funrural\",\"Contribuição INCRA\",\"PASEP\",\"Construção Civil\",\"Contribuições para o SEBRAE, SESC, SENAC, SENAI e outros\",\"Conselhos Regionais e Afins (Anuidade)\",\"Contribuição Sindical\",\"Servidores Ativos\",\"Servidores Inativos\",\"Mandato Eletivo/Lei 9.506/97\",\"Aposentadoria/Retorno aoTrabalho\",\"Cargo em Comissão\",\"Tempo de Serviço Urbano/Contribuições não Recolhidas\",\"Tempo de Serviço Rural/Contribuições não Recolhidas\",\"Gratificação Natalina/13º Salário\",\"Produção Agropecuária\",\"Indenização Trabalhista\",\"Reembolso auxílio-creche\",\"Contribuição sobre a folha de salários\",\"Devolução de contribuições previdenciárias pagas além do teto\",\"1/3 de férias\",\"Auxílio-Alimentação\",\"Custeio de Assistência Médica\",\"Hora Extra\",\"Massa Falida- Recolhimento\",\"Nota Fiscal ou Fatura\",\"Salário-Maternidade\",\"Contribuição sobre Nota Fiscal de Execução de Serviços\",\"Contribuição de Autônomos, Empresários (Pró-labore) e Facultativos\",\"FNT/Fundo Nacional de Telecomunicações\",\"ATP/Adicional de Tarifa Portuária\",\"AITP/Adicional de Indenização do Trabalhador Portuário Avulso\",\"Adicional de Tarifa Aeroportuária\",\"AFRMM/Adicional ao Frete para Renovação da Marinha Mercante\",\"FUNDEF/Fundo de Manutenção e Desenvolvimento do Ensino Fundamental e de Valorização do Magistério\",\"Seguro Apagão (Lei 10.438/02)\",\"Contribuição sobre licença de uso ou transferência de tecnologia\",\"Contribuição de Intervenção no Domínio Econômico (CIDE)\",\"FUNDAF/Fundo Especial de Desenvolvimento e Aperfeiçoamento das Atividades de Fiscalização\",\"FUSEX/FUNSA/FUSMA/Fundo de Saúde das Forças Armadas\",\"Contribuição de Iluminação Pública\",\"IUEE/Imposto Único sobre Energia Elétrica\",\"FGTS/Fundo de Garantia Por Tempo de Serviço\",\"Contribuição sobre Açúcar e Álcool\",\"CPMF/Contribuição Provisória sobre Movimentação Financeira\",\"Discriminação Tributária MERCOSUL\",\"REFIS/Programa de Recuperação Fiscal\",\"PAES/Parcelamento Especial\",\"SIMPLES\",\"Super SIMPLES\",\"Aposentadoria por Invalidez\",\"Urbana (Art. 48/51)\",\"Rural (Art. 48/51)\",\"Aposentadoria por Tempo de Serviço (Art. 52/4)\",\"Aposentadoria Especial (Art. 57/8)\",\"Auxílio-Doença Previdenciário\",\"Salário-Família (Art. 65/70)\",\"Salário-Maternidade (Art. 71/73)\",\"Pensão por Morte (Art. 74/9)\",\"Auxílio-Reclusão (Art. 80)\",\"Pecúlios (Art. 81/5)\",\"Incapacidade Laborativa Parcial\",\"Incapacidade Laborativa Permanente\",\"Incapacidade Laborativa Temporária\",\"Movimentos Repetitivos/Tenossinovite/LER/DORT\",\"Redução da Capacidade Auditiva\",\"Abono de Permanência em Serviço (Art. 87)\",\"Ferroviário\",\"Ex-combatentes\",\"Renda Mensal Vitalícia\",\"Aposentadoria por Tempo de Contribuição (Art. 55/6)\",\"RMI pelo art. 202 CF/88 (média dos 36 últimos salários-de-contribuição)\",\"RMI pelo art. 1º da Lei 6.423/77 - índices de atualização dos 24 1ºs salários-de-contribuição, anteriores aos 12 últimos)\",\"RMI pela equivalência entre Salário-de-Benefício e Salário-de-Contribuição\",\"RMI sem incidência de Teto Limitador\",\"RMI da pensão de dependente de ex-combatente\",\"Benefício mínimo a partir da CF/88 (art. 201, § 2º CF/88)\",\"Limitação do salário-de-benefício e da renda mensal inicial\",\"RMI cuja salário-de-benefício supera menor valor teto\",\"Escala de Salário-Base\",\"Contribuição sobre vinte salários mínimos\",\"Cálculo do Benefício de acordo com a Sistemática anterior à Lei 9.876/99\",\"IRSM de Fevereiro de 1994(39,67%)\",\"Alteração do coeficiente de cálculo de pensão\",\"Alteração do coeficiente de cálculo do benefício\",\"Cálculo do benefício de segurado especial de acordo com a Lei 9.876/99\",\"Cálculo do fator previdenciário - Lei 9.876/99\",\"Reajuste pela Súmula 260 do TFR\",\"Art. 58 ADCT da CF/88\",\"Utilização do PNS no Reajuste de Benefícios\",\"Manutenção do Benefício pela equivalência salarial\",\"Expurgos inflacionários sobre os benefícios\",\"Salário Mínimo de Ncz$ 120,00 para junho/89\",\"Reajuste de 147%\",\"Reajustamento pelo IGP-DI\",\"Aplicação de coeficiente de cálculo diverso do fixado na Lei n.º 8.213/91\",\"Reajuste aplicado ao salário mínimo em setembro/94\",\"Reajustamento pelo INPC\",\"Art. 144 da Lei 8.213/91 e/ou diferenças decorrentes\",\"Gratificação Natalina a partir da CF/88 (Art. 201, § 6º CF/88)\",\"Abono da Lei 8.178/91\",\"Índice de 4,02% da Lei 8.222/91\",\"Desconto do DL 1.910/81\",\"Descontos dos benefícios\",\"Correção Monetária pela Súmula 71 TFR\",\"Correção Monetária de Benefício pago com atraso\",\"Reajuste conforme Portaria MPAS 714/1993\",\"Habilitação e Reabilitação Profissional\",\"Decadência/Prescrição\",\"Declaração de Ausência\",\"Atividade concomitante\",\"Renúncia ao benefício\",\"Demonstrativo das importâncias pagas\",\"Períodos de Carência\",\"Limite Mínimo de Idade\",\"Perda da qualidade de segurado\",\"Inclusão de Dependente\",\"Data de Início de Benefício (DIB)\",\"Cumulação\",\"Parcelas de benefício não pagas\",\"Concessão\",\"Restabelecimento\",\"Conversão\",\"Averbação/Cômputo/Conversão de tempo de serviço especial\",\"Averbação/Cômputo de tempo de serviço de segurado especial (regime de economia familiar)\",\"Averbação/Cômputo de tempo de serviço  rural (empregado/empregador)\",\"Averbação/Cômputo do tempo de serviço como aluno aprendiz\",\"Averbação/Cômputo do tempo de serviço militar\",\"Averbação/Cômputo de tempo de serviço de empregado doméstico\",\"Averbação/Cômputo de tempo de serviço urbano\",\"Certidão de Tempo de Serviço\",\"Contagem Recíproca de Tempo de Serviço\",\"Aquisição\",\"Perda\",\"Concessão de Naturalização\",\"Cancelamento de Naturalização\",\"Admissão / Entrada / Permanência / Saída\",\"Asilo\",\"Livre Trânsito MERCOSUL\",\"Trabalhador Migrante ou Fronteiriço do MERCOSUL\",\"Proteção Internacional a Direitos Humanos\",\"Auxílio Direto\",\"Mercosul\",\"Tratado Internacional\",\"Normas do Mercosul\",\"Casamento e Divórcio\",\"Sucessão de Bens de Estrangeiro\",\"Prestação de Alimentos\",\"Funcionamento de Empresa Estrangeira\",\"Pessoa Jurídica Estrangeira\",\"Contratos Internacionais\",\"Inclusão Indevida em Cadastro de Inadimplentes\",\"Oferta\",\"Fixação\",\"Turismo\",\"Consórcio\",\"Estabelecimentos de Ensino\",\"Seguro\",\"Assinatura Básica Mensal\",\"Pulsos Excedentes\",\"Empreitada\",\"Representante Comercial Autônomo\",\"Honorários Profissionais\",\"Trabalhador Eventual\",\"Trabalhador Avulso\",\"Interdito Proibitório\",\"Aeroviários\",\"Rural\",\"Aplicabilidade\",\"Tutela e Curatela\",\"Regime de Bens Entre os Cônjuges\",\"Usufruto e Administração dos Bens de Filhos Menores\",\"Bem de Família\",\"Dissolução\",\"Investigação de Maternidade\",\"Adoção de Maior\",\"União Homoafetiva\",\"Administração de herança\",\"Reconhecimento / Dissolução\",\"Inventário e Partilha\",\"Assunção de Dívida\",\"Preferências e Privilégios Creditórios\",\"Correção Monetária\",\"Perdas e Danos\",\"Cláusula Penal\",\"Arras ou Sinal\",\"Pagamento\",\"Pagamento em Consignação\",\"Pagamento com Sub-rogação\",\"Imputação do Pagamento\",\"Dação em Pagamento\",\"Novação\",\"Compensação\",\"Confusão\",\"Remissão das Dívidas\",\"Promessa de Recompensa\",\"Gestão de Negócios\",\"Pagamento Indevido\",\"Enriquecimento sem Causa\",\"Registro de nascimento após prazo legal\",\"Retificação de Nome\",\"Cancelamento de Protesto\",\"Acidente Aéreo\",\"Auxílio-Doença Acidentário\",\"Fornecimento de Energia Elétrica\",\"Fornecimento de Água\",\"Substituição do Produto\",\"Rescisão do contrato e devolução do dinheiro\",\"Abatimento proporcional do preço\",\"Interpretação / Revisão de Contrato\",\"Cartão de Crédito\",\"Financiamento de Produto\",\"Serviços Profissionais\",\"Serviços Hospitalares\",\"Indenização por Dano Material\",\"Protesto Indevido de Título\",\"Prestação Pecuniária\",\"Perda de Bens e Valores\",\"Prestação de Serviços à Comunidade\",\"Interdição Temporária de Direitos\",\"Limitação de Fim de Semana\",\"Pena de Multa\",\"Tratamento Ambulatorial\",\"Internação\",\"Quanto à Embarcação\",\"Quanto à Carga\",\"Clandestinos\",\"Retificação de Data de Nascimento\",\"Retificação de Sexo\",\"Inscrição na Matrícula de Registro Torrens\",\"Instituição de Bem de Família\",\"Bloqueio de Matrícula\",\"Por Remição\",\"Por Terceiro Prejudicado\",\"Registro de Óbito após prazo legal\",\"Registro de Nascimento de Filho de Brasileiro Nascido no Exterior\",\"Liberdade Provisória\",\"Prisão em flagrante\",\"Perempção\",\"Inclusão/exclusão de Jurado\",\"Deserção\",\"Denegação\",\"Falsidade\",\"Direitos da Personalidade\",\"Organizações Religiosas\",\"Sucessão de Empregadores\",\"Subempreitada\",\"Sócio / Acionista\",\"Acidente de Trabalho\",\"Salário por Acúmulo de Cargo / Função\",\"Salário Maternidade\",\"Licenças e Folgas - Conversão em Pecúnia\",\"Salário Substituição\",\"Gratificação por Tempo de Serviço\",\"Gratificação de Função\",\"Décimo Terceiro Salário Proporcional\",\"Férias Proporcionais\",\"Indenização Adicional\",\"Saldo de Salário\",\"Indenização do artigo 478 da CLT\",\"Imunidade de Jurisdição\",\"Assistência Judiciária Gratuita\",\"Intervenção de Terceiros\",\"Litigância de Má-Fé\",\"Litisconsórcio\",\"Sucessão Processual\",\"Procuração\",\"Representação em Juízo\",\"Ministério Público\",\"Dos Auxiliares da Justiça\",\"Prazo\",\"Valor da Causa\",\"Suspensão do Processo\",\"Modificação ou Alteração do Pedido\",\"Antecipação de Tutela / Tutela Específica\",\"Erro de Procedimento\",\"Revelia\",\"Vícios Formais da Sentença\",\"Efeitos\",\"Preparo / Deserção\",\"Desconfiguração de Justa Causa\",\"Cabimento\",\"Levantamento de Valor\",\"Penhora / Depósito/ Avaliação\",\"Multa de 10%\",\"Inexequibilidade do Título / Inexigibilidade da Obrigação\",\"Expropriação de Bens\",\"Remição\",\"Liminar\",\"Honorários Periciais\",\"Extinção da Execução\",\"Concurso de Credores\",\"Execução Previdenciária\",\"Fraude à Execução\",\"Imunidade de Execução\",\"Sucessão\",\"Capacidade Processual\",\"Substituição da Parte\",\"Causas Supervenientes à Sentença\",\"Efeito Suspensivo / Impugnação / Embargos à Execução\",\"Benefício de Ordem\",\"Ato Atentatório à Dignidade da Justiça\",\"Indenização do Prejuízo\",\"Caução\",\"Coligação\",\"Transformação\",\"Incorporação\",\"Fusão\",\"Cisão\",\"Liquidação\",\"Alteração de capital\",\"Capacidade\",\"Curadoria dos bens do ausente\",\"Sucessão Provisória\",\"Inclusão de associado\",\"Exclusão de associado\",\"Fiscalização\",\"Exclusão de filiado\",\"Fusão\",\"Eleições - Diretórios\",\"Ineficácia de atos  em relação à massa\",\"Convolação de recuperação judicial em falência\",\"Administração judicial\",\"Classificação de créditos\",\"Laudo Arbitral Internacional\",\"Sustação de Protesto\",\"Agêncie e Distribuição\",\"Alienação Fiduciária\",\"Arrendamento Rural\",\"Arrendamento Mercantil\",\"Cartão de Crédito\",\"Comissão\",\"Compra e Venda\",\"Corretagem\",\"Depósito\",\"Doação\",\"Empreitada\",\"Fiança\",\"Mandato\",\"Troca ou Permuta\",\"Prestação de Serviços\",\"Seguro\",\"Transação\",\"Transporte de Coisas\",\"Transporte de Pessoas\",\"Estimatório\",\"Comodato\",\"Mútuo\",\"Constituição de Renda\",\"Jogo e Aposta\",\"Compromisso\",\"Contratos Bancários\",\"Franquia\",\"Locação de Móvel\",\"Despejo para Uso Próprio\",\"Despejo para Uso de Ascendentes e Descendentes\",\"Despejo por Denúncia Vazia\",\"Benfeitorias\",\"Direito de Preferência\",\"Conta de Participação\",\"Simples\",\"Nome Coletivo\",\"Comandita Simples\",\"Limitada\",\"Anônima\",\"Comandita por Ações\",\"Cooperativa\",\"Coligadas\",\"Dependente de Autorização\",\"Estrangeira\",\"Homicídio Simples\",\"Homicídio Privilegiado\",\"Homicídio Qualificado\",\"Induzimento, Instigação ou Auxílio a Suicídio\",\"Infanticídio\",\"Leve\",\"Seguida de Morte\",\"Grave\",\"Gravíssima\",\"Privilegiada\",\"Perigo de contágio de moléstia grave\",\"Perigo para a vida ou saúde de outrem (art. 132)\",\"Abandono de incapaz (art. 133)\",\"Omissão de socorro (art. 135)\",\"Rixa (art. 137)\",\"Perigo de Contágio Venéreo\",\"Calúnia\",\"Difamação\",\"Injúria\",\"Constrangimento ilegal (art. 146)\",\"Ameaça (art. 147)\",\"Seqüestro e cárcere privado (art. 148)\",\"Redução a condição análoga à de escravo (art. 149)\",\"Violação de domicílio (art. 150)\",\"Violação de correspondência (art. 151, caput)\",\"Sonegação ou destruição de correspondência (art. 151, § 1º, I)\",\"Violação de comunicação telegráfica, radioelétrica ou telefônica (art. 151, § 1º, II, III e IV)\",\"Violação de Correspondência comercial (art. 152)\",\"Divulgação de segredo (art. 153)\",\"Violação do segredo profissional (art. 154)\",\"Furto (art. 155)\",\"Furto Qualificado (Art. 155, § 4o.)\",\"Furto de coisa comum (art. 156)\",\"Roubo (art. 157)\",\"Extorsão (art. 158)\",\"Extorsão mediante seqüestro (art. 159)\",\"Extorsão indireta (art. 160)\",\"Alteração de limites (art. 161, caput)\",\"Usurpação de águas (art. 161, § 1º, I)\",\"Esbulho possessório (art. 161, § 1º, II)\",\"Dano (art. 163)\",\"Introdução ou abandono de animais em propriedade alheia (art. 164)\",\"Dano em coisa de valor artístico, arqueológico ou histórico (art. 165)\",\"Alteração de local especialmente protegido (art. 166)\",\"Apropriação indébita Previdenciária (art. 168-A e Lei 8.212/91)\",\"Estelionato\",\"Estelionato Majorado (art. 171, § 3º)\",\"Outras fraudes\",\"Fraude à execução (art. 179)\",\"Receptação\",\"Apropriação indébita (art. 168, caput)\",\"Apropriação de Coisa Havida por Erro, Caso Fortuito ou Força da Natureza (art.169)\",\"Furto Privilegiado\",\"Furto de Veículo Automotor a ser Transportado para outro Estado ou Exterior\",\"Roubo Majorado\",\"Latrocínio\",\"Extorsão mediante Seqüestro Seguida de Morte\",\"Extorsão mediante Sequestro Seguida de Lesão Corporal Grave\",\"Supressão ou Alteração de Marca em Animais\",\"Dano Qualificado\",\"Apropriação de Tesouro\",\"Apropriação de Coisa Achada\",\"Disposição de coisa alheia como própria\",\"Alienação ou Oneração Fraudulenta de Coisa Própria\",\"Defraudação de Penhor\",\"Fraude na Entrega de Coisa\",\"Fraude para Recebimento de Indenização ou Valor de Seguro\",\"Fraude no Pagamento por Meio de Cheque\",\"Duplicata Simulada\",\"Abuso de Incapazes\",\"Induzimento à Especulação\",\"Fraude no Comércio\",\"Fraudes e Abusos na Fundação ou Administração de Sociedade por Ações\",\"Receptação Qualificada\",\"Violação de direito autoral\",\"Atentado contra a liberdade de trabalho (art. 197)\",\"Atentado contra a liberdade de contrato de trabalho e boicotagem violenta (art. 198)\",\"Atentado contra a liberdade de associação (art. 199)\",\"Paralisação de trabalho, seguida de violência ou perturbação da ordem (art. 200)\",\"Paralisação de trabalho de interesse coletivo (art. 201)\",\"Invasão de estabelecimento industrial, comercial ou agrícola. Sabotagem (art. 202)\",\"Frustração de direitos assegurados por lei trabalhista (art. 203)\",\"Exercício de atividade com infração de decisão administrativa (art. 205)\",\"Aliciamento para fins de emigração (art. 206)\",\"Aliciamento de trabalhadores de um local para outro do território nacional (art. 207)\",\"Frustração de lei sobre a nacionalização do trabalho (art. 204)\",\"Destruição / Subração / Ocultação de Cadáver\",\"Impedimento ou Perturbação de Cerimônia Funerária (Art. 209)\",\"Vilipêndio a Cadáver\",\"Violação a Sepultura (Art. 210)\",\"Ultraje / Impedimento ou Perturbação de Culto Religioso\",\"Tráfico Internacional de Pessoa para Fim de Exploração Sexual\",\"Estupro\",\"Atentado Violento ao Pudor\",\"Atentado ao Pudor Mediante Fraude\",\"Corrupção de Menores\",\"Ultraje Público ao Pudor (Ato/Escrito Obsceno)\",\"Mediação para Servir a Lascívia de Outrem\",\"Posse Sexual Mediante Fraude\",\"Assédio Sexual\",\"Favorecimento da Prostituição\",\"Casa de Prostituição\",\"Rufianismo\",\"Tráfico Internacional de Pessoas\",\"Tráfico Interno de Pessoas\",\"Abandono Material\",\"Abandono Intelectual\",\"Entrega de Filho Menor a Pessoa Inidônea\",\"Bigamia\",\"Conhecimento Prévio de Impedimento\",\"Induzimento a erro essencial e ocultação de impedimento\",\"Simulação de Casamento\",\"Simulação de Autoridade para Celebração de Casamento\",\"Parto Suposto (Art. 242)\",\"Registro de Nascimento Inexistente (Art. 241)\",\"Sonegação do Estado de Filiação (Art. 243)\",\"Induzimento a Fuga, Entrega Arbitrária ou Sonegação de Incapazes (Art. 248)\",\"Subtração de Incapazes (Art. 249)\",\"Incêndio\",\"Explosão\",\"Uso de gás tóxico ou asfixiante\",\"Inundação / Perigo de Inundação\",\"Desabamento ou desmoronamento (art. 256)\",\"Subtração, ocultação ou inutilização de material de salvamento (art. 257)\",\"Difusão de doença ou praga (art. 259)\",\"Desastre ferroviário / Perigo de Desastre Ferroviário\",\"Atentado contra a segurança de transporte público\",\"Arremesso de projétil\",\"Atentado contra a segurança de serviços de utilidade pública (art. 265)\",\"Interrupção /perturbação de serviços telegráficos/telefônicos (art. 266)\",\"Epidemia (art. 267)\",\"Emprego de Processo Proibido/Substância não permitida\",\"Invólucro ou recipiente com falsa indicação (art. 275)\",\"Falsificação / Corrupção / Adulteração / Alteração de produto destinado a fins terapêuticos ou medicinais\",\"Exercício Ilegal da Medicina, Arte Dentária ou Farmacêutica (art. 282)\",\"Charlatanismo (Art. 283)\",\"Corrupção ou Poluição de Água Potável (Art. 271)\",\"Curandeirismo (Art. 284)\",\"Envenenamento de Água Potável / Substância Alimentícia ou Medicinal (Art. 270)\",\"Falsificação / Corrupção / Adulteração / Alteração de Substância ou Produtos Alimentícios\",\"Infração de Medida Sanitária Preventiva (Art. 268)\",\"Omissão de Notificação de Doença (Art. 269)\",\"Outras Substâncias Nocivas a Saúde Pública (Art. 278)\",\"Substância Destinada à Falsificação (Art. 277)\",\"Fabrico / Fornecimento / Aquisição / Posse ou Transporte de Explosivos ou Gás Tóxico ou Asfixiante\",\"Venda de Produtos ou Substância nas Condições dos Artigos 274 e 275\",\"Medicamento em Desacordo com Receita Médica\",\"Quadrilha ou Bando (art. 288)\",\"Incitação ao Crime\",\"Apologia de Crime ou Criminoso\",\"Moeda Falsa / Assimilados\",\"Petrechos para falsificação de moeda (art. 291)\",\"Emissão de título ao portador sem permissão legal (art. 292)\",\"Falsificação de papéis públicos (art. 293)\",\"Falsificação do selo ou sinal público (art. 296)\",\"Falsificação de documento público\",\"Falsificação de documento particular (art. 298)\",\"Falsidade ideológica (art. 299)\",\"Falso reconhecimento de firma ou letra (art. 300)\",\"Certidão ou atestado ideologicamente falso (art. 301, caput)\",\"Falsidade material de atestado ou certidão (art. 301, § 1º)\",\"Falsidade de atestado médico (art. 302)\",\"Reprodução ou adulteração de selo ou peça filatélica (art. 303)\",\"Uso de documento falso (art. 304)\",\"Supressão de documento (art. 305)\",\"Falsificação do sinal empregado no contraste de metal precioso ou na fiscalização alfandegária, ou para outros fins (art. 306)\",\"Falsa identidade\",\"Fraude de lei sobre estrangeiros\",\"Petrechos de Falsificação de Papéis Públicos\",\"Adulteração de Sinal Identificador de Veículo Automotor\",\"Peculato (art. 312, caput e § 1º)\",\"Peculato mediante erro de outrem (art. 313)\",\"Extravio, sonegação ou inutilização de livro ou documento (art. 314)\",\"Emprego irregular de verbas ou rendas públicas (art. 315)\",\"Concussão (art. 316, caput)\",\"Excesso de exação (art. 316, §§ 1º e 2º)\",\"Corrupção passiva (art. 317)\",\"Facilitação de contrabando ou descaminho (art. 318)\",\"Prevaricação\",\"Condescendência criminosa (art. 320)\",\"Advocacia administrativa (art. 321)\",\"Violência arbitrária (art. 322)\",\"Abandono de função (art. 323)\",\"Exercício funcional ilegalmente antecipado ou prolongado (art. 324)\",\"Violação do sigilo funcional (art. 325)\",\"Violação do sigilo de proposta de concorrência (art. 326)\",\"Inserção de dados falsos em sistema de informações (art. 313-A)\",\"Modificação ou alteração não autorizada de sistema de informações (art. 313-B)\",\"Contra Patente de Invenção\",\"Contra os Desenhos Industriais\",\"Contra as Marcas\",\"Cometidos por Meio de Marca, Título de Estabelecimento e Sinal de Propaganda\",\"Contra Indicações Geográficas e Demais Indicações\",\"De Concorrência Desleal\",\"de Responsabilidade\",\"Contra a Economia Popular\",\"de Abuso de Autoridade\",\"Tráfico de Drogas e Condutas Afins\",\"Posse de Drogas para Consumo Pessoal\",\"Fabricação de Objeto Destinado a Produção de Drogas e Condutas Afins\",\"Indução, Instigação ou Auxílio ao Uso de Drogas\",\"Oferecimento de Drogas para Consumo Conjunto\",\"Associação para a Produção e Tráfico e Condutas Afins\",\"Financiamento ou Custeio de Produção ou Tráfico de Drogas\",\"Colaboração com Grupo, Organização ou Associação Destinados à Produção ou Tráfico de Drogas\",\"Prescrição Culposa de Drogas\",\"Condução de Embarcação ou Aeronave sob Efeito de Drogas\",\"Responsabilidade Criminal por Danos Nucleares\",\"Contra o Serviço Postal e o Serviço de Telegrama\",\"Contra a Segurança Nacional, a Ordem Política e Social\",\"Contra o Sistema Financeiro Nacional\",\"Resultante de Preconceito de Raça ou de Cor\",\"Contra a Ordem Tributária\",\"Contra a Ordem Econômica\",\"Contra as Relações de Consumo\",\"Representação caluniosa\",\"Contra a Fauna\",\"Contra a Flora\",\"Da Poluição\",\"Agrotóxicos (Lei 7.802/89)\",\"Atividades Nucleares (Lei 6.453/77)\",\"Caça (Lei nº 5.197/67)\",\"Genética (Lei nº 8.974/95)\",\"Pesca (Lei nº 5.197/67, Lei nº 7.643/87, Lei 7.679/88, DL 221/67)\",\"ou Ocultação de Bens, Direitos ou Valores\",\"Contra as Telecomunicações\",\"Previstos na Lei de Estrangeiros\",\"De Tortura\",\"De Trânsito\",\"Do Sistema Nacional de Armas\",\"De Imprensa\",\"Estatuto da criança e do adolescente\",\"Contra o mercado de capitais\",\"De genocídio\",\"Sigilo Telefônico\",\"Da Lei de licitações\",\"Da Lei de remoção de órgãos e tecidos\",\"Praticados contra os índios e a cultura indígena\",\"Recusa, retardamento ou omissão de dados técnicos indispensáveis à propositura de Ação Civil Pública\",\"Agrários\",\"Relacionados à Comissão Parlamentar de Inquérito\",\"Eleitorais\",\"De Quebra de Sigilo Financeiro\",\"Do Código Brasileiro de Telecomunicações\",\"Estatuto do Idoso\",\"Parcelamento do solo urbano\",\"Falimentares\",\"Militares\",\"Contra a Administração da Justiça - Lei da Ação de Alimentos\",\"Contravenções Penais\",\"Análogo a Crime Tentado\",\"Análogo a Crime Culposo\",\"Usurpação de função pública (art. 328)\",\"Resistência (art. 329)\",\"Tráfico de influência (art. 332)\",\"Corrupção ativa (art. 333)\",\"Impedimento, perturbação ou fraude de concorrência (art. 335)\",\"Inutilização de edital ou de sinal (art. 336)\",\"Subtração ou inutilização de livro ou documento (art. 337, caput)\",\"Desobediência (art. 330)\",\"Desacato (art. 331)\",\"Contrabando ou descaminho (art. 334)\",\"Sonegação de contribuição previdenciária (art. 337-A e Lei 8.212/91)\",\"Corrupção Ativa em Transação Comercial Internacional\",\"Tráfico de Influência em Transação Comercial Internacional\",\"Reingresso de estrangeiro expulso\",\"Denunciação caluniosa\",\"Comunicação falsa de crime ou de contravenção\",\"Auto-acusação falsa\",\"Falso testemunho ou falsa perícia\",\"Coação no curso do processo\",\"Exercício arbitrário das próprias razões\",\"Fraude processual\",\"Favorecimento pessoal\",\"Favorecimento real\",\"Exercício arbitrário ou abuso de poder\",\"Fuga de pessoa presa ou submetida a medida de segurança\",\"Evasão mediante violência contra a pessoa\",\"Arrebatamento de preso\",\"Motim de presos\",\"Patrocínio infiel\",\"Patrocínio simultâneo ou tergiversação\",\"Sonegação de papel ou objeto de valor probatório\",\"Exploração de prestígio\",\"Violência ou fraude em arrematação judicial\",\"Desobediência a decisão judicial sobre perda ou suspensão de direitos\",\"Contratação de Operação de Crédito\",\"Inscrição de Despesas Não Empenhadas\",\"Assunção de Obrigação no Último Ano do Mandato ou Legislatura\",\"Ordenação de Despesa Não Autorizada\",\"Prestação de Garantia Graciosa\",\"Não Cancelamento de Restos a Pagar\",\"Aumento de Despesa com Pessoal no Último Ano do Mandato ou Legislatura\",\"Oferta Pública ou Colocação de Títulos no Mercado\",\"Abandono Material\",\"Abandono Intelectual\",\"Maus Tratos\",\"Abuso Sexual\",\"Exploração do Trabalho Infantil\",\"Pobreza\",\"Uso ou Tráfico de Drogas\",\"Adoção Internacional\",\"Adoção Nacional\",\"Adoção de Criança\",\"Adoção de Adolescente\",\"Entrada e Permanência de Menores\",\"Viagem ao Exterior\",\"Trabalho do adolescente\",\"Em comum / De fato\",\"Anistia Política\",\"Direitos Indígenas\",\"Intervenção em Estado / Município\",\"Indenização por Dano Ambiental\",\"Erro Médico\",\"Acidente de Trânsito\",\"Declaração de Bagagem\",\"Declaração de Trânsito Aduaneiro\",\"Comercialização sem Restrições de Produtos Industrializados\",\"Comercialização sem Restrições de Gêneros Alimentícios\",\"Comercialização e/ou Utilização sem Restrições de Medicamentos\",\"Funcionamento de Comércio de Derivados de Petróleo\",\"Registro de Empresa\",\"Funcionamento de Estabelecimentos Empresariais\",\"Registro / Porte de arma de fogo\",\"Registro de Aeronave\",\"Inquérito / Processo / Recurso Administrativo\",\"Ato Lesivo ao Patrimônio Artístico, Estético, Histórico ou Turístico\",\"Dano ao Erário\",\"Enriquecimento ilícito\",\"Violação aos Princípios Administrativos\",\"Inspeção Fitossanitária\",\"Exportação/Vedações\",\"Inspeção Sanitária de Origem Animal\",\"Segurança e Medicina do Trabalho\",\"Registro de Trabalho Portuário/Órgão de Gestão de Mão-de-Obra\",\"Registro de Marcas, Patentes ou Invenções\",\"Multas e demais Sanções\",\"Interdição\",\"Apreensão\",\"Registro de Direito Autoral\",\"Registro de Programa de Computador\",\"Matrícula\",\"Financiamento Público da Educação e/ou Pesquisa\",\"Colação de Grau\",\"Exigência de Estágio Profissionalizante\",\"Transferência de Estudante\",\"Freqüência às Aulas\",\"Penalidades Disciplinares\",\"Colisão de Horário\",\"Vestibular\",\"Mensalidades\",\"Currículo Escolar\",\"Ingresso no Curso Superior\",\"Jubilamento de Aluno\",\"Criação e/ou Autorização para funcionamento de Curso Superior\",\"Omissão de Entrega de Notas\",\"Diplomas/Certificado de Conclusão do Curso\",\"Financiamento Privado da Educação e/ou Pesquisa\",\"Residência Médica\",\"Provão - Avaliação da Educação Superior\",\"Sistemas de cotas - Lei 10.558/2002\",\"Pós-Graduação\",\"Mensalidade\",\"Matrícula\",\"Material Didático\",\"Exame Nacional de Ensino Médio / ENEM\",\"Penalidades Disciplinares\",\"Transferência\",\"Ensino Especial\",\"Exame Supletivo\",\"Merenda\",\"Transporte\",\"Educação Pré-escolar\",\"Educação Profissionalizante\",\"Repasse de Verbas do SUS\",\"Reajuste da Tabela do SUS\",\"Convênio Médico com o SUS\",\"Ressarcimento ao SUS\",\"Genética / Células Tronco\",\"Sistema Nacional do Desporto\",\"Fornecimento de Gás\",\"Energia Elétrica\",\"Transporte Terrestre\",\"Transporte Aéreo - Aeroporto\",\"Radiodifusão\",\"Loterias/Sorteio\",\"Telefonia\",\"Transporte Aquaviário\",\"Serviço Postal\",\"Jogos de Bingo e/ou Caça-níqueis\",\"Água e/ou Esgoto\",\"Recolhimento e Tratamento de Lixo\",\"Defensoria Pública\",\"Locação / Permissão / Concessão / Autorização / Cessão de Uso\",\"Terreno de Marinha\",\"Taxa de Ocupação\",\"Foro / Laudêmio\",\"Terras Devolutas\",\"Águas Públicas\",\"Bloqueio de Valores de Contas Públicas\",\"Alienação\",\"Ocupação\",\"Reintegração de Posse\",\"Taxa de Ocupação\",\"Terreno Aldeado\",\"Restituição de área - FUNAI\",\"Demarcação\",\"Recursos Minerais\",\"Espaço Aéreo\",\"Patrimônio Histórico / Tombamento\",\"Ordenação da Cidade / Plano Diretor\",\"Revogação/Concessão de Licença Ambiental\",\"Revogação/Anulação de multa ambiental\",\"Flora\",\"Fauna\",\"Transgênicos\",\"Agrotóxicos\",\"Unidade de Conservação da Natureza\",\"Gestão de Florestas Públicas\",\"Desapropriação\",\"Desapropriação por Utilidade Pública / DL 3.365/1941\",\"Desapropriação por Interesse Social Comum / L 4.132/1962\",\"Desapropriação por Interesse Social para Reforma Agrária\",\"Desapropriação Indireta\",\"Retrocessão\",\"Vistoria\",\"Servidão Administrativa\",\"Ocupação Temporária\",\"Limitação Administrativa\",\"Privatização\",\"Restituição de área\",\"Direito de Preempção\",\"Desapropriação de Imóvel Urbano\",\"Requisição de Bem Particular\",\"Política de Preço Mínimo\",\"Controle de Preços\",\"Controle de Abastecimento\",\"Desembaraço Aduaneiro\",\"Regime ou Certificado de Origem MERCOSUL\",\"Veículo de Turista Comunitário MERCOSUL\",\"PROAGRO\",\"Venda Casada\",\"Preços Predatórios\",\"Acordo de Exclusividade\",\"Cartel\",\"Atos de Concentração\",\"Moeda Estrangeira\",\"Cruzados Novos / Bloqueio\",\"Poupança\",\"Liberação de Conta\",\"Juros Progressivos\",\"Localização de Contas\",\"Atualização de Conta\",\"Liberação de Conta\",\"Registro Profissional\",\"Multas e demais Sanções\",\"Questões Funcionais\",\"Exame da Ordem OAB\",\"Eleições\",\"Anuidades OAB\",\"Exercício Profissional\",\"Liberação de Depósitos de Instituição Liquidanda\",\"Normatizações\",\"Remuneração de Ativos Retidos\",\"Cooperativas de Crédito\",\"Liquidação extrajudicial\",\"Fundo de Participação dos Municípios\",\"Seguro desemprego\",\"Apólices da Dívida Pública\",\"Títulos da Dívida Pública\",\"Títulos da Dívida Agrária\",\"Remuneração\",\"Afastamento\",\"Processo Disciplinar / Sindicância\",\"Promoção\",\"Remuneração\",\"Afastamento\",\"Processo Disciplinar / Sindicância\",\"Promoção\",\"Afastamento do Cargo\",\"Remuneração\",\"Recondução\",\"Prestação de Contas\",\"Indisponibilidade de Bens\",\"Afastamento do Cargo\",\"Remuneração\",\"Recondução\",\"Prestação de Contas\",\"Indisponibilidade de Bens\",\"Afastamento do Cargo\",\"Recondução\",\"Prestação de Contas\",\"Indisponibilidade de Bens\",\"Estabilidade\",\"Enquadramento\",\"Recondução\",\"Acumulação de Cargos\",\"Reintegração\",\"Direito de Greve\",\"Transferência\",\"Remoção\",\"Regime Previdenciário\",\"Anistia Administrativa\",\"Reversão\",\"Redistribuição\",\"Disponibilidade / Aproveitamento\",\"Lotação\",\"Promoção / Ascensão\",\"Readaptação\",\"Estágio Probatório\",\"Posse e Exercício\",\"Exoneração\",\"Complementação de Benefício/Ferroviário\",\"Assistência à Saúde\",\"Assistência Pré-escolar\",\"Auxílio-Natalidade\",\"Auxílio-Reclusão\",\"Auxílio-Funeral\",\"Salário-Família\",\"Provisória\",\"Concessão\",\"Restabelecimento\",\"Invalidez Permanente\",\"Compulsória\",\"Voluntária\",\"Dirigente Sindical\",\"Licença Capacitação (Aperfeiçoamento Profissional)\",\"Doença em Pessoa da Família\",\"Tratamento da Própria Saúde\",\"Gestante / Adotante / Paternidade\",\"Interesse Particular\",\"Serviço Militar\",\"Atividade Política\",\"Casamento\",\"Luto\",\"Amamentação\",\"Doação de Sangue\",\"Alistamento / Serviço Eleitoral\",\"Acompanhamento de Cônjuge ou Companheiro\",\"Exercício em Outro Município\",\"Licença por Acidente em Serviço\",\"Averbação / Contagem de Tempo Especial\",\"Averbação / Contagem Recíproca\",\"Demissão ou Exoneração\",\"Advertência\",\"Suspensão\",\"Responsabilidade Civil do Servidor Público / Indenização ao Erário\",\"Programa de Desligamento Voluntário (PDV)\",\"Jornada de Trabalho\",\"Gratificações da Lei 8.112/1990\",\"Gratificação de Incentivo\",\"Adicional de Periculosidade\",\"Adicional de Fronteira\",\"Abono Pecuniário (Art. 78 Lei 8.112/1990)\",\"Gratificação Incorporada / Quintos e Décimos / VPNI\",\"Descontos Indevidos\",\"Teto Salarial\",\"Diárias e Outras Indenizações\",\"Plano de Classificação de Cargos\",\"Data Base\",\"Adicional de Horas Extras\",\"Auxílio-Alimentação\",\"Gratificações de Atividade\",\"Auxílio-transporte\",\"Revisão Geral Anual (Mora do Executivo - inciso X, art. 37, CF 1988)\",\"Adicional de Serviço Noturno\",\"Adicional de Produtividade\",\"Gratificação Natalina/13º salário\",\"Irredutibilidade de Vencimentos\",\"Piso Salarial\",\"Índice da URV fev/1989\",\"Índice de 84,32% março/1990\",\"Índice de 45% Lei 8.237/1991\",\"Índice de 28,86% Lei 8.622/1993 e 8.627/1993\",\"Reajuste da Lei 8.270/1991\",\"Índice do IPC junho/1987\",\"Índice de 10,87% Lei 10.192/2001\",\"Índice de 47,94% Lei 8.676/1993\",\"Inclusão de Dependente\",\"Ingresso e Concurso\",\"Curso de Formação\",\"Reintegração\",\"Estabilidade\",\"Anistia Política\",\"Adidos, Agregados e Adjuntos\",\"Serviço Militar Obrigatório\",\"Ex-combatentes\",\"Promoção\",\"Serviço Militar dos Profissionais da Saúde\",\"Corpo Feminino\",\"Gratificações e Adicionais\",\"Férias\",\"Indenizações Regulares\",\"Índice de 28,86% LL 8.622/1993 e 8.627/1993\",\"Índice da URV Lei 8.880/1994\",\"Índice do IPC  junho/1987\",\"Índice de 84,32% IPC março/1990\",\"Índice da URP abril e maio/1988 DL 2.425/1988\",\"Reforma\",\"Licenças\",\"Agregação\",\"Reserva Remunerada\",\"Transferência ex-officio para reserva\",\"Tempo de Serviço\",\"Transferência para reserva\",\"Assistência Médico-Hospitalar\",\"Licença Prêmio\",\"Licenciamento\",\"Concessão\",\"Restabelecimento\",\"Provisória\",\"Advertência / Repreensão\",\"Impedimento / Detenção / Prisão\",\"Licenciamento / Exclusão\",\"Suspensão\",\"Reserva de Vagas para Deficientes\",\"Inscrição / Documentação\",\"Limite de Idade\",\"Exigência de Prática Forense\",\"Prova de Títulos\",\"Exame de Saúde e/ou Aptidão Física\",\"Curso de Formação\",\"Exame Psicotécnico / Psiquiátrico\",\"Anulação e Correção de Provas / Questões\",\"Escolaridade\",\"Classificação e/ou Preterição\",\"Anulação\",\"Prazo de Validade\",\"Condições Especiais para Prestação de Prova\",\"Modalidade / Limite / Dispensa / Inexigibilidade\",\"Habilitação / Registro Cadastral / Julgamento / Homologação\",\"Edital\",\"Revogação\",\"Sanções Administrativas\",\"Recursos Administrativos\",\"Convênio\",\"Adjudicação\",\"Ambiental\",\"Sanitárias\",\"Metrológica\",\"Profissional\",\"Segurança e/ou Medicina do Trabalho\",\"Taxa de Ocupação / Laudêmio / Foro\",\"Cessão de créditos não-tributários\",\"Contribuição Sindical\",\"Eleições Sindicais\",\"Registro Sindical\",\"Dilação e Extensão de Base Territorial\",\"Filiação\",\"Contrato Temporário de Mão de Obra L 8.745/1993\",\"Admissão / Permanência / Despedida\",\"Quebra de Sigilo Bancário / Fiscal / Telefônico\",\"Criação / Instalação / Prosseguimento / Encerramento\",\"Limites dos Poderes de Investigação\",\"Limites do Objeto\",\"CNH - Carteira Nacional de Habilitação\",\"Liberação de Veículo Apreendido\",\"Licenciamento de Veículo\",\"Pagamento Atrasado / Correção Monetária\",\"Anulação\",\"Suspensão\",\"Rescisão\",\"Prorrogação\",\"Termo Aditivo\",\"Penalidades\",\"Execução Contratual\",\"Equilíbrio Financeiro\",\"Erro Médico\",\"Acidente de Trânsito\",\"Lei de Imprensa\",\"Direito de Imagem\",\"Dano Ambiental\",\"Erro Médico\",\"Acidente de Trânsito\",\"Lei de Imprensa\",\"Direito de Imagem\",\"Esbulho / Turbação / Ameaça\",\"Imissão\",\"Aquisição\",\"Perda da Propriedade\",\"Adjudicação Compulsória\",\"Divisão e Demarcação\",\"Reivindicação\",\"Retificação de Área de Imóvel\",\"Alienação Judicial\",\"Acessão\",\"Usucapião Especial (Constitucional)\",\"Usucapião Extraordinária\",\"Usucapião Ordinária\",\"Usucapião Especial Coletiva\",\"Direito de Vizinhança\",\"Condomínio\",\"Administração\",\"Alteração de Coisa Comum\",\"Assembléia\",\"Despesas Condominiais\",\"Direitos / Deveres do Condômino\",\"Vaga de garagem\",\"Incorporação Imobiliária\",\"Propriedade Resolúvel\",\"Propriedade Fiduciária\",\"Enfiteuse\",\"Servidão\",\"Usufruto\",\"Superfície\",\"Uso\",\"Habitação\",\"Rural - Agrícola/Pecuário\",\"Industrial / Mercantil\",\"Direitos e Títulos de Crédito\",\"Veículos\",\"Legal\",\"Hipoteca\",\"Anticrese\",\"Promessa de Compra e Venda\",\"Subsídios\",\"Programa de Computador\",\"Usucapião da L 6.969/1981\",\"Crédito Rural\",\"Erro Médico\",\"Acidente de Trânsito\",\"Variação Cambial\",\"Maus Tratos\",\"Exposição ou Abandono de Recém Nascido\",\"Responsabilidade Civil do Militar - Indenização ao Erário\",\"Utilização de Embrião Humano em Desacordo com a Legislação\",\"Prática de engenharia genética em célula germinal, zigoto ou embrião humanos\",\"Clonagem Humana\",\"Despenalização / Descriminalização\",\"Livros / Jornais / Periódicos\",\"Entidades Sem Fins Lucrativos\",\"Partidos Políticos\",\"Imunidade Recíproca\",\"ICMS / Incidência Sobre o Ativo Fixo\",\"Incidência sobre Auxílio-condução\",\"Incidência sobre Auxílio-creche\",\"Taxa de Limpeza Pública\",\"Taxa de Iluminação Pública\",\"Taxa de Coleta de Lixo\",\"Taxa de Prevenção e Combate a Incêndio\",\"Taxa de Licenciamento de Estabelecimento\",\"Capacidade Tributária\",\"Competência Tributária\",\"Depósito Judicial\",\"Constitucionalidade do artigo 4º da LC 118/05\",\"Constitucionalidade do artigo 46 da Lei 8212/91\",\"Decretação de Ofício\",\"Arquivamento Administrativo - Crédito de Pequeno Valor\",\"Despacho de Citação\",\"Constitucionalidade do artigo 45 da Lei 8212/91\",\"Exclusão - ICMS\",\"Exclusão - IPI\",\"Exclusão - Receitas Provenientes de Exportação\",\"Quebra de Sigilo Bancário\",\"PIS - Importação\",\"COFINS - Importação\",\"Compensação de Prejuízo\",\"Contribuição Sindical Rural\",\"Contribuição Sindical Rural\",\"Aposentadoria por Invalidez Acidentária\",\"Rural\",\"FGTS\",\"Acidente de Trabalho\",\"Termo de Adesão da LC 110/2001\",\"Rescisão / Resolução\",\"Capitalização / Anatocismo\",\"Limitação de Juros\",\"Proteção da Intimidade e Sigilo de Dados\",\"Vícios de Construção\",\"Juros Compensatórios\",\"Resgate de Contribuição\",\"Inclusão de Dependente\",\"Desconto em folha de pagamento\",\"Remuneração Mínima\",\"Multa\",\"Auxílio-invalidez\",\"Cobrança indevida de ligações\",\"Quesitos\",\"Impedimento\",\"Suspeição\",\"Condicional do processo\",\"Parcelamento de crédito tributário\",\"Competência do MP\",\"Cerceamento de Defesa\",\"Quebra do Sigilo Bancário\",\"Quebra do Sigilo Fiscal\",\"Quebra do Sigilo Telefônico\",\"Trancamento\",\"Abolitio Criminis\",\"Princípio da Insignificância\",\"Legítima Defesa\",\"Estado de Necessidade\",\"Estrito Cumprimento do Dever Legal\",\"Inexigibilidade de Conduta Diversa\",\"Prescrição\",\"Perdão\",\"Anistia\",\"Indulto\",\"Pagamento ou Parcelamento do Crédito Tributário\",\"Substituição da Pena\",\"Transação\",\"Desaforamento\",\"Prisão Temporária\",\"Regime inicial\",\"Suspensão condicional da pena\",\"Livramento condicional\",\"Remição\",\"Acumulação de Proventos\",\"Prisão Decorrente de Sentença Condenatória\",\"Penas do Código Penal Militar\",\"Perda da Função Pública\",\"Perda de Bens e Valores\",\"Inconstitucionalidade Material\",\"Processo Legislativo\",\"Competência dos Juizados Especiais\",\"Competência da Justiça do Trabalho\",\"Competência da Justiça Federal\",\"Competência da Justiça Estadual\",\"Honorários Advocatícios\",\"Honorários Advocatícios em Execução Contra a Fazenda Pública\",\"Honorários Advocatícios em FGTS\",\"Custas\",\"Suspeição\",\"Impedimento\",\"Incidência sobre Abono de Permanência\",\"Abono de Permanência\",\"Regularidade Formal\",\"Fac-símile\",\"Protocolo Integrado / Descentralizado\",\"Obrigação de Fazer / Não Fazer\",\"Requisição de Pequeno Valor - RPV\",\"Quinto Constitucional\",\"Imissão na Posse\",\"Busca e Apreensão\",\"Sequestro de Verbas Públicas\",\"Fracionamento\",\"Crédito Complementar\",\"Aposentadoria / Pensão Especial\",\"Fato Superveniente ao Término do Prazo para Impugnação\",\"Juros\",\"Correção Monetária\",\"Multa Cominatória / Astreintes\",\"Taxa SELIC\",\"Correção da Tabela\",\"IPMF - Imposto Provisório sobre Movimentação Financeira\",\"Questão Prejudicial\",\"Tribunal de Contas\",\"Cargo em Comissão\",\"Professor\",\"Procuradores de Órgãos / Entidades Públicos\",\"Serventuários da Justiça\",\"Extensão de Vantagem aos Inativos\",\"Contagem em Dobro\",\"Pagamento em Pecúnia\",\"Índice de 3,17%\",\"Índice de 11,98%\",\"Subteto Salarial\",\"Gratificações Municipais Específicas\",\"Gratificação de Encargos Especiais - GEE\",\"Gratificação de Estímulo à Produção Individual - GEPI\",\"Gratificação Estadual - AM\",\"Adicional de Etapa Alimentar\",\"Gratificação de Suporte às Atividades Escolares - GSAE\",\"Gratificação por Trabalho Educacional - GTE\",\"Gratificação de Suporte Administrativo - GASA\",\"Gratificação-Prêmio\",\"Gratificação Complementar de Vencimento\",\"Gratificação de Desempenho de Atividade Técnico Administrativa - GDATA\",\"Gratificação de Desempenho de Atividade Tributária - GDAT\",\"Gratificação de Desempenho de Atividade de Fiscalização Agropecuária - GDAFA\",\"Gratificação de Desempenho de Atividade Jurídica - GDAJ\",\"Gratificação de Atividade - GATA\",\"Gratificação de Incentivo à Docência - GID\",\"Gratificação de Produção Suplementar - GPS\",\"Gratificação Eleitoral\",\"Gratificação de Inatividade\",\"Gratificação Extraordinária - GE\",\"Gratificação de Desempenho de Função - GADF\",\"Adicional de Desempenho\",\"Adicional de Sexta-Parte\",\"Verba de Representação\",\"Extensão de Vantagem aos Inativos\",\"Nulidade - Não Observância da Reserva de Plenário\",\"Ausência de Interesse Processual\",\"Ausência de Pressupostos de Constituição e Desenvolvimento\",\"Sobrestamento\",\"Criação do Partido Político\",\"Registro do Partido Político\",\"Extinção do Partido Político\",\"Filiação partidária\",\"Convenção para escolha de candidatos\",\"Inscrição fraudulenta\",\"Calúnia\",\"Difamação\",\"Injúria\",\"Captação ilícita de votos ou corrupção eleitoral\",\"Aliciamento eleitoral\",\"Falso eleitoral\",\"Desobediência à determinações da Justiça Eleitoral\",\"Boca de urna\",\"Indução à inscrição indevida\",\"Fidelidade partidária\",\"Plebiscito\",\"Referendo popular\",\"Sistema Majoritário / Proporcional\",\"fixação\",\"aumento\",\"redução\",\"Domicílio eleitoral\",\"Isenção do dever eleitoral\",\"Justificação de ausência de voto\",\"Cancelamento da inscrição de eleitor\",\"Desincompatibilização do candidato\",\"Inelegibilidade\",\"Reeleição\",\"Cassação do registro da candidatura\",\"Anistia\",\"Propaganda eleitoral\",\"Direito de resposta\",\"Prestação de contas\",\"Pesquisa eleitoral\",\"Abuso do poder econômico\",\"Abuso do poder político (uso indevido dos meios de comunicação)\",\"Uso de bem público\",\"Sistema eletrônico de votação\",\"Sigilo na votação\",\"Apuração/recontagem de votos\",\"Nulidade da votação\",\"Quociente eleitoral\",\"Transporte em dia de eleição\",\"Boca de urna\",\"Cassação do diploma\",\"Sustação da diplomação\",\"Prestação de contas\",\"Declaração de inelegibilidade\",\"Impugnação de mandato eletivo\",\"Perda do mandato\",\"Recondução\",\"Suspensão de mandato\",\"Convocação de suplente\",\"Renúncia\",\"Afastamento do cargo\",\"Cassação de mandato\",\"Por cumulação de cargos\",\"Por condenação criminal\",\"Por suspensão dos direitos políticos\",\"Desordem eleitoral\",\"Falsificação de documento público para fins eleitorais\",\"Uso de documento falso\",\"Obtenção de documento falso\",\"Aliciamento de eleitores\",\"Divulgação de pesquisa de fraudulenta\",\"Impedimento à fiscalização das pesquisas\",\"Publicação de pesquisa irregular\",\"Uso de símbolos governamentais em propaganda eleitoral\",\"Coação eleitoral\",\"Aliciamento violento de eleitores\",\"Aliciamento comercial de eleitores\",\"Ocultação de urna\",\"Motim\",\"Pederastia ou outro ato de libidinagem\",\"Estelionato\",\"Incêndio\",\"Peculato\",\"Concussão\",\"Corrupção ativa\",\"Prevaricação\",\"Deserção\",\"Lesão levíssima\",\"Difamação\",\"Injúria\",\"Homicídio simples\",\"Homicídio qualificado\",\"Leve\",\"Grave\",\"Lesões qualificadas pelo resultado\",\"Roubo simples\",\"Roubo qualificado\",\"Latrocínio\",\"Auditores Fiscais\",\"Comissão de Permanência\",\"Prescrição por Médico não vinculado ao SUS\",\"Gratificação de Desempenho de Atividade de Seguridade Social e do Trabalho - GDASST\",\"Gratificação de Desempenho de Atividade de Ciência e Tecnologia - GDACT\",\"Alimentos\",\"Depositário Infiel\",\"Alienação Fiduciária\",\"Proibição de Privilégio Fiscal às Empresas Públicas e Sociedades de Economia Mista\",\"Ausência de Legitimidade para propositura de Ação Civil Pública\",\"Crimes Hediondos\",\"Cerceamento de Defesa\",\"Ausência de Publicidade\",\"Ausência de Fundamentação\",\"Criação / Extinção / Reestruturação de Orgãos ou Cargos Públicos\",\"Parcela Incontroversa\",\"Cancelamento / Duplicidade de CPF\",\"Não Cumulatividade\",\"Nao Cumulatividade\",\"Não Cumulatividade\",\"Não Cumulatividade\",\"Base de Cálculo\",\"Policiais Civis\",\"Limite de Renda Familiar\",\"Cumprimento Provisório de Sentença\",\"Nepotismo\",\"Fruição / Gozo\",\"Indenização / Terço Constitucional\",\"Liquidação Parcelada\",\"Nulidade do Decreto que autoriza a desapropriação\",\"Ausência de Cobrança Administrativa Prévia\",\"Inscrição Indevida no CADIN\",\"Efeitos da Declaração de Inconstitucionalidade\",\"Vício Formal do Julgamento\",\"Habeas Corpus - Cabimento\",\"Medicamento / Tratamento / Cirurgia de Eficácia não comprovada\",\"Base de Cálculo\",\"Abuso de Poder\",\"Competência dos Juizados Especiais\",\"Competência da Justiça Federal\",\"Competência da Justiça Estadual\",\"Competência por Prerrogativa de Função\",\"Competência por Prerrogativa de Função\",\"Excesso de prazo para instrução / julgamento\",\"Incidência sobre desconto incondicional\",\"Prisão Domiciliar / Especial\",\"Passe livre em transporte\",\"Regressão de Regime\",\"Transferência de Preso\",\"Execução Penal Provisória - Cabimento\",\"Imunidade em razão de função, ofício ou profissão\",\"Transferência de Unidade\",\"Indisponibilidade / Seqüestro de Bens\",\"Busca e Apreensão de Bens\",\"Aborto provocado pela gestante ou com o seu consentimento\",\"Aborto provocado por terceiro\",\"Aborto qualificado\",\"Restituição de Criança, Convenção de Haia 1980\",\"Cobrança de Multa Moratória de Massa Falida\",\"Cobrança de Juros Moratórios de Massa Falida\",\"Depósito Elisivo\",\"Prova Ilícita\",\"Competência do Órgão Fiscalizador\",\"Criação\",\"Desmembramento\",\"Desclassificação\",\"Guarda com genitor ou responsável no exterior\",\"Citação\",\"Intimação / Notificação\",\"Depoimento\",\"Viagem Nacional\",\"Expurgos Inflacionários / Planos Econômicos\",\"Correção Monetária de Diferenças Pagas em Atraso\",\"Princípio da Seletividade\",\"Violência Doméstica Contra a Mulher\",\"Violência Doméstica Contra a Mulher\",\"Crime / Contravenção contra Criança / Adolescente\",\"Crime / Contravenção contra Idoso\",\"Fato Atípico\",\"Criação de Dotação Orçamentária\",\"Repasse de Duodécimos\",\"Repasse de Verbas Públicas\",\"Crédito Suplementar\",\"Exclusão - Receitas Transferidas a outras Pessoas Jurídicas\",\"Lavagem ou Ocultação de Bens, Direitos ou Valores Oriundos de Corrupção\",\"Lavagem ou Ocultação de Bens, Direitos ou Valores Oriundos de Corrupção\",\"Lavagem ou Ocultação de Bens, Direitos ou Valores Oriundos de Corrupção\",\"Crimes contra a Ordem Tributária praticado por Funcionário Público\",\"Crime contra a administração ambiental\",\"Tráfico Ilícito de Drogas praticado por Funcionário Público\",\"Má -gestão praticada por Prefeitos e Vereadores\",\"Má-gestão praticada por Prefeitos e Vereadores\",\"Corrupção Praticada por Prefeitos e Vereadores\",\"Adulteração de Sinal Identificador de Veículo Automotor por Funcionário Público\",\"Petrechos de Falsificação de Papéis Públicos por Funcionário Público\",\"Petrechos para falsificação de moeda por Funcionário Público\",\"Falsidade ideológica praticada por Funcionário Público\",\"Falsificação de documento público praticada por Funcionário Público\",\"Falsificação de documento Público praticada por Funcionário Público\",\"Conversão em Agravo Retido\",\"Cobrança de Aluguéis - Sem despejo\",\"Consignação de Chaves\",\"Falsificação do Selo ou Sinal Público Praticado por Funcionário Público\",\"Falsificação de Papéis Públicos Praticado por Funcionário Público\",\"Crime de Desvio e/ou Circulação de Moeda Não Autorizada\",\"Crime de Moeda Falsa Praticado por Funcionário Público\",\"Competência da Justiça Militar da União\",\"Competência da Justiça Militar dos Estados\",\"Menagem\",\"Competência da Justiça Militar da União\",\"Competência da Justiça Militar Estadual\",\"Cassação de licença para direção de veículo motorizado\",\"Confisco\",\"Exílio local\",\"Interdição de estabecimento  ou associação\",\"Proibição de frequentar determinados locais\",\"Suspensão do exercício do posto, graduação, cargo ou função\",\"Representação do Corregedor\",\"Requerimento da Parte\",\"Irregularidade na composição do Conselho\",\"Crime Culposo\",\"Crime em tempo de guerra\",\"Crime Tentado\",\"Livramento Condicional\",\"Suspensão Condicional da Pena\",\"Abolitio criminis\",\"Princípio da Insignificância\",\"Exclusão das Forças Armadas\",\"Inabilitação para o exercício de Função Pública\",\"Incompatibilidade para o Oficialato\",\"Indignidade para o Oficialato\",\"Perda da Função Pública\",\"Perda da Graduação das Praças\",\"Perda do Posto e da Patente\",\"Suspensão do pátrio poder, tutela ou curatela\",\"Suspensão dos direitos políticos\",\"Anistia\",\"Indulto\",\"Morte do Agente\",\"Prescrição\",\"Reabilitação\",\"Ressarcimento do Dano\",\"Estado de Necessidade\",\"Estado de Necessidade exculpante\",\"Estrito Cumprimento do Dever Legal\",\"Exercício Regular do Direito\",\"Inexigibilidade de Conduta Diversa\",\"Legítima Defesa\",\"Perda em favor da Fazenda Pública\",\"Reparação do Dano\",\"Conversão da Pena\",\"Substituição da Pena\",\"Criação ou simulação de incapacidade física\",\"Favorecimento a convocado\",\"Insubmissão\",\"Insubmissão privilegiada\",\"Substituição de convocado\",\"Exercício de comércio por oficial\",\"Concerto para deserção\",\"Deserção\",\"Deserção - casos assimilados\",\"Deserção especial\",\"Deserção por evasão ou fuga\",\"Deserção privilegiada\",\"Deserção qualificada\",\"Favorecimento a desertor\",\"Omissão de Oficial\",\"Abandono de posto\",\"Descumprimento de missão\",\"Dormir em serviço\",\"Embriaguez em serviço\",\"Omissão de eficiência da força\",\"Omissão de providências para evitar danos\",\"Omissão de providências para salvar comandados\",\"Omissão de socorro\",\"Retenção indevida\",\"Alteração de Limites\",\"Aposição, supressão ou alteração de marca\",\"Usura pecuniária\",\"Chantagem\",\"Extorsão\",\"Extorsão indireta\",\"Extorsão mediante sequestro\",\"Latrocínio\",\"Roubo\",\"Roubo qualificado\",\"Receptação\",\"Furto\",\"Furto de uso\",\"Furto qualificado\",\"Abuso de pessoa\",\"Estelionato\",\"Dano atenuado\",\"Dano em aparelhos e instalações\",\"Dano em navio de guerra ou mercante em serviço militar\",\"Dano material ou aparelhamento de guerra\",\"Dano qualificado\",\"Dano simples\",\"Desaparecimento,consunção ou extravio\",\"Apropriação de coisa achada\",\"Apropriação de coisa havida acidentalmente\",\"Apropriação indébita\",\"Abuso de radiação\",\"Desabamento ou desmoronamento\",\"Difusão de epizootia ou praga vegetal\",\"Embriaguez ao volante\",\"Emprego de gás tóxico ou asfixiante\",\"Explosão\",\"Fatos que expõem a perigo aparelhamento militar\",\"Fuga após acidente de trânsito\",\"Incêndio\",\"Inundação\",\"Perigo de inundação\",\"Perigo resultante de violação de regra de trânsito\",\"Subtração, ocultação ou inutilização de material de socorro\",\"Arremesso de projétil\",\"Atentado contra serviço de utilidade militar\",\"Atentado contra transporte\",\"Atentado contra viatura ou outro meio de transporte\",\"Interrupção ou perturbação de serviço ou meio de comunicação\",\"Perigo de desastre ferroviário\",\"Corrupção ou poluição de água potável\",\"Envenenamento com perigo extensivo\",\"Epidemia\",\"Fornecimento de substância alterada\",\"Fornecimento de substancia nociva\",\"Omissão de notificação de doença\",\"Receita Ilegal\",\"Tráfico, posse ou uso de entorpecente ou substância de efeito similar\",\"Atos de jurisdição indevida\",\"Consecução de notícia, informação ou documento para fim de espionagem\",\"Desenho ou levantamento de plano ou planta de local militar\",\"Entendimento para empenhar o Brasil à neutralidade ou à guerra\",\"Entendimento para gerar conflito ou divergência com o Brasil\",\"Hostilidade contra país estrangeiro\",\"Hostilidade qualificada pelo resultado\",\"Penetração com o fim de espionagem\",\"Provocação a país estrangeiro\",\"Revelação de notícia, informação ou documento\",\"Revelação de notícia, informação ou documento, com o fim de espionagem militar\",\"Sobrevôo em local interdito\",\"Tentativa contra a soberania do Brasil\",\"Turbação de objeto ou documento\",\"Violação de território estrangeiro\",\"Ato obsceno\",\"Escrito ou objeto obsceno\",\"Abandono de pessoa\",\"Abandono de pessoa seguida de morte ou lesão grave\",\"Maus tratos\",\"Maus tratos seguido de morte ou lesão grave\",\"Lesão grave\",\"Lesão leve\",\"Lesão levíssima\",\"Lesão privilegiada\",\"Lesão seguida de morte\",\"Participação em rixa\",\"Homicídio\",\"Homicidio qualificado\",\"Homicido privilegiado\",\"Provocação direta ou auxílio a suicídio\",\"Provocação indireta ao suicídio\",\"Genocídio\",\"Atentado violento ao pudor\",\"Corrupção de menores\",\"Estupro\",\"Ato Libidinoso\",\"Ameaça\",\"Constragimento ilegal\",\"Desafio para duelo\",\"Divulgação de segredo\",\"Sequestro ou cárcere privado\",\"Violação de correspondência\",\"Violação de domicílio\",\"Violação de recato\",\"Violação de segredo profissional\",\"Calúnia\",\"Difamação\",\"Injúria\",\"Injuria real\",\"Ofensa às forças armadas\",\"Violência contra militar de serviço\",\"Violência contra superior\",\"Abuso de requisição militar\",\"Assunção de comando sem ordem ou autorização\",\"Conservação ilegal de comando\",\"Ofensa aviltante a inferior\",\"Operação militar sem ordem superior\",\"Ordem arbitrária de invasão\",\"Rigor excessivo\",\"Uso indevido de uniforme, distintivo ou insígnia militar por qualquer pessoa\",\"Uso indevido por militar de uniforme, distintivo ou insígnia\",\"Violência contra inferior\",\"Resistência mediante ameaça ou violência\",\"Conspiração\",\"Motim\",\"Omissão de lealdade militar\",\"Organização de grupo para prática de violência\",\"Revolta\",\"Oposição a ordem de sentinela\",\"Publicação ou crítica indevida\",\"Recusa a obediência\",\"Reunião ilícita\",\"Amotinamento\",\"Arrebatamento de preso ou internado\",\"Evasão de preso ou internado\",\"Fuga de preso ou internado\",\"Aliciação para motim ou revolta\",\"Apologia de fato criminoso ou do seu autor\",\"Incitamento\",\"Despojamento desprezível\",\"Desrespeito a comandante, oficial-general ou oficial de serviço\",\"Desrespeito a símbolo nacional\",\"Desrespeito a superior\",\"Peculato\",\"Peculato mediante aproveitamento ou erro de outrem\",\"Peculato-furto\",\"Certidão ou atestado ideologicamente falso\",\"Cheques sem fundos\",\"Falsa identidade\",\"Falsidade ideológica\",\"Falsificação de documento\",\"Supressão de documento\",\"Uso de documento falso\",\"Uso de documento pessoal alheio\",\"Desacato a assemelhado ou funcionário\",\"Desacato a militar\",\"Desacato a superior\",\"Desobediência\",\"Ingresso clandestino\",\"Impedimento, perturbação ou fraude de concorrencia\",\"Inutilização de edital ou de sinal oficial\",\"Subtração ou inutilização de livro, processo ou documento\",\"Tráfico de influência\",\"Usurpação de função\",\"Abandono de cargo\",\"Abuso de confiança ou boa fé\",\"Aplicação ilegal de verba ou dinheiro\",\"Condescendência criminosa\",\"Exercício funcional ilegal\",\"Extravio, sonegação ou inutilização de livro ou documento\",\"Inobservancia de lei, regulamento ou instrução\",\"Não inclusão de nome em lista\",\"Obstáculo à hasta pública, concorrência ou tomada de preços\",\"Patrocínio indébito\",\"Prevaricação\",\"Violação de sigilo de proposta de concorrência\",\"Violação de sigilo funcional\",\"Violação do dever funcional com o fim de lucro\",\"Violação ou divulgação indevida de correspondência ou comunicação\",\"Violência arbitrária\",\"Corrupção ativa\",\"Corrupção passiva\",\"Participação ilícita\",\"Concussão\",\"Desvio\",\"Excesso de exação\",\"Auto-acusação falsa\",\"Coação\",\"Comunicação falsa de crime\",\"Corrupção ativa de testemunha, perito ou intérprete\",\"Denunciação caluniosa\",\"Desacato\",\"Desobediência a decisão judicial\",\"Desobediência a decisão sobre perda ou suspensão de atividade ou direito\",\"Exploração de prestígio\",\"Falso testemunho ou falsa perícia\",\"Favorecimento pessoal\",\"Favorecimento real\",\"Inutilização,sonegação ou descaminho de material probante\",\"Publicidade opressiva\",\"Recusa de função na Justiça Militar\",\"Advertência\",\"Internação com atividades externas\",\"Internação sem atividades externas\",\"Liberdade assistida\",\"Obrigação de reparar o dano\",\"Prestação de serviços à comunidade\",\"Semiliberdade\",\"Crimes contra portadores de deficiência\",\"Conflito fundiário coletivo rural\",\"Conflito fundiário coletivo urbano\",\"Crime/contravenção decorrente de conflito fundiário coletivo\",\"Violação sexual mediante fraude\",\"Estupro de vulnerável\",\"Satisfação de lascívia mediante presença de criança ou adolescente\",\"Favorecimento da prostituição ou outra forma de exploração sexual de vulnerável\",\"Favorecimento da prostituição ou outra forma de exploração sexual\",\"Tráfico internacional de pessoa para fim de exploração sexual\",\"Tráfico interno de pessoa para fim de exploração sexual\",\"Intervenção Indevida de Autoridade Junto à Mesa Receptora\",\"Não Observância de Chamamento de Eleitores para Votar\",\"Práticas Irregulares que Determinam a Anulação da Votação\",\"Votação de Eleitor na Seção Eleitoral na qual Não Está Inscrito ou Autorizado a Votar\",\"Contagem de Votos de Eleitores em Relação aos quais Houve Impugnação\",\"Fabricação, Aquisição, Fornecimento, Subtração ou Guarda de Materiais de Uso da Justiça Eleitoral\",\"Inscrição Fraudulenta\",\"Induzimento à Inscrição de Eleitor em Infração às Normas Legais\",\"Inscrição Fraudulenta Efetivada pelo Juiz\",\"Negativa ou Retardamento de Inscrição sem Fundamento Legal\",\"Perturbação ou Impedimento de Alistamento\",\"Promoção de Desordem nos Trabalhos Eleitorais\",\"Majoração de Preços de Utilidade e Serviços Necessários à Realização das Eleições\",\"Ocultação, Sonegação ou Recusa de Fornecimento de Utilidades, Alimentos e Transporte no Dia da Eleição\",\"Retardamento ou Não-Publicação de Decisões, Citações ou Intimações da Justiça Eleitoral\",\"Não-Apresentação de Denúncia ou Não Execução de Sentença Penal Condenatória no Prazo Legal\",\"Não Cumprimento, pela Autoridade Judiciária, do Dever de Representar Contra o Órgão do Ministério que Não Oferece Denúncia no Prazo Legal\",\"Recusa ou Abandono do Serviço Eleitoral\",\"Não Cumprimento dos Deveres Impostos pelo Código Eleitoral à Autoridade Judiciária e aos Funcionários da Justiça Eleitoral\",\"Utilização de Prédios ou Serviços de Repartições Públicas para Beneficiar Partido ou Organização de Caráter Político\",\"Desobediência a Ordens ou Instruções da Justiça Eleitoral\",\"Descumprimento do Dever de Informar o Número, Espécie e Lotação de Veículos e Embarcações\",\"Desatendimento à Requisição de Veículo ou Embarcação\",\"Descumprimento da Proibição de Fornecimento de Transporte ou Refeições a Eleitores\",\"Estupro de Vulnerável\",\"Favorecimento de Prostituição ou Outra Forma de Exploração Sexual\",\"Favorecimento de Prostituição ou Outra Forma de Exploração Sexual de Vulnerável\",\"Satisfação de Lascívia Mediante Presença de Criança ou Adolescente\",\"Tráfico Interno de Pessoa para Fim de Exploração Sexual\",\"Violação Sexual Mediante Fraude\",\"Obstamento do Transporte e Fornecimento de Alimentos a Eleitores pela Justiça Eleitoral\",\"Utilização de Veículos e Embarcações Públicas em Campanha Eleitoral\",\"Dano a Equipamento Eleitoral\",\"Omissão na Expedição de Boletim de Apuração\",\"Omissão no Recolhimento das Cédulas Apuradas, no Fechamento e Lacração da Urna\",\"Alteração do Resultado de Votação nos Mapas ou Boletins de Apuração\",\"Omissão no Recebimento e Registro de Protestos, bem como, de sua Remessa à Instância Superior\",\"Falsificação ou Alteração de Documento Público para Fins Eleitorais\",\"Falsidade Ideológica\",\"Reconhecimento Indevido de Firma ou Letras para Fins Eleitorais\",\"Uso de Documento Falso para Fins Eleitorais\",\"Obtenção de Documento Falso para Fins Eleitorais\",\"Omissão da Entrega do Boletim de Urna\",\"Obtenção de Acesso a Sistema de Dados Eleitorais\",\"Destruição de Dados Eleitorais\",\"Cerceamento da Fiscalização Partidária\",\"Recusa de Entrega de Boletim\",\"Divulgação de Fatos Inverídicos na Propaganda Eleitoral\",\"Calúnia na Propaganda Eleitoral\",\"Divulgação de Falsa Imputação\",\"Difamação na Propaganda Eleitoral\",\"Injúria na Propaganda Eleitoral\",\"Injúria Eleitoral Violenta\",\"Inutilização, Alteração ou Perturbação de Propaganda\",\"Impedimento do Exercício da Propaganda\",\"Utilização de Organização Comercial para Propaganda ou Aliciamento de Eleitores\",\"Realização de Propaganda Eleitoral em Língua Estrangeira\",\"Participação de Pessoa Não Detentora de Direitos Políticos em Atividades Partidárias e de Propaganda Eleitoral\",\"Autorização de Transmissão de Pessoa Não Detentora de Direitos Políticos em Atividades Partidárias e de Propaganda Eleitoral\",\"Pesquisa Fraudulenta\",\"Uso, na Propaganda Eleitoral, de Símbolo de Órgãos de Governo\",\"Retenção de Título Eleitoral ou do Comprovante de Alistamento Eleitoral\",\"Impedimento ou Embaraço ao Exercício do Sufrágio\",\"Prisão ou Detenção do Eleitor, Membro de Mesa Receptora, Fiscal, Delegado de Partido ou Candidato, Fora das Hipóteses Legais Permitidas\",\"Corrupção Eleitoral\",\"Coação Visando a Obtenção de Voto ou a sua Abstenção\",\"Violência ou Grave Ameaça Visando a Obtenção de Voto ou a sua Abstenção\",\"Concentração de Eleitores para Embaraçar ou Fraudar o Exercício do Voto\",\"Fornecimento ao Eleitor de Cédula Oficial Já Assinalada ou Marcada\",\"Fornecimento de Cédula Eleitoral Rubricada a Destempo\",\"Votação Múltipla ou Realizada em Lugar de Outrem\",\"Violação do Sigilo do Voto\",\"Violação do Sigilo da Urna ou dos Invólucros\",\"Destruição, Supressão ou Ocultação de Urna Contendo Votos ou Documentos Eleitorais\",\"Destruição de Relação de Candidatos\",\"Uso Proibido de Alto-Falantes\",\"Arregimentação de Eleitor ou Boca de Urna\",\"Divulgação de Propaganda Eleitoral no Dia da Eleição\",\"Retenção de Título ou Comprovante de Alistamento Eleitoral\",\"Subscrição de Mais de Uma Ficha de Filiação Partidária\",\"Subscrição de Mais de Uma Ficha de Filiação Partidária\",\"Inscrição Simultânea em Dois ou Mais Partidos\",\"Coleta de Assinatura em Mais de Uma Ficha de Registro Partidário\",\"Preterição à Prioridade Postal\",\"Arguição de Ineligibilidade Temerária ou de Má-Fé\",\"Não-Acesso dos Partidos aos Dados Relativos às Pesquisas Eleitorais\",\"Irregularidades dos Dados Publicados em Pesquisas Eleitorais\",\"Conduta Vedada a Agente Público\",\"Improbidade Administrativa\",\"Descumprimento de Prazos Eleitorais\",\"Garantia de Autoridade de Decisão do Tribunal\",\"Afastamento de Magistrado\",\"Designação de Juiz Eleitoral\",\"Lista Tríplice\",\"Concurso Público\",\"Remoção de Servidor\",\"Requisição de Servidor\",\"Requisição de Servidor - Renovação de Requisição de Servidor\",\"Requisição de Força Federal\",\"Alistamento Eleitoral - Cancelamento\",\"Alistamento Eleitoral - Domicílio Eleitoral\",\"Alistamento Eleitoral - Duplicidade/Pluralidade\",\"Alistamento Eleitoral - Exclusão\",\"Alistamento Eleitoral - Inscrição Eleitoral\",\"Impugnação - Inscrição Eleitoral\",\"Impugnação - Transferência de Domicílio Eleitoral\",\"Condição de Elegibilidade - Alistamento Eleitoral\",\"Condição de Elegibilidade - Domicílio Eleitoral na Circunscrição\",\"Condição de Elegibilidade - Idade Mínima\",\"Condição de Elegibilidade - Filiação Partidária\",\"Condição de Elegibilidade - Nacionalidade Brasileira\",\"Condição de Elegibilidade - Pleno Exercício dos Direitos Políticos\",\"Condição de Elegibilidade - Quitação Eleitoral\",\"Direito de Resposta\",\"Identificação Numérica de Candidato\",\"Inelegibilidade - Abuso do Poder Econômico ou Político\",\"Inelegibilidade - Analfabetismo\",\"Inelegibilidade - Condenação Criminal por órgão colegiado ou Transitada em Julgado\",\"Inelegibilidade - Declaração de Indignidade ou de Incompatibilidade com o Oficialato\",\"Inelegibilidade - Desincompatibilização\",\"Inelegibilidade - Inalistável\",\"Inelegibilidade - Parentesco\",\"Inelegibilidade - Reeleição\",\"Inelegibilidade - Rejeição de Contas Públicas\",\"Inelegibilidade - Representação ou Ação de Investigação Judicial Eleitoral Jugada Procedente pela Justiça Eleitoral\",\"Inelegibilidade - Terceiro Mandato\",\"Inelegibilidade - Vida Pregressa\",\"Inelegibilidade - Vínculo Afetivo\",\"Inelegibilidade - Vínculo Conjugal\",\"Inelegibilidade - Vínculo em União Estável\",\"Nome do Candidato - Homonímia\",\"Nome do Candidato - Variação Nominal\",\"Prestação de Contas - De Candidato\",\"Impugnação ao Registro de Candidatura\",\"Registro de Candidatura - Preenchimento de Vaga Remanescente\",\"Registro de Candidatura - RRC - Candidato\",\"Registro de Candidatura - Substituição de Candidato - Por Cancelamento de Registro\",\"Registro de Candidatura - Substituição de Candidato - Por Cassação de Registro\",\"Registro de Candidatura - Substituição de Candidato - Por Expulsão Partidária\",\"Registro de Candidatura - Substituição de Candidato - Por Falecimento\",\"Registro de Candidatura - Substituição de Candidato - Por Indeferimento de Registro\",\"Registro de Candidatura - Substituição de Candidato - Por Ineligibilidade\",\"Registro de Candidatura - Substituição de Candidato - Por Renúncia\",\"Cargo - Deputado Distrital\",\"Cargo - Deputado Estadual\",\"Cargo - Deputado Federal\",\"Cargo - Governador\",\"Cargo - Prefeito\",\"Cargo - Presidente da República\",\"Cargo - Primeiro Suplente de Senador\",\"Cargo - Segundo Suplente de Senador\",\"Cargo - Senador\",\"Cargo - Vereador\",\"Cargo - Vice-Governador\",\"Cargo - Vice-Prefeito\",\"Cargo - Vice-Presidente da República\",\"Eleições - 1° Turno\",\"Eleições - 2° Turno\",\"Eleições - Anulação de Eleições\",\"Eleições - Eleição Majoritária\",\"Eleições - Eleição Proporcional\",\"Eleições - Eleição Suplementar\",\"Pesquisa Eleitoral - Divulgação de Pesquisa Eleitoral Fraudulenta\",\"Pesquisa Eleitoral - Divulgação de Pesquisa Eleitoral Sem Prévio Registro\",\"Pesquisa Eleitoral - Registro de Pesquisa Eleitoral\",\"Propaganda Política - Propaganda Eleitoral - Adesivo\",\"Propaganda Política - Propaganda Eleitoral - Alto-falante/Amplificador de Som\",\"Propaganda Política - Propaganda Eleitoral - Banner/Cartaz/Faixa\",\"Propaganda Política - Propaganda Eleitoral - Bem Particular\",\"Propaganda Política - Propaganda Eleitoral - Bem Particular de Uso Comum\",\"Propaganda Política - Propaganda Eleitoral - Bem Público\",\"Propaganda Política - Propaganda Eleitoral - Bem Tombado\",\"Propaganda Política - Propaganda Eleitoral - Boca de Urna\",\"Propaganda Política - Propaganda Eleitoral - Cavalete\",\"Propaganda Política - Propaganda Eleitoral - Comício/Showmício\",\"Propaganda Política - Propaganda Eleitoral - Conduta Vedada a Emissora de Rádio/Televisão na Programação Normal\",\"Propaganda Política - Propaganda Eleitoral - Confecção, Utilização ou Distribuição de Brinde\",\"Propaganda Política - Propaganda Eleitoral - Contrariedade à Lei de Postura Municipal\",\"Propaganda Política - Propaganda Eleitoral - Debate Político\",\"Propaganda Política - Propaganda Eleitoral - Extemporânea/Antecipada\",\"Propaganda Política - Propaganda Eleitoral - Folhetos/Volantes/Santinhos/Impressos\",\"Propaganda Política - Propaganda Eleitoral - Distribuição de Tempo de Propaganda\",\"Propaganda Política - Propaganda Eleitoral - Horário Eleitoral Gratuito/Inserções de Propaganda\",\"Propaganda Política - Propaganda Eleitoral - Horário Eleitoral Gratuito/Programa em Bloco\",\"Propaganda Política - Propaganda Eleitoral - Rádio\",\"Propaganda Política - Propaganda Eleitoral - Rádio Comunitária\",\"Propaganda Política - Propaganda Eleitoral - Televisão\",\"Propaganda Política - Propaganda Eleitoral - Invasão de Horário Destinado a Outro Cargo/Partido/Coligação\",\"Propaganda Política - Propaganda Eleitoral - Imprensa Escrita - Jornal/Revista/Tabloide\",\"Propaganda Política - Propaganda Eleitoral - Inobservância do Limite Legal\",\"Propaganda Política - Propaganda Eleitoral - Internet\",\"Propaganda Política - Propaganda Eleitoral - Omissão de Informações Obrigatórias\",\"Propaganda Política - Propaganda Eleitoral - Outdoors\",\"Propaganda Política - Propaganda Eleitoral - Pintura em Muro\",\"Propaganda Política - Propaganda Eleitoral - Truncagem, Montagem, Utilização de Gravação Externa, Computação Gráfica, Desenho Animado ou Efeito Especial\",\"Captação ou Gasto Ilícito de Recursos Financeiros de Campanha Eleitoral\",\"Prestação de Contas - De Comitê Financeiro\",\"Registro de Comitê Financeiro - Eleição Majoritária\",\"Registro de Comitê Financeiro - Eleição Proporcional\",\"Registro de Comitê Financeiro - Único\",\"Contas - Aprovação das Contas\",\"Contas - Aprovação das Contas com Ressalvas\",\"Contas - Desaprovação/Rejeição das Contas\",\"Contas - Não Apresentação das Contas\",\"Doação de Recursos Acima do Limite Legal - Pessoa Física\",\"Doação de Recursos Acima do Limite Legal - Pessoa Jurídica\",\"Habeas Corpus - Liberatório\",\"Habeas Corpus - Preventivo\",\"Impugnação - Identidade de Eleitor Admitido a Votar\",\"Impugnação - Nomeação de Membro da Mesa Receptora\",\"Impugnação - Nomeação de Membro da Junta Eleitoral\",\"Impugnação - Sistema Eletrônico de Votação\",\"Impugnação - Voto por Cédula\",\"Registro de Candidatura - DRAP - Partido/Coligação\",\"Apuração/Totalização de Votos\",\"Quociente Eleitoral/Partidário\",\"Abuso - De Poder Econômico\",\"Abuso - De Poder Político/Autoridade\",\"Abuso - Uso Indevido de Meio de Comunicação Social\",\"Captação Ilícita de Sufrágio\",\"Corrupção ou Fraude\",\"Propaganda Política - Propaganda Institucional\",\"Diplomação\",\"Direitos Políticos - Perda dos Direitos Políticos\",\"Direitos Políticos - Restabelecimento dos Direitos Políticos\",\"Direitos Políticos - Suspensão de Direitos Políticos\",\"Execução - De Astreintes\",\"Execução - De Multa Eleitoral\",\"Execução de Julgado\",\"Cautelar Inominada - De Busca e Apreensão\",\"Cautelar Inominada - De Produção Antecipada de Provas\",\"Cautelar Inominada - Incidental\",\"Cautelar Inominada - Preparatória\",\"Exceção - De Coisa Julgada\",\"Exceção - De Ilegitimidade de Parte\",\"Exceção - De Impedimento\",\"Exceção - De Incompetência\",\"Exceção - De Litispendência\",\"Exceção - De Pré-Executividade\",\"Exceção - De Suspeição\",\"Alteração Estatutária de Partido Político em Matéria Administrativa\",\"Coligação Partidária - Majoritária\",\"Coligação Partidária - Majoritária e Proporcional\",\"Coligação Partidária - Proporcional\",\"Convenção Partidária\",\"Filiação Partidária - Cancelamento\",\"Filiação Partidária - Duplicidade/Pluralidade\",\"Filiação Partidária - Nulidade\",\"Justificação de Desfiliação Partidária\",\"Perda de Cargo Eletivo por Desfiliação Partidária\",\"Fusão de Partidos Políticos\",\"Incorporação de Partidos Políticos\",\"Dissolução de Órgão de Direção Partidária\",\"Partido Político - Órgão de Direção Estadual\",\"Partido Político - Órgão de Direção Municipal\",\"Partido Político - Órgão de Direção Nacional\",\"Partido Político - Comissão Provisória\",\"Propaganda Política - Propaganda Intrapartidária\",\"Propaganda Política - Propaganda Partidária\",\"Veiculação de Propaganda Partidária - Em Bloco\",\"Veiculação de Propaganda Partidária - Em Inserções\",\"Plebiscito\",\"Requerimento\",\"Contra o Ordenamento Urbano e o Patrimônio Cultural\",\"Crimes contra o Ordenamento Urbano e o Patrimônio Cultural\",\"Intimação\",\"Citação\",\"Oitiva\",\"Diligências\",\"Atos executórios\",\"Entrada de aparelho telefônico de comunicação móvel em estabelecimento prisional\",\"Programas de Arrendamento Residencial  PAR\",\"Tabela Price\",\"Empréstimo consignado\",\"Tarifas\",\"Capitalização e Previdência Privada\",\"Transporte Aquaviário\",\"Dever de Informação\",\"Práticas Abusivas\",\"Oferta e Publicidade\",\"Transporte Ferroviário\",\"Transporte Rodoviário\",\"Infrações administrativas\",\"Fundos\",\"Classificação indicativa\",\"Entidades de atendimento\",\"Conselhos tutelares\",\"Mineração\",\"Reserva legal\",\"Recursos Hídricos\",\"Poluição\",\"Zoneamento Ecológico e Econômico\",\"Zona Costeira\",\"Área de Preservação Permanente\",\"Produtos Controlados / Perigosos\",\"Patrimônio Cultural\",\"Controle Externo da atividade policial\",\"Conselho do Idoso\",\"Conselho da Comunidade\",\"Conselho sobre Drogas\",\"Conselho de Direitos da Criança e Adolescente\",\"Parcelamento do Solo\",\"Comércio Ambulante\",\"Operações Urbanas Consorciadas\",\"Posturas Municipais\",\"Segurança em Edificações\",\"Política Agrícola\",\"Pessoa Idosa\",\"Pessoas com deficiência\",\"Minorias Étnicas\",\"Comunicação Social\",\"Moradia\",\"Assistência Social\",\"Alimentação\",\"Não Discriminação\",\"Terceirização do SUS\",\"Financiamento do SUS\",\"Vigilância Sanitária e Epidemiológica\",\"Controle Social e Conselhos de Saúde\",\"Hospitais e Outras Unidades de Saúde\",\"Tecidos e Partes do Corpo Humano\",\"Recebimento de bolsa de estudos\",\"Produto Impróprio\",\"Combustíveis e derivados\",\"Saneamento\",\"Responsabilidade Fiscal\",\"Irregularidade no atendimento\",\"Vendas casadas\",\"Jogos / Sorteios / Promoções comerciais\",\"Produto Impróprio\",\"Combustíveis e derivados\",\"Saneamento\",\"Utilização de bens públicos\",\"Agências/órgãos de regulação\",\"Sistema de proteção especial a vítimas e a testemunhas\",\"Política fundiária e da reforma agrária\",\"Responsabilidade fiscal\",\"Fornecimento de Medicamentos\",\"Unidade de terapia intensiva (UTI) ou unidade de cuidados intensivos (UCI)\",\"Crimes Previstos no Estatuto do Torcedor\",\"Previstos no Estatuto do Torcedor\",\"Crédito Especial\",\"Crédito Extraordinário\",\"Resolução\",\"Recomendação\",\"Resolução Conjunta\",\"Concurso para magistrado\",\"Prova Objetiva\",\"Prova Subjetiva\",\"Prova Prática-Sentença\",\"Prova Oral\",\"Reserva de Vagas\",\"Concurso para servidor\",\"Concurso para serventia extrajudicial\",\"Juiz Leigo\",\"Composição de Turmas Recursais\",\"Licença\",\"Participação Societária\",\"Plantão Judiciário\",\"Residência\",\"Substituição/Convocação em Tribunal\",\"Violação Prerrogativa Advogado\",\"Cargos de Direção\",\"Órgão Especial\",\"Fraude / Quebra de ordem cronológica\",\"Pagamento\",\"Vacância\",\"Remoção\",\"Desmembramento\",\"Cumulação\",\"Emolumentos\",\"Fraude\",\"Gratuidade\",\"Princípio da Territorialidade\",\"Provimento Irregular\",\"Registro Civil de Nascimento\",\"Registro de Imóveis\",\"Cessão\",\"Desvio de Função\",\"Provimento de Cargos\",\"Entrada de aparelho telefônico de comunicação móvel em estabelecimento prisional\",\"Inclusão do 13º salário (gratificação natalina) no PBC\",\"Art. 26 da Lei 8.870/1994\",\"Art. 29, § 5º, da Lei 8.213/1991\",\"Art. 29, II, da Lei 8.213/1991\",\"Alteração do teto máximo para o valor do benefício previdenciário do RGPS (EC 20 e 41)\",\"Revisão do valor do benefício no primeiro reajuste após a concessão (Art. 21, § 3º, da Lei 8.880/1994)\",\"Deficiente\",\"Idoso\",\"Inspeção\",\"Revisão/Desconstituição de Ato Administrativo\",\"Morosidade no Julgamento do Processo\",\"Investigação Patrimonial\",\"Apuração de Infração Disciplinar\",\"Acidente de Trabalho - Ressarcimento ao Erário\",\"Difusão culposa de doença ou praga\",\"Receptação culposa\",\"Receptação culposa\",\"Incêndio culposo\",\"Incêndio culposo\",\"Explosão culposa\",\"Explosão culposa\",\"Uso culposo de gás tóxico ou asfixiante\",\"Uso culposo de gás tóxico ou asfixiante\",\"Inundação culposa\",\"Inundação culposa\",\"Desabamento ou desmoronamento culposo\",\"Desabamento ou desmoronamento culposo\",\"Difusão culposa de doença ou praga\",\"Desastre ferroviário culposo\",\"Desastre ferroviário culposo\",\"Cláusulas Abusivas\",\"Alienação Parental\",\"Invasão de Dispositivo Informático\",\"Violência Doméstica Contra a Mulher\",\"Usucapião Conjugal\",\"Exploração Sexual\",\"Separação de Corpos\",\"Medidas Protetivas\",\"Extinção das Obrigaões do Falido\",\"Aborto\",\"Conversão da união estável em casamento\",\"Nulidade de ato administrativo\",\"Usucapião de bem móvel\",\"Adjudicação de herança\",\"Registro Civil de Pessoas Jurídicas\",\"Internação Compulsória\",\"Internação Voluntária\",\"Internação Involuntária\",\"Encaminhamento aos pais ou responsável\",\"Orientação e acompanhamento temporário\",\"Matrícula e frequência obrigatória em escola oficial de ensino fundamental\",\"Inclusão em programa de auxílio à família\",\"Requisição de tratamento médico, psicológico ou psiquiátrico, em regime hospitalar ou ambulatorial\",\"Inclusão em programa de auzílio, orientação e tratamento a alcoólatras e toxicômanos\",\"Acolhimento institucional\",\"Inclusão em programa de acolhimento familiar\",\"Colocação em família substituta\",\"Outras medidas de proteção\",\"Evasão Escolar\",\"Exploração Sexual ou Prostituição\",\"Crimes da Lei do Planejamento Familiar\",\"Roubo qualificado\",\"Da Lei do Planejamento Familiar\",\"Crimes Sobre Produção, Comércio e Transporte Clandestino de Açúcar e Álcool\",\"Sobre Produção, Comércio e Transporte Clandestino de Açúcar e Álcool\",\"Crime Relacionado à Exportação de Bens Sensíveis e Serviços Diretamente Relacionados\",\"Relacionado à Exportação de Bens Sensíveis e Serviços Diretamente Relacionados\",\"Crime da Lei Sobre Permissão de Lavra Garimpeira\",\"da Lei Sobre Permissão de Lavra Garimpeira\",\"Crimes da Lei que Proíbe Práticas Discriminatórias para Efeitos Trabalhistas\",\"Da Lei que Proíbe Práticas Discriminatórias para Efeitos Trabalhistas\",\"Crimes da Lei de Proteção à Propriedade Intelectual de Programa de Computador\",\"Da Lei de Proteção à Propriedade Intelectual de Programa de Computador\",\"Crimes da Lei de Locação de Imóveis Urbanos\",\"Da Lei de Locação de Imóveis Urbanos\",\"Crimes da Lei Geral da Copa\",\"Da Lei Geral da Copa\",\"Crimes do Estatuto do Torcedor\",\"Estatuto do Torcedor\",\"Composição Civil\",\"Internação Compulsória\",\"Desapropriação para Regularização de Comunidade Quilombola / Dec. 4887/2003\",\"Análise de Crédito\",\"Registro de Candidatura %u2013 DRAP\",\"Registro de Candidatura - DRAP Partido/Coligação\",\"Prestação de Contas - De Candidato\",\"Prestação de Contas - De Comitê Financeiro\",\"Prestação de Contas - De Exercício Financeiro\",\"Impugnação - Identidade de Eleitor Admitido a Votar\",\"Impugnação - Inscrição Eleitoral\",\"Impugnação - Nomeação de Membro da Junta Eleitoral\",\"Impugnação - Nomeação de Membro da Mesa Receptora\",\"Impugnação - Sistema Eletrônico de Votação\",\"Impugnação - Transferência de Domicílio Eleitoral\",\"Impugnação - Voto por Cédula\",\"Captação ou Gasto Ilícito de Recursos Financeiros de Campanha Eleitoral\",\"Conduta Vedada ao Agente Público\",\"Meios Processuais\",\"Prestação de Contas - de Partido Político\",\"Perda ou Modificação de Guarda\",\"Feminicídio\",\"Homicídio Agravado pela Prática de  Extermínio de Seres Humanos\",\"Homicídio Agravado pelo Extermínio de Seres Humanos\",\"Revisão de Tutela Antecipada\",\"Suspensão do Poder Familiar\",\"Internação Provisória\",\"Registro de Ocorrência pela PM\",\"Registro de Ocorrência pela PM\",\"Requerimento de Reintegração de Posse\",\"Requerimento de Apreensão de Veículo\",\"Cremação/Traslado\",\"Contra a Mulher\",\"Contra pessoas não identificadas como mulher\",\"Contra a mulher\",\"Contra pessoas não identificadas como mulher\",\"Seguro-defeso ao pescado artesanal profissional\",\"Atos de Terrorismo\",\"Organização Terrorista\",\"Preparação de ato terrorista\",\"Manutenção ou financiamento do terrorismo\",\"Fornecimento de medicamentos\",\"Tratamento médico-hospitalar\",\"Unidade de terapia intensiva (UTI) ou Unidade de cuidados intensivos (UCI)\",\"Reajuste contratual\",\"Nomeação\",\"Dispensa\",\"Remoção\",\"Remoção\",\"Levantamento\",\"Levantamento\",\"Remoção\",\"Dispensa\",\"Nomeação\",\"Promoção, constituição, financiamento ou integração de Organização Criminosa\",\"Revelação de identidade, fotografia ou filmagem do colaborador\",\"Imputação falsa de prática de infração penal ou revelação inverídica sobre estrutura de organização criminal\",\"Descumprimento de determinação de sigilo\",\"Recusa ou omissão de dados cadastrais, registros, documentos e informações\",\"Provocação de tumulto ou conduta inconveniente\",\"Apadrinhamento de Criança ou Adolescente\",\"Crimes cometidos contra autoridade ou agente descrito nos arts. 142 e 143 da Constituição Federal, integrantes do sistema prisional e da Força Nacional de Segurança Pública\",\"Fabrico, comércio ou detenção de arma branca ou munição\",\"Porte de arma (branca)\",\"Vias de fato\",\"Omissão de cautela na guarda ou condução de animal\",\"Perturbação do trabalho ou do sossego alheios\",\"Simulação de Qualidade de Funcionário\",\"Uso ilegítimo de uniforme ou distintivo\",\"Jogo de azar\",\"Loteria não autorizada\",\"Jogo do bicho\",\"Servir bebidas alcóolicas a vulneráveis\",\"Perturbação da tranquilidade\",\"Omissão de comunicação de crime\",\"Recusa de dados sobre a própria identificação ou qualificação\",\"Feminicídio\",\"Matéria Administrativa\",\"Proposta de Alteração de Resolução\",\"Autorização de Divulgação de Publicidade Institucional\",\"Cancelamento de Registro de Candidatura\",\"Debate Eleitoral\",\"Enquete\",\"Execução - Cumprimento de Sentença\",\"Fundo Partidário\",\"Registro de Partido Político\",\"Aposentadoria compulsória (art. 42, V, Lei Complementar 35/1979)\",\"Remoção Compulsória\",\"Aposentadoria Compulsória\",\"Remoção Compulsória\",\"Fusão de Partidos Políticos\",\"Perda por crime contra titular do mesmo poder ou descendente (L. 13.715/2018)\",\"Importunação Sexual\",\"Divulgação de cena de estupro, sexo ou pornografia\",\"Inelegibilidade - Renúncia a cargo político na pendência de representação ou petição que possa levar a outra causa de inelegibilidade\",\"Inelegibilidade - Exclusão do exercício de profissão\",\"Inelegibilidade - Aposentadoria Compulsória ou PAD (magistrados e membros do MP)\",\"Inelegibilidade - Demissão do serviço público\",\"Importunação Sexual\",\"Divulgação de cena de estupro, sexo ou pornografia\",\"Híbrida (Art. 48/106)\",\"Nulidade - Ausência de publicidade de decisão\",\"Nulidade - Ausência de Fundamentação de Decisão\",\"Nulidade - Impedimento\",\"Nulidade - Suspeição\",\"Nulidade - Ausência de Nome das Partes\",\"Nulidade - Ausência de Identificação de Advogado ou de Sociedade de Advogados\",\"Nulidade - Ausência de Intimação do Ministério Público\",\"Nulidade - Citação Sem Observância das Prescrições Legais\",\"Nulidade - Título Extrajudicial Não Correspondente a Obrigação Certa, Líquida e Exigível\",\"Nulidade - Intimação Sem Observância das Prescrições Legais\",\"Nulidade - Título Extrajudicial Não Correspondente a Obrigação Certa, Líquida e Exigível\",\"Nulidade - Ausência de Citação do Executado\",\"Nulidade - Execução Instaurada Antes de Condição ou Termo\",\"Ausência de Legitimidade para a Causa\",\"Poderes, Deveres e Responsabilidades do Juiz\",\"Tutela de Urgência\",\"Tutela de Evidência\",\"Revisão de Tutela Antecipada Antecedente\",\"Provas em geral\",\"Tempestividade\",\"Proposta de Nova Resolução\",\"Correição ordinária\",\"Correição extraordinária\",\"Providência\",\"Brumadinho\",\"Boate Kiss\",\"Mariana\",\"Unaí\"]\n",
    "assuntos = [x.lower() for x in assuntos] # lower case of all assuntos\n",
    "\n",
    "data_less_4 = sp_data.loc[ind_range == False]\n",
    "\n",
    "back_sp_data = pd.read_json('/media/rafael/D/2020 RAFAEL/Faculdade/ICs/IC Direito/codes/pre-processing/SP_PROCESSO_E_ASSUNTO_FEITOS_BCKP.json')"
   ]
  },
  {
   "cell_type": "code",
   "execution_count": 150,
   "metadata": {},
   "outputs": [
    {
     "name": "stderr",
     "output_type": "stream",
     "text": [
      "100%|██████████| 98979/98979 [00:01<00:00, 61525.46it/s]\n"
     ]
    },
    {
     "data": {
      "text/plain": [
       "38395"
      ]
     },
     "execution_count": 150,
     "metadata": {},
     "output_type": "execute_result"
    }
   ],
   "source": [
    "# compare all assuntos in the list in all assuntos which will problably stay find \n",
    "\n",
    "verified_assuntos = [np.nan] * len(assuntos_all)\n",
    "\n",
    "# for i,assunto in enumerate(tqdm(assuntos)):\n",
    "\n",
    "for j, possible_ass in enumerate(tqdm(assuntos_all)):\n",
    "    if(possible_ass.lower() in assuntos):\n",
    "        verified_assuntos[j] = possible_ass\n",
    "verified_assuntos.count(np.nan)"
   ]
  },
  {
   "cell_type": "code",
   "execution_count": 144,
   "metadata": {},
   "outputs": [],
   "source": [
    "# tentativa de adequação dos demais documentos, mas nao funciona, ja que só pega se o assunto apareceu no documento :<\n",
    "\n",
    "# all_right = back_sp_data['Assunto'].to_list()\n",
    "# array = np.full(len(sp_data['Conteúdo']), float('inf'))\n",
    "\n",
    "# for i,assunto in enumerate(assuntos):\n",
    "#     positions = data_less_4['Conteúdo'].str.find(assunto)\n",
    "#     positions = positions[positions > -1]\n",
    "    \n",
    "#     if(len(positions.index) > 0):\n",
    "#         for j,position in enumerate(positions):\n",
    "\n",
    "#             if(position < array[positions.index[j]]):\n",
    "#                 array[positions.index[j]] = position\n",
    "#                 all_right[int(positions.index[j])] = assuntos[i]"
   ]
  },
  {
   "cell_type": "code",
   "execution_count": 152,
   "metadata": {},
   "outputs": [
    {
     "data": {
      "text/html": [
       "<div>\n",
       "<style scoped>\n",
       "    .dataframe tbody tr th:only-of-type {\n",
       "        vertical-align: middle;\n",
       "    }\n",
       "\n",
       "    .dataframe tbody tr th {\n",
       "        vertical-align: top;\n",
       "    }\n",
       "\n",
       "    .dataframe thead th {\n",
       "        text-align: right;\n",
       "    }\n",
       "</style>\n",
       "<table border=\"1\" class=\"dataframe\">\n",
       "  <thead>\n",
       "    <tr style=\"text-align: right;\">\n",
       "      <th></th>\n",
       "      <th>_id</th>\n",
       "      <th>Dados_Fórum</th>\n",
       "      <th>Processo</th>\n",
       "      <th>Conteúdo</th>\n",
       "      <th>Data</th>\n",
       "      <th>Assunto</th>\n",
       "      <th>Autor</th>\n",
       "      <th>Classe</th>\n",
       "      <th>Reu</th>\n",
       "    </tr>\n",
       "  </thead>\n",
       "  <tbody>\n",
       "    <tr>\n",
       "      <th>0</th>\n",
       "      <td>{'$oid': '5e6135e5a15735ce218a9960'}</td>\n",
       "      <td>JUÍZO DE DIREITO DA 4ª VARA CÍVEL JUIZ(A) DE D...</td>\n",
       "      <td>001543-25.2013.8.26.0344</td>\n",
       "      <td>Processo 0001543-25.2013.8.26.0344 (034.42.013...</td>\n",
       "      <td>20170711</td>\n",
       "      <td>Evicção ou Vicio Redibitório</td>\n",
       "      <td>NaN</td>\n",
       "      <td>NaN</td>\n",
       "      <td>NaN</td>\n",
       "    </tr>\n",
       "    <tr>\n",
       "      <th>1</th>\n",
       "      <td>{'$oid': '5e6135e5a15735ce218a9961'}</td>\n",
       "      <td>JUÍZO DE DIREITO DA 6ª VARA DE FAZENDA PÚBLICA...</td>\n",
       "      <td>042265-38.2012.8.26.0053</td>\n",
       "      <td>Processo 0042265-38.2012.8.26.0053 - Mandado d...</td>\n",
       "      <td>20160623</td>\n",
       "      <td>NaN</td>\n",
       "      <td>NaN</td>\n",
       "      <td>NaN</td>\n",
       "      <td>NaN</td>\n",
       "    </tr>\n",
       "    <tr>\n",
       "      <th>2</th>\n",
       "      <td>{'$oid': '5e6135e5a15735ce218a9962'}</td>\n",
       "      <td>JUÍZO DE DIREITO DA 1ª VARA CÍVEL JUIZ(A) DE D...</td>\n",
       "      <td>000405-68.2015.8.26.0236</td>\n",
       "      <td>Processo 1000405-68.2015.8.26.0236 - Procedime...</td>\n",
       "      <td>20151002</td>\n",
       "      <td>Arrendamento Mercantil</td>\n",
       "      <td>NaN</td>\n",
       "      <td>NaN</td>\n",
       "      <td>NaN</td>\n",
       "    </tr>\n",
       "    <tr>\n",
       "      <th>3</th>\n",
       "      <td>{'$oid': '5e6135e5a15735ce218a9963'}</td>\n",
       "      <td>JUÍZO DE DIREITO DA VARA ÚNICA JUIZ(A) DE DIRE...</td>\n",
       "      <td>000276-03.2017.8.26.0627</td>\n",
       "      <td>Processo 0000276-03.2017.8.26.0627 (processo p...</td>\n",
       "      <td>20171123</td>\n",
       "      <td>Auxílio-Doença Previdenciário</td>\n",
       "      <td>{'Nome': 'Silas Tiago Alves Xavier', 'Genero':...</td>\n",
       "      <td>Cumprimento de Sentença contra a Fazenda Pública</td>\n",
       "      <td>{'Nome': 'Parte não encontrada', 'Pessoa': '$#...</td>\n",
       "    </tr>\n",
       "    <tr>\n",
       "      <th>4</th>\n",
       "      <td>{'$oid': '5e6135e5a15735ce218a9964'}</td>\n",
       "      <td>JUÍZO DE DIREITO DA 1º VARA DA FAZENDA PÚBLICA...</td>\n",
       "      <td>007240-12.2012.8.26.0037</td>\n",
       "      <td>Processo 0007240-12.2012.8.26.0037 (apensado a...</td>\n",
       "      <td>20150325</td>\n",
       "      <td>NaN</td>\n",
       "      <td>NaN</td>\n",
       "      <td>NaN</td>\n",
       "      <td>NaN</td>\n",
       "    </tr>\n",
       "    <tr>\n",
       "      <th>...</th>\n",
       "      <td>...</td>\n",
       "      <td>...</td>\n",
       "      <td>...</td>\n",
       "      <td>...</td>\n",
       "      <td>...</td>\n",
       "      <td>...</td>\n",
       "      <td>...</td>\n",
       "      <td>...</td>\n",
       "      <td>...</td>\n",
       "    </tr>\n",
       "    <tr>\n",
       "      <th>99995</th>\n",
       "      <td>{'$oid': '5e614311a15735ce218c1ffb'}</td>\n",
       "      <td>JUÍZO DE DIREITO DA 5ª VARA DA FAMÍLIA E SUCES...</td>\n",
       "      <td>012114-60.2014.8.26.0002</td>\n",
       "      <td>Processo 1012114-60.2014.8.26.0002 - Interdiçã...</td>\n",
       "      <td>20150616</td>\n",
       "      <td>Tutela e Curatela</td>\n",
       "      <td>NaN</td>\n",
       "      <td>NaN</td>\n",
       "      <td>NaN</td>\n",
       "    </tr>\n",
       "    <tr>\n",
       "      <th>99996</th>\n",
       "      <td>{'$oid': '5e614311a15735ce218c1ffc'}</td>\n",
       "      <td>JUÍZO DE DIREITO DA 2ª VARA CÍVEL JUIZ(A) DE D...</td>\n",
       "      <td>000332-38.2013.8.26.0278</td>\n",
       "      <td>Processo 1000332-38.2013.8.26.0278 - Procedime...</td>\n",
       "      <td>20140812</td>\n",
       "      <td>NaN</td>\n",
       "      <td>NaN</td>\n",
       "      <td>NaN</td>\n",
       "      <td>NaN</td>\n",
       "    </tr>\n",
       "    <tr>\n",
       "      <th>99997</th>\n",
       "      <td>{'$oid': '5e614311a15735ce218c1ffd'}</td>\n",
       "      <td>JUÍZO DE DIREITO DA 4ª VARA CÍVEL JUIZ(A) DE D...</td>\n",
       "      <td>005073-95.2013.8.26.0302</td>\n",
       "      <td>Processo 4005073-95.2013.8.26.0302 - Ação Civi...</td>\n",
       "      <td>20170419</td>\n",
       "      <td>Enriquecimento ilícito</td>\n",
       "      <td>NaN</td>\n",
       "      <td>NaN</td>\n",
       "      <td>NaN</td>\n",
       "    </tr>\n",
       "    <tr>\n",
       "      <th>99998</th>\n",
       "      <td>{'$oid': '5e614311a15735ce218c1ffe'}</td>\n",
       "      <td>JUÍZO DE DIREITO DA 2ª VARA CÍVEL JUIZ(A) DE D...</td>\n",
       "      <td>011585-32.2011.8.26.0562</td>\n",
       "      <td>Processo 0011585-32.2011.8.26.0562 (562.01.201...</td>\n",
       "      <td>20141007</td>\n",
       "      <td>Seguro</td>\n",
       "      <td>{'Nome': 'Mauricio Lucio Martins', 'Genero': '...</td>\n",
       "      <td>Procedimento Ordinário</td>\n",
       "      <td>{'Nome': 'Porto Seguro Cia de Seguros Gerais',...</td>\n",
       "    </tr>\n",
       "    <tr>\n",
       "      <th>99999</th>\n",
       "      <td>{'$oid': '5e614311a15735ce218c1fff'}</td>\n",
       "      <td>JUÍZO DE DIREITO DA 37ª VARA CÍVEL JUIZ(A) DE ...</td>\n",
       "      <td>079412-54.2012.8.26.0100</td>\n",
       "      <td>Processo 0079412-54.2012.8.26.0100 - Execução ...</td>\n",
       "      <td>20171116</td>\n",
       "      <td>Duplicata</td>\n",
       "      <td>NaN</td>\n",
       "      <td>NaN</td>\n",
       "      <td>NaN</td>\n",
       "    </tr>\n",
       "  </tbody>\n",
       "</table>\n",
       "<p>100000 rows × 9 columns</p>\n",
       "</div>"
      ],
      "text/plain": [
       "                                        _id  \\\n",
       "0      {'$oid': '5e6135e5a15735ce218a9960'}   \n",
       "1      {'$oid': '5e6135e5a15735ce218a9961'}   \n",
       "2      {'$oid': '5e6135e5a15735ce218a9962'}   \n",
       "3      {'$oid': '5e6135e5a15735ce218a9963'}   \n",
       "4      {'$oid': '5e6135e5a15735ce218a9964'}   \n",
       "...                                     ...   \n",
       "99995  {'$oid': '5e614311a15735ce218c1ffb'}   \n",
       "99996  {'$oid': '5e614311a15735ce218c1ffc'}   \n",
       "99997  {'$oid': '5e614311a15735ce218c1ffd'}   \n",
       "99998  {'$oid': '5e614311a15735ce218c1ffe'}   \n",
       "99999  {'$oid': '5e614311a15735ce218c1fff'}   \n",
       "\n",
       "                                             Dados_Fórum  \\\n",
       "0      JUÍZO DE DIREITO DA 4ª VARA CÍVEL JUIZ(A) DE D...   \n",
       "1      JUÍZO DE DIREITO DA 6ª VARA DE FAZENDA PÚBLICA...   \n",
       "2      JUÍZO DE DIREITO DA 1ª VARA CÍVEL JUIZ(A) DE D...   \n",
       "3      JUÍZO DE DIREITO DA VARA ÚNICA JUIZ(A) DE DIRE...   \n",
       "4      JUÍZO DE DIREITO DA 1º VARA DA FAZENDA PÚBLICA...   \n",
       "...                                                  ...   \n",
       "99995  JUÍZO DE DIREITO DA 5ª VARA DA FAMÍLIA E SUCES...   \n",
       "99996  JUÍZO DE DIREITO DA 2ª VARA CÍVEL JUIZ(A) DE D...   \n",
       "99997  JUÍZO DE DIREITO DA 4ª VARA CÍVEL JUIZ(A) DE D...   \n",
       "99998  JUÍZO DE DIREITO DA 2ª VARA CÍVEL JUIZ(A) DE D...   \n",
       "99999  JUÍZO DE DIREITO DA 37ª VARA CÍVEL JUIZ(A) DE ...   \n",
       "\n",
       "                       Processo  \\\n",
       "0      001543-25.2013.8.26.0344   \n",
       "1      042265-38.2012.8.26.0053   \n",
       "2      000405-68.2015.8.26.0236   \n",
       "3      000276-03.2017.8.26.0627   \n",
       "4      007240-12.2012.8.26.0037   \n",
       "...                         ...   \n",
       "99995  012114-60.2014.8.26.0002   \n",
       "99996  000332-38.2013.8.26.0278   \n",
       "99997  005073-95.2013.8.26.0302   \n",
       "99998  011585-32.2011.8.26.0562   \n",
       "99999  079412-54.2012.8.26.0100   \n",
       "\n",
       "                                                Conteúdo      Data  \\\n",
       "0      Processo 0001543-25.2013.8.26.0344 (034.42.013...  20170711   \n",
       "1      Processo 0042265-38.2012.8.26.0053 - Mandado d...  20160623   \n",
       "2      Processo 1000405-68.2015.8.26.0236 - Procedime...  20151002   \n",
       "3      Processo 0000276-03.2017.8.26.0627 (processo p...  20171123   \n",
       "4      Processo 0007240-12.2012.8.26.0037 (apensado a...  20150325   \n",
       "...                                                  ...       ...   \n",
       "99995  Processo 1012114-60.2014.8.26.0002 - Interdiçã...  20150616   \n",
       "99996  Processo 1000332-38.2013.8.26.0278 - Procedime...  20140812   \n",
       "99997  Processo 4005073-95.2013.8.26.0302 - Ação Civi...  20170419   \n",
       "99998  Processo 0011585-32.2011.8.26.0562 (562.01.201...  20141007   \n",
       "99999  Processo 0079412-54.2012.8.26.0100 - Execução ...  20171116   \n",
       "\n",
       "                             Assunto  \\\n",
       "0       Evicção ou Vicio Redibitório   \n",
       "1                                NaN   \n",
       "2             Arrendamento Mercantil   \n",
       "3      Auxílio-Doença Previdenciário   \n",
       "4                                NaN   \n",
       "...                              ...   \n",
       "99995              Tutela e Curatela   \n",
       "99996                            NaN   \n",
       "99997         Enriquecimento ilícito   \n",
       "99998                         Seguro   \n",
       "99999                      Duplicata   \n",
       "\n",
       "                                                   Autor  \\\n",
       "0                                                    NaN   \n",
       "1                                                    NaN   \n",
       "2                                                    NaN   \n",
       "3      {'Nome': 'Silas Tiago Alves Xavier', 'Genero':...   \n",
       "4                                                    NaN   \n",
       "...                                                  ...   \n",
       "99995                                                NaN   \n",
       "99996                                                NaN   \n",
       "99997                                                NaN   \n",
       "99998  {'Nome': 'Mauricio Lucio Martins', 'Genero': '...   \n",
       "99999                                                NaN   \n",
       "\n",
       "                                                 Classe  \\\n",
       "0                                                   NaN   \n",
       "1                                                   NaN   \n",
       "2                                                   NaN   \n",
       "3      Cumprimento de Sentença contra a Fazenda Pública   \n",
       "4                                                   NaN   \n",
       "...                                                 ...   \n",
       "99995                                               NaN   \n",
       "99996                                               NaN   \n",
       "99997                                               NaN   \n",
       "99998                            Procedimento Ordinário   \n",
       "99999                                               NaN   \n",
       "\n",
       "                                                     Reu  \n",
       "0                                                    NaN  \n",
       "1                                                    NaN  \n",
       "2                                                    NaN  \n",
       "3      {'Nome': 'Parte não encontrada', 'Pessoa': '$#...  \n",
       "4                                                    NaN  \n",
       "...                                                  ...  \n",
       "99995                                                NaN  \n",
       "99996                                                NaN  \n",
       "99997                                                NaN  \n",
       "99998  {'Nome': 'Porto Seguro Cia de Seguros Gerais',...  \n",
       "99999                                                NaN  \n",
       "\n",
       "[100000 rows x 9 columns]"
      ]
     },
     "execution_count": 152,
     "metadata": {},
     "output_type": "execute_result"
    }
   ],
   "source": [
    "# writing the remanscent data Assuntos\n",
    "# pd.Series(all_right).isnull().sum(), back_sp_data['Assunto'].isnull().sum()\n",
    "sp_data.loc[ind_range,('Assunto')] = verified_assuntos\n",
    "sp_data.loc[data_less_4.index,('Assunto')] = pd.Series(all_right).loc[data_less_4.index]\n",
    "sp_data['Assunto'].isnull().sum()\n",
    "sp_data\n",
    "# back_sp_data.to_json('SP_PROCESSO_E_ASSUNTO_FEITOS_BCKP.json')"
   ]
  },
  {
   "cell_type": "markdown",
   "metadata": {},
   "source": [
    "![green-divider](https://user-images.githubusercontent.com/7065401/52071924-c003ad80-2562-11e9-8297-1c6595f8a7ff.png)\n",
    "### FILTER NOMES"
   ]
  },
  {
   "cell_type": "code",
   "execution_count": 9,
   "metadata": {},
   "outputs": [],
   "source": [
    "import spacy\n",
    "from spacy import displacy\n",
    "import pt_core_news_sm\n",
    "from spacy.symbols import nsubj, VERB, NOUN\n",
    "import time\n",
    "\n",
    "# API for classify genero de nomes \n",
    "import csv\n",
    "import gzip\n",
    "import io\n",
    "from unicodedata import normalize\n",
    "\n",
    "def encode(name):\n",
    "    ascii_name = normalize(\"NFKD\", name).encode(\"ascii\", errors=\"ignore\").decode(\"ascii\")\n",
    "    return ascii_name.upper()\n",
    "\n",
    "def load_data():\n",
    "    fobj = io.TextIOWrapper(gzip.open(\"/media/rafael/D/2020 RAFAEL/Faculdade/ICs/IC Direito/codes/pre-processing/Nomes pessoas/nomes.csv.gz\"), encoding=\"utf-8\")\n",
    "    csv_reader = csv.DictReader(fobj)\n",
    "    data = {\n",
    "        row[\"first_name\"]: row[\"classification\"]\n",
    "        for row in csv_reader\n",
    "    }\n",
    "    fobj.close()\n",
    "    return data\n",
    "\n",
    "name_data = load_data()\n",
    "\n",
    "def classify_download(name):\n",
    "    encoded_name = encode(name)\n",
    "    try:\n",
    "        return name_data[encoded_name]\n",
    "    except:\n",
    "        return 'Nao Nome'\n",
    "\n",
    "nlp = pt_core_news_sm.load()\n",
    "Entidades = []\n",
    "texts = []\n",
    "completo = []\n",
    "# sentence_spans = list(doc.sents)\n",
    "# displacy.render(doc, style=\"dep\")"
   ]
  },
  {
   "cell_type": "markdown",
   "metadata": {},
   "source": [
    "![green-divider](https://user-images.githubusercontent.com/7065401/52071924-c003ad80-2562-11e9-8297-1c6595f8a7ff.png)\n",
    "### FILTER Autores e Réus"
   ]
  },
  {
   "cell_type": "code",
   "execution_count": 10,
   "metadata": {},
   "outputs": [],
   "source": [
    "# filtrando os reus e autores do conteudo\n",
    "# a ideia é o seguinte. Para cada conteudo semi filtrado + partes vemos qual é a primeira entidade com nome classificada pelo spacy\n",
    "# esta sera o autor, uma vez feito isso, as demais entidades classificadas serão os reús se e somente se estiverem entre estes separadores ' - '\n",
    "\n",
    "# start_time = time.time()\n",
    "\n",
    "# Autores = []\n",
    "# Reus = []\n",
    "\n",
    "# for i,conteudo in enumerate(tqdm(conteudo_all)):\n",
    "#     texto_interesse = partes_all[i] + ' - ' + conteudo_all[i]\n",
    "#     texto = nlp(texto_interesse)\n",
    "\n",
    "#     primeiro_ponto_final = texto_interesse.find('.')\n",
    "#     primeira_virgula = texto_interesse.find(',')\n",
    "#     separador_oficial = texto_interesse.find(' X ')\n",
    "#     separadores = []\n",
    "    \n",
    "#     for match in re.finditer(' - ',texto_interesse):\n",
    "        \n",
    "#         if (primeiro_ponto_final != -1 and primeira_virgula != -1):\n",
    "            \n",
    "#             if(match.start() < primeiro_ponto_final or match.start() < primeira_virgula):\n",
    "#                 separadores.append(match.start())\n",
    "            \n",
    "#         else:\n",
    "#             separadores.append(match.start())\n",
    "      \n",
    "#     autor = []\n",
    "#     reus = []\n",
    "#     if (separador_oficial > -1):\n",
    "            \n",
    "#         primeiro_espaço = -1\n",
    "#         primeiro_espaço_depois = -1\n",
    "\n",
    "#         for match in re.finditer(' - ', texto_interesse):\n",
    "#             if (match.start() < separador_oficial):\n",
    "#                 primeiro_espaço = match.start()\n",
    "#             if (match.start() > separador_oficial and primeiro_espaço_depois == -1):\n",
    "#                 primeiro_espaço_depois = match.start()\n",
    "\n",
    "#         if (primeiro_espaço > -1):\n",
    "#             autor.append(texto_interesse[primeiro_espaço:separador_oficial])\n",
    "#         else:\n",
    "#             autor.append(texto_interesse[:separador_oficial])\n",
    "\n",
    "#         if (primeiro_espaço_depois > -1):\n",
    "#             reus.append(texto_interesse[separador_oficial + 3:primeiro_espaço_depois])\n",
    "#         else:\n",
    "\n",
    "#             if (primeira_virgula < primeiro_ponto_final):\n",
    "#                 reus.append(texto_interesse[separador_oficial + 3:primeira_virgula])\n",
    "#             else:\n",
    "#                 reus.append(texto_interesse[separador_oficial + 3:primeiro_ponto_final])\n",
    "    \n",
    "#     else:\n",
    "#         for nome_proprio in texto.ents:\n",
    "\n",
    "#             start_char_autor = 0\n",
    "\n",
    "#             if len(autor) < 1:\n",
    "\n",
    "#                 if separadores != []:\n",
    "\n",
    "#                     autor.append(texto_interesse[:separadores[0]])\n",
    "#                 else:\n",
    "#                     autor.append(nome_proprio)\n",
    "\n",
    "#             else:\n",
    "#                 if (nome_proprio.start_char < primeiro_ponto_final and nome_proprio.start_char < primeira_virgula):\n",
    "\n",
    "#                     if len(separadores) > 1:\n",
    "#                         if (nome_proprio.start_char >= separadores[0] and nome_proprio.start_char <= separadores[1]):\n",
    "\n",
    "#                             reus.append(texto_interesse[separadores[0] + 3:separadores[1]])\n",
    "\n",
    "#                             del separadores[0]\n",
    "#                     else:\n",
    "#                         pass\n",
    "     \n",
    "#     Autores.append(autor)\n",
    "#     Reus.append(reus)\n",
    "\n",
    "# #         print(nome_proprio, nome_proprio.start_char, nome_proprio.end_char, nome_proprio.label_, i, primeiro_ponto_final, primeira_virgula)\n",
    "    \n",
    "# print(\"--- %s seconds ---\" % (time.time() - start_time))\n",
    "\n",
    "# ao final temos Autores = todos os autores e Reus = todos os reus encontrados\n"
   ]
  },
  {
   "cell_type": "markdown",
   "metadata": {},
   "source": [
    "![green-divider](https://user-images.githubusercontent.com/7065401/52071924-c003ad80-2562-11e9-8297-1c6595f8a7ff.png)\n",
    "### FILTER in Autores e Réus the gender and the best filter"
   ]
  },
  {
   "cell_type": "code",
   "execution_count": 11,
   "metadata": {},
   "outputs": [],
   "source": [
    "# pd.DataFrame(Autores).to_csv('Autores.csv')\n",
    "# pd.Series(Reus).to_csv('Reus.csv')\n",
    "\n",
    "Reus_df = pd.read_csv('Reus.csv')\n",
    "Reus_df = Reus_df.drop(columns=[Reus_df.columns[0]])\n",
    "\n",
    "series = Reus_df.T.squeeze()\n",
    "listinha = series.values.tolist()"
   ]
  },
  {
   "cell_type": "markdown",
   "metadata": {},
   "source": [
    "![green-divider](https://user-images.githubusercontent.com/7065401/52071924-c003ad80-2562-11e9-8297-1c6595f8a7ff.png)\n",
    "### better approache of filter, i.e., retire the '', ' - ', and so on. In Reus"
   ]
  },
  {
   "cell_type": "code",
   "execution_count": 12,
   "metadata": {},
   "outputs": [
    {
     "name": "stderr",
     "output_type": "stream",
     "text": [
      "100%|██████████| 98979/98979 [00:01<00:00, 98256.75it/s]\n"
     ]
    },
    {
     "data": {
      "text/plain": [
       "[['Aldrin Eduardo Dias dos Santos', 'Daniel Dias dos Santos'],\n",
       " ['Diretor do Departamento de Despesa Pessoal do Estado de São Paulo'],\n",
       " ['Banco Itauleasing S/A'],\n",
       " [''],\n",
       " ['Fazenda Municipal de Araraquara'],\n",
       " ['BANCO DAYCOVAL S / A'],\n",
       " [''],\n",
       " [''],\n",
       " [''],\n",
       " ['']]"
      ]
     },
     "execution_count": 12,
     "metadata": {},
     "output_type": "execute_result"
    }
   ],
   "source": [
    "filtrados = []\n",
    "for i in tqdm(listinha):\n",
    "    \n",
    "    string = \"\"\n",
    "    if(type(i) == type(string)):\n",
    "        for char in i:\n",
    "\n",
    "            if (char != '[' and char != ']' and char != ',' and char != \"'\" and char != \"'\" and char != '-'):\n",
    "\n",
    "                if(string != \"\"):\n",
    "                    if(string[-1] == ' ' and char  == ' '):\n",
    "                        string = string[:-1] + ','\n",
    "                    else:\n",
    "                        string = string + char\n",
    "                else:\n",
    "                    string = string + char\n",
    "    filtrados.append(string)\n",
    "\n",
    "filtrados_reus = []\n",
    "for i in filtrados:\n",
    "    spl = i.split(',')\n",
    "    filtrados_reus.append(spl)\n",
    "filtrados_reus[0:10]"
   ]
  },
  {
   "cell_type": "markdown",
   "metadata": {},
   "source": [
    "![green-divider](https://user-images.githubusercontent.com/7065401/52071924-c003ad80-2562-11e9-8297-1c6595f8a7ff.png)\n",
    "### better approache of filter, i.e., retire the '', ' - ', and so on. In Autores"
   ]
  },
  {
   "cell_type": "code",
   "execution_count": 13,
   "metadata": {},
   "outputs": [
    {
     "data": {
      "text/plain": [
       "['Erick Carvalho dos Santos',\n",
       " 'Hortencia Zambom de Paiva',\n",
       " 'MARIA APARECIDA PANEGACI DE ARAUJO',\n",
       " 'Silas Tiago Alves Xavier',\n",
       " 'Mario Capobianco',\n",
       " 'JEAN CARLO AMADO',\n",
       " 'WASHINGTON LUIZ PEREIRA DE ALMEIDA',\n",
       " 'Justiça Pública',\n",
       " 'BV Financeira',\n",
       " 'Estado de São Paulo']"
      ]
     },
     "execution_count": 13,
     "metadata": {},
     "output_type": "execute_result"
    }
   ],
   "source": [
    "# pd.DataFrame(Autores).to_csv('Autores.csv')\n",
    "# pd.Series(Reus).to_csv('Reus.csv')\n",
    "\n",
    "Autores_df = pd.read_csv('Autores.csv')\n",
    "Autores_df = Autores_df.drop(columns=[Autores_df.columns[0]])\n",
    "series = Autores_df.T.squeeze()\n",
    "listinha = series.values.tolist()\n",
    "listinha[0:10]"
   ]
  },
  {
   "cell_type": "code",
   "execution_count": 14,
   "metadata": {},
   "outputs": [
    {
     "name": "stderr",
     "output_type": "stream",
     "text": [
      "100%|██████████| 98979/98979 [00:01<00:00, 65930.42it/s]\n"
     ]
    },
    {
     "data": {
      "text/plain": [
       "['Erick Carvalho dos Santos',\n",
       " 'Hortencia Zambom de Paiva',\n",
       " 'MARIA APARECIDA PANEGACI DE ARAUJO',\n",
       " 'Silas Tiago Alves Xavier',\n",
       " 'Mario Capobianco',\n",
       " 'JEAN CARLO AMADO',\n",
       " 'WASHINGTON LUIZ PEREIRA DE ALMEIDA',\n",
       " 'Justiça Pública',\n",
       " 'BV Financeira',\n",
       " 'Estado de São Paulo']"
      ]
     },
     "execution_count": 14,
     "metadata": {},
     "output_type": "execute_result"
    }
   ],
   "source": [
    "filtrados_autores = []\n",
    "for i in tqdm(listinha):\n",
    "    \n",
    "    string = \"\"\n",
    "    if(type(i) == type(string)):\n",
    "        for char in i:\n",
    "            if (char != '[' and char != ']' and char != ',' and char != \"'\" and char != \"'\" and char != '-' and char != '('and char != ')'):\n",
    "\n",
    "                if(string != \"\"):\n",
    "                    if(string[-1] == ' ' and char  == ' '):\n",
    "                        string = string[:-1] + ','\n",
    "                    else:\n",
    "                        string = string + char\n",
    "                else:\n",
    "                    string = string + char\n",
    "    filtrados_autores.append(string)\n",
    "filtrados_autores[0:10]"
   ]
  },
  {
   "cell_type": "markdown",
   "metadata": {},
   "source": [
    "![green-divider](https://user-images.githubusercontent.com/7065401/52071924-c003ad80-2562-11e9-8297-1c6595f8a7ff.png)\n",
    "### Defines the sex of Reus"
   ]
  },
  {
   "cell_type": "code",
   "execution_count": 15,
   "metadata": {},
   "outputs": [
    {
     "name": "stderr",
     "output_type": "stream",
     "text": [
      "100%|██████████| 98979/98979 [00:00<00:00, 113424.55it/s]\n"
     ]
    }
   ],
   "source": [
    "count = 0\n",
    "proximos_nomes = []\n",
    "posicoes = []\n",
    "primeiros_nomes = []\n",
    "\n",
    "for i,reus in enumerate(tqdm(filtrados)):\n",
    "    primeiro_nome = \"\"\n",
    "    achou_espaço = 0\n",
    "    achou_virgula = 0\n",
    "    \n",
    "    for j,char in enumerate(reus):\n",
    "        \n",
    "        if(char != ' ' and achou_espaço == 0):\n",
    "            primeiro_nome = primeiro_nome + char\n",
    "        else:\n",
    "            if(char == ' ' and j > 0):\n",
    "                achou_espaço = achou_espaço + 1\n",
    "        \n",
    "        if(char == ',' and achou_virgula > 0):\n",
    "            proximos_nomes.append(proximo_nome)\n",
    "            posicoes.append(i)\n",
    "            proximo_nome = \"\"\n",
    "            achou_virgula = achou_virgula + 1\n",
    "            achou_espaço = 1000\n",
    "            \n",
    "        if(char == ',' and achou_virgula == 0):\n",
    "            proximo_nome = \"\"\n",
    "            achou_virgula = achou_virgula + 1\n",
    "            achou_espaço = 1000\n",
    "            \n",
    "        if (char == ' ' and achou_espaço >= 1000):\n",
    "            achou_espaço = achou_espaço + 1\n",
    "            \n",
    "        if(char != ' ' and char != ',' and achou_virgula > 0 and achou_espaço == 1000):\n",
    "            proximo_nome = proximo_nome + char\n",
    "            \n",
    "    proximos_nomes.append(proximo_nome)\n",
    "    posicoes.append(i)\n",
    "    primeiros_nomes.append(primeiro_nome)\n",
    "    proximo_nome = \"\"\n",
    "    primeiro_nome = \"\""
   ]
  },
  {
   "cell_type": "code",
   "execution_count": 16,
   "metadata": {},
   "outputs": [
    {
     "name": "stderr",
     "output_type": "stream",
     "text": [
      "100%|██████████| 98979/98979 [01:01<00:00, 1618.23it/s] \n"
     ]
    },
    {
     "data": {
      "text/plain": [
       "[\"'Nome': Aldrin Eduardo Dias dos Santos, 'Sexo': 'Masculino', 'Pessoa': 'Física','Nome': Daniel Dias dos Santos, 'Sexo': 'Masculino', 'Pessoa': 'Física'\",\n",
       " 0,\n",
       " 0,\n",
       " 0,\n",
       " 0,\n",
       " 0,\n",
       " 0,\n",
       " 0,\n",
       " 0,\n",
       " 0,\n",
       " \"'Nome': Raphael Parisi, 'Sexo': 'Masculino', 'Pessoa': 'Física','Nome': Eduardo Bracher, 'Sexo': 'Masculino', 'Pessoa': 'Física','Nome': Liliana Angela Cocito Armanino, 'Sexo': 'Feminino', 'Pessoa': 'Física'\",\n",
       " 0]"
      ]
     },
     "execution_count": 16,
     "metadata": {},
     "output_type": "execute_result"
    }
   ],
   "source": [
    "reus_classificados = [0]*len(primeiros_nomes)\n",
    "\n",
    "for i in tqdm(range(len(primeiros_nomes))):\n",
    "    list_index = []\n",
    "    string = \"\"\n",
    "    for j in range(i, len(posicoes)):\n",
    "        if(posicoes[j] == i):\n",
    "            list_index.append(j)\n",
    "        if(posicoes[j] > i):\n",
    "            break\n",
    "            \n",
    "    if(classify_download(primeiros_nomes[i]) == 'F'):\n",
    "        if (string == \"\"):\n",
    "            string = string + \"'Nome': \" + filtrados_reus[i][0]+ \", 'Sexo': \" +\"'Feminino'\" + \", 'Pessoa': \" + \"'Física'\"\n",
    "            reus_classificados[i] = string\n",
    "            \n",
    "    if(classify_download(primeiros_nomes[i]) == 'M'):\n",
    "        if (string == \"\"):\n",
    "            string = string + \"'Nome': \" + filtrados_reus[i][0]+ \", 'Sexo': \" +\"'Masculino'\" + \", 'Pessoa': \" + \"'Física'\"\n",
    "            reus_classificados[i] = string\n",
    "    for j,index in enumerate(list_index):\n",
    "        \n",
    "        if(classify_download(proximos_nomes[index]) == 'F'):\n",
    "            if (string == \"\"):\n",
    "                string = string + \"'Nome': \" + filtrados_reus[i][j+1]+ \", 'Sexo': \" +\"'Feminino'\" + \", 'Pessoa': \" + \"'Física'\"\n",
    "                reus_classificados[i] = string\n",
    "            else:\n",
    "                string = string + \",'Nome': \" + filtrados_reus[i][j+1]+ \", 'Sexo': \" +\"'Feminino'\" + \", 'Pessoa': \" + \"'Física'\"\n",
    "                reus_classificados[i] = string\n",
    "                \n",
    "        if(classify_download(proximos_nomes[index]) == 'M'):\n",
    "            if (string == \"\"):\n",
    "                string = string + \"'Nome': \" + filtrados_reus[i][j+1]+ \", 'Sexo': \" +\"'Masculino'\" + \", 'Pessoa': \" + \"'Física'\"\n",
    "                reus_classificados[i] = string\n",
    "            else:\n",
    "                string = string + \",'Nome': \" + filtrados_reus[i][j+1]+ \", 'Sexo': \" +\"'Masculino'\" + \", 'Pessoa': \" + \"'Física'\"\n",
    "                reus_classificados[i] = string\n",
    "reus_classificados[0:12]            "
   ]
  },
  {
   "cell_type": "code",
   "execution_count": 17,
   "metadata": {},
   "outputs": [
    {
     "name": "stderr",
     "output_type": "stream",
     "text": [
      "100%|██████████| 98979/98979 [00:00<00:00, 180338.40it/s]\n"
     ]
    },
    {
     "data": {
      "text/plain": [
       "['Erick',\n",
       " 'Hortencia',\n",
       " 'MARIA',\n",
       " 'Silas',\n",
       " 'Mario',\n",
       " 'JEAN',\n",
       " 'WASHINGTON',\n",
       " 'Justiça',\n",
       " 'BV',\n",
       " 'Estado',\n",
       " 'Prefeitura',\n",
       " 'Banco']"
      ]
     },
     "execution_count": 17,
     "metadata": {},
     "output_type": "execute_result"
    }
   ],
   "source": [
    "primeiros_nomes_autor = []\n",
    "\n",
    "for i,autor in enumerate(tqdm(filtrados_autores)):\n",
    "    primeiro_nome = \"\"\n",
    "    achou_espaço = 0\n",
    "    achou_virgula = 0\n",
    "    \n",
    "    for j,char in enumerate(autor):\n",
    "        \n",
    "        if(char != ' ' and achou_espaço == 0):\n",
    "            primeiro_nome = primeiro_nome + char\n",
    "        else:\n",
    "            if(char == ' ' and j > 0):\n",
    "                achou_espaço = achou_espaço + 1\n",
    "        \n",
    "    primeiros_nomes_autor.append(primeiro_nome)\n",
    "    primeiro_nome = \"\"\n",
    "\n",
    "primeiros_nomes_autor[0:12]"
   ]
  },
  {
   "cell_type": "code",
   "execution_count": 18,
   "metadata": {},
   "outputs": [
    {
     "name": "stderr",
     "output_type": "stream",
     "text": [
      "100%|██████████| 98979/98979 [00:00<00:00, 364318.64it/s]\n"
     ]
    }
   ],
   "source": [
    "autores_classificados = [0]*len(primeiros_nomes_autor)\n",
    "\n",
    "for i in tqdm(range(len(primeiros_nomes_autor))):\n",
    "    list_index = []\n",
    "    string = \"\"\n",
    "    \n",
    "#     print(classify_download(primeiros_nomes_autor[i]) == 'F',classify_download(primeiros_nomes_autor[i]), primeiros_nomes_autor[i],i,filtrados_autores[i])\n",
    "    if(classify_download(primeiros_nomes_autor[i]) == 'F'):\n",
    "        string = string + \"'Nome': \" + filtrados_autores[i]+ \", 'Sexo': \" +\"'Feminino'\" + \", 'Pessoa': \" + \"'Física'\"\n",
    "        autores_classificados[i] = string\n",
    "            \n",
    "    if(classify_download(primeiros_nomes_autor[i]) == 'M'):\n",
    "        string = string + \"'Nome': \" + filtrados_autores[i]+ \", 'Sexo': \" +\"'Masculino'\" + \", 'Pessoa': \" + \"'Física'\"\n",
    "        autores_classificados[i] = string\n"
   ]
  },
  {
   "cell_type": "markdown",
   "metadata": {},
   "source": [
    "![green-divider](https://user-images.githubusercontent.com/7065401/52071924-c003ad80-2562-11e9-8297-1c6595f8a7ff.png)\n",
    "### Defines if the Autor/Reu is a Goverments or juridic person"
   ]
  },
  {
   "cell_type": "code",
   "execution_count": 19,
   "metadata": {},
   "outputs": [
    {
     "name": "stderr",
     "output_type": "stream",
     "text": [
      "100%|██████████| 98979/98979 [01:43<00:00, 953.11it/s] \n"
     ]
    },
    {
     "data": {
      "text/plain": [
       "(15131,)"
      ]
     },
     "execution_count": 19,
     "metadata": {},
     "output_type": "execute_result"
    }
   ],
   "source": [
    "# pd.DataFrame(filtrados_autores).to_csv('Autore_filtrados_test.csv')\n",
    "# r'(S+(/|\\.).*A)|(ltda)|( SA( |\\n))|(.Companhia( |\\n))|(( |^)cia( |\\.))|( [I]( |i+|\\n))|(condom(i|í)nio)|(ind(u|ú)stria)|(col(e|é)gio)|(escola)|(residencial)'\n",
    "count = 0\n",
    "\n",
    "for i,autor in enumerate(tqdm(filtrados_autores)):\n",
    "    \n",
    "    if(autores_classificados[i] == 0):\n",
    "        # classifying if the reus is a \n",
    "        has = re.search(r'(?i)(( S( |\\/|\\.).*A)|(ltda)|( SA)|(.Companhia( |\\n))|(( |^)cia( |\\.))|( [I]( |i+|\\n))|(condom(i|í)nio)|(ind(u|ú)stria)|(col(e|é)gio)|(escola)|(residencial))',autor)\n",
    "        if(has):\n",
    "            string = \"\"\n",
    "            string = string + \"'Nome': \" + filtrados_autores[i] + \", 'Pessoa': \" + \"'Jurídica'\"\n",
    "            autores_classificados[i] = string\n",
    "        else:\n",
    "            has = re.search(r'([A-Z]\\.( )*){2,}',autor)\n",
    "            if(has):\n",
    "                string = \"\"\n",
    "                string = string + \"'Nome': \" + filtrados_autores[i] + \", 'Pessoa': \" + \"'Segredo de Justiça'\"\n",
    "                autores_classificados[i] = string\n",
    "            else:\n",
    "                if(autores_classificados[i] == 0):\n",
    "                    classify_sent = nlp(autor)\n",
    "\n",
    "                    for ent in classify_sent.ents:\n",
    "#                         print(ent.text)\n",
    "                        if(ent.label_ in ['MISC','ORG','LOC']):\n",
    "                            count += 1\n",
    "# r'(?i)(justi(ç|a)a|p(u|ú)blica|estado|prefeitura|municipal|munic(í|i)pio|Secretaria)'\n",
    "\n",
    "# autores_classificados"
   ]
  },
  {
   "cell_type": "markdown",
   "metadata": {},
   "source": [
    "### TESTE TRAIN"
   ]
  },
  {
   "cell_type": "code",
   "execution_count": 20,
   "metadata": {
    "collapsed": true,
    "jupyter": {
     "outputs_hidden": true
    }
   },
   "outputs": [
    {
     "name": "stderr",
     "output_type": "stream",
     "text": [
      " 67%|██████▋   | 4/6 [00:00<00:00, 38.32it/s]"
     ]
    },
    {
     "name": "stdout",
     "output_type": "stream",
     "text": [
      "Created blank 'en' model\n"
     ]
    },
    {
     "name": "stderr",
     "output_type": "stream",
     "text": [
      "100%|██████████| 6/6 [00:00<00:00, 42.00it/s]\n",
      "100%|██████████| 6/6 [00:00<00:00, 50.15it/s]\n",
      "  0%|          | 0/6 [00:00<?, ?it/s]"
     ]
    },
    {
     "name": "stdout",
     "output_type": "stream",
     "text": [
      "{'ner': 35.40333342552185}\n",
      "{'ner': 21.68865977227688}\n"
     ]
    },
    {
     "name": "stderr",
     "output_type": "stream",
     "text": [
      "100%|██████████| 6/6 [00:00<00:00, 51.08it/s]\n",
      "100%|██████████| 6/6 [00:00<00:00, 49.40it/s]\n",
      "  0%|          | 0/6 [00:00<?, ?it/s]"
     ]
    },
    {
     "name": "stdout",
     "output_type": "stream",
     "text": [
      "{'ner': 11.208088452927768}\n",
      "{'ner': 7.421788937193924}\n"
     ]
    },
    {
     "name": "stderr",
     "output_type": "stream",
     "text": [
      "100%|██████████| 6/6 [00:00<00:00, 48.61it/s]\n",
      "100%|██████████| 6/6 [00:00<00:00, 51.20it/s]\n",
      "  0%|          | 0/6 [00:00<?, ?it/s]"
     ]
    },
    {
     "name": "stdout",
     "output_type": "stream",
     "text": [
      "{'ner': 8.905498244990667}\n",
      "{'ner': 7.725901573377882}\n"
     ]
    },
    {
     "name": "stderr",
     "output_type": "stream",
     "text": [
      "100%|██████████| 6/6 [00:00<00:00, 53.79it/s]\n",
      "100%|██████████| 6/6 [00:00<00:00, 54.44it/s]\n",
      "  0%|          | 0/6 [00:00<?, ?it/s]"
     ]
    },
    {
     "name": "stdout",
     "output_type": "stream",
     "text": [
      "{'ner': 5.92364479187745}\n",
      "{'ner': 5.693154236858845}\n"
     ]
    },
    {
     "name": "stderr",
     "output_type": "stream",
     "text": [
      "100%|██████████| 6/6 [00:00<00:00, 54.87it/s]\n",
      "100%|██████████| 6/6 [00:00<00:00, 53.38it/s]\n",
      "  0%|          | 0/6 [00:00<?, ?it/s]"
     ]
    },
    {
     "name": "stdout",
     "output_type": "stream",
     "text": [
      "{'ner': 3.832725231310743}\n",
      "{'ner': 3.0447046688037034}\n"
     ]
    },
    {
     "name": "stderr",
     "output_type": "stream",
     "text": [
      "100%|██████████| 6/6 [00:00<00:00, 54.91it/s]\n",
      "100%|██████████| 6/6 [00:00<00:00, 53.95it/s]\n",
      "  0%|          | 0/6 [00:00<?, ?it/s]"
     ]
    },
    {
     "name": "stdout",
     "output_type": "stream",
     "text": [
      "{'ner': 2.621231806672375}\n",
      "{'ner': 0.46316923661507586}\n"
     ]
    },
    {
     "name": "stderr",
     "output_type": "stream",
     "text": [
      "100%|██████████| 6/6 [00:00<00:00, 53.03it/s]\n",
      "100%|██████████| 6/6 [00:00<00:00, 50.54it/s]\n",
      "  0%|          | 0/6 [00:00<?, ?it/s]"
     ]
    },
    {
     "name": "stdout",
     "output_type": "stream",
     "text": [
      "{'ner': 0.366854653201623}\n",
      "{'ner': 0.8002491430459604}\n"
     ]
    },
    {
     "name": "stderr",
     "output_type": "stream",
     "text": [
      "100%|██████████| 6/6 [00:00<00:00, 49.38it/s]\n",
      "100%|██████████| 6/6 [00:00<00:00, 51.98it/s]\n",
      "  0%|          | 0/6 [00:00<?, ?it/s]"
     ]
    },
    {
     "name": "stdout",
     "output_type": "stream",
     "text": [
      "{'ner': 0.1297414425763781}\n",
      "{'ner': 0.16310973409838042}\n"
     ]
    },
    {
     "name": "stderr",
     "output_type": "stream",
     "text": [
      "100%|██████████| 6/6 [00:00<00:00, 53.44it/s]\n",
      "100%|██████████| 6/6 [00:00<00:00, 51.41it/s]\n",
      "  0%|          | 0/6 [00:00<?, ?it/s]"
     ]
    },
    {
     "name": "stdout",
     "output_type": "stream",
     "text": [
      "{'ner': 0.03138226869721899}\n",
      "{'ner': 0.0030054846544203128}\n"
     ]
    },
    {
     "name": "stderr",
     "output_type": "stream",
     "text": [
      "100%|██████████| 6/6 [00:00<00:00, 54.61it/s]\n",
      "100%|██████████| 6/6 [00:00<00:00, 55.83it/s]\n",
      "  0%|          | 0/6 [00:00<?, ?it/s]"
     ]
    },
    {
     "name": "stdout",
     "output_type": "stream",
     "text": [
      "{'ner': 0.0024184308686552793}\n",
      "{'ner': 0.0035745137383436897}\n"
     ]
    },
    {
     "name": "stderr",
     "output_type": "stream",
     "text": [
      "100%|██████████| 6/6 [00:00<00:00, 54.24it/s]\n",
      "100%|██████████| 6/6 [00:00<00:00, 55.77it/s]\n",
      "  0%|          | 0/6 [00:00<?, ?it/s]"
     ]
    },
    {
     "name": "stdout",
     "output_type": "stream",
     "text": [
      "{'ner': 0.00041889875294725756}\n",
      "{'ner': 0.03145847450574189}\n"
     ]
    },
    {
     "name": "stderr",
     "output_type": "stream",
     "text": [
      "100%|██████████| 6/6 [00:00<00:00, 54.51it/s]\n",
      "100%|██████████| 6/6 [00:00<00:00, 55.57it/s]\n",
      "  0%|          | 0/6 [00:00<?, ?it/s]"
     ]
    },
    {
     "name": "stdout",
     "output_type": "stream",
     "text": [
      "{'ner': 0.0134356441053959}\n",
      "{'ner': 0.002469259350339223}\n"
     ]
    },
    {
     "name": "stderr",
     "output_type": "stream",
     "text": [
      "100%|██████████| 6/6 [00:00<00:00, 55.39it/s]\n",
      "100%|██████████| 6/6 [00:00<00:00, 54.68it/s]\n",
      "  0%|          | 0/6 [00:00<?, ?it/s]"
     ]
    },
    {
     "name": "stdout",
     "output_type": "stream",
     "text": [
      "{'ner': 1.9946298916242034e-05}\n",
      "{'ner': 1.1103234189130705e-08}\n"
     ]
    },
    {
     "name": "stderr",
     "output_type": "stream",
     "text": [
      "100%|██████████| 6/6 [00:00<00:00, 54.14it/s]\n",
      "100%|██████████| 6/6 [00:00<00:00, 55.45it/s]\n",
      "  0%|          | 0/6 [00:00<?, ?it/s]"
     ]
    },
    {
     "name": "stdout",
     "output_type": "stream",
     "text": [
      "{'ner': 1.860072762412346e-08}\n",
      "{'ner': 2.6549168567599894e-07}\n"
     ]
    },
    {
     "name": "stderr",
     "output_type": "stream",
     "text": [
      "100%|██████████| 6/6 [00:00<00:00, 55.36it/s]\n",
      "100%|██████████| 6/6 [00:00<00:00, 55.47it/s]\n",
      "  0%|          | 0/6 [00:00<?, ?it/s]"
     ]
    },
    {
     "name": "stdout",
     "output_type": "stream",
     "text": [
      "{'ner': 0.00045032207317175307}\n",
      "{'ner': 3.1353531999739043e-06}\n"
     ]
    },
    {
     "name": "stderr",
     "output_type": "stream",
     "text": [
      "100%|██████████| 6/6 [00:00<00:00, 54.56it/s]\n",
      "100%|██████████| 6/6 [00:00<00:00, 55.65it/s]\n",
      "  0%|          | 0/6 [00:00<?, ?it/s]"
     ]
    },
    {
     "name": "stdout",
     "output_type": "stream",
     "text": [
      "{'ner': 6.232319016627847e-10}\n",
      "{'ner': 5.45471697680288e-06}\n"
     ]
    },
    {
     "name": "stderr",
     "output_type": "stream",
     "text": [
      "100%|██████████| 6/6 [00:00<00:00, 55.32it/s]\n",
      "100%|██████████| 6/6 [00:00<00:00, 54.60it/s]\n",
      "  0%|          | 0/6 [00:00<?, ?it/s]"
     ]
    },
    {
     "name": "stdout",
     "output_type": "stream",
     "text": [
      "{'ner': 1.9032174074690871e-07}\n",
      "{'ner': 8.396537280609475e-06}\n"
     ]
    },
    {
     "name": "stderr",
     "output_type": "stream",
     "text": [
      "100%|██████████| 6/6 [00:00<00:00, 55.67it/s]\n",
      "100%|██████████| 6/6 [00:00<00:00, 55.01it/s]\n",
      "  0%|          | 0/6 [00:00<?, ?it/s]"
     ]
    },
    {
     "name": "stdout",
     "output_type": "stream",
     "text": [
      "{'ner': 0.00014970663067955626}\n",
      "{'ner': 6.324895075293401e-05}\n"
     ]
    },
    {
     "name": "stderr",
     "output_type": "stream",
     "text": [
      "100%|██████████| 6/6 [00:00<00:00, 54.94it/s]\n",
      "100%|██████████| 6/6 [00:00<00:00, 55.16it/s]\n",
      "  0%|          | 0/6 [00:00<?, ?it/s]"
     ]
    },
    {
     "name": "stdout",
     "output_type": "stream",
     "text": [
      "{'ner': 2.542433461354085e-09}\n",
      "{'ner': 1.8545907768115675e-07}\n"
     ]
    },
    {
     "name": "stderr",
     "output_type": "stream",
     "text": [
      "100%|██████████| 6/6 [00:00<00:00, 54.78it/s]\n",
      "100%|██████████| 6/6 [00:00<00:00, 55.43it/s]\n",
      "  0%|          | 0/6 [00:00<?, ?it/s]"
     ]
    },
    {
     "name": "stdout",
     "output_type": "stream",
     "text": [
      "{'ner': 2.3602725621145094e-08}\n",
      "{'ner': 1.7885420299870938e-07}\n"
     ]
    },
    {
     "name": "stderr",
     "output_type": "stream",
     "text": [
      "100%|██████████| 6/6 [00:00<00:00, 54.59it/s]\n",
      "100%|██████████| 6/6 [00:00<00:00, 54.37it/s]\n",
      "  0%|          | 0/6 [00:00<?, ?it/s]"
     ]
    },
    {
     "name": "stdout",
     "output_type": "stream",
     "text": [
      "{'ner': 1.9656867020122234e-09}\n",
      "{'ner': 3.1175290452823745e-07}\n"
     ]
    },
    {
     "name": "stderr",
     "output_type": "stream",
     "text": [
      "100%|██████████| 6/6 [00:00<00:00, 54.79it/s]\n",
      "100%|██████████| 6/6 [00:00<00:00, 56.12it/s]\n",
      "  0%|          | 0/6 [00:00<?, ?it/s]"
     ]
    },
    {
     "name": "stdout",
     "output_type": "stream",
     "text": [
      "{'ner': 9.480899567232468e-08}\n",
      "{'ner': 7.896430530521583e-05}\n"
     ]
    },
    {
     "name": "stderr",
     "output_type": "stream",
     "text": [
      "100%|██████████| 6/6 [00:00<00:00, 54.50it/s]\n",
      "100%|██████████| 6/6 [00:00<00:00, 55.45it/s]\n",
      "  0%|          | 0/6 [00:00<?, ?it/s]"
     ]
    },
    {
     "name": "stdout",
     "output_type": "stream",
     "text": [
      "{'ner': 4.244386798361323e-06}\n",
      "{'ner': 7.006385786958363e-09}\n"
     ]
    },
    {
     "name": "stderr",
     "output_type": "stream",
     "text": [
      "100%|██████████| 6/6 [00:00<00:00, 55.81it/s]\n",
      "100%|██████████| 6/6 [00:00<00:00, 55.24it/s]\n",
      "  0%|          | 0/6 [00:00<?, ?it/s]"
     ]
    },
    {
     "name": "stdout",
     "output_type": "stream",
     "text": [
      "{'ner': 0.0008725894944676365}\n",
      "{'ner': 7.330317454692724e-10}\n"
     ]
    },
    {
     "name": "stderr",
     "output_type": "stream",
     "text": [
      "100%|██████████| 6/6 [00:00<00:00, 55.91it/s]\n",
      "100%|██████████| 6/6 [00:00<00:00, 55.63it/s]\n",
      "  0%|          | 0/6 [00:00<?, ?it/s]"
     ]
    },
    {
     "name": "stdout",
     "output_type": "stream",
     "text": [
      "{'ner': 1.8764327646059585e-06}\n",
      "{'ner': 1.8414780559526518e-07}\n"
     ]
    },
    {
     "name": "stderr",
     "output_type": "stream",
     "text": [
      "100%|██████████| 6/6 [00:00<00:00, 51.86it/s]\n",
      "100%|██████████| 6/6 [00:00<00:00, 48.20it/s]\n",
      "  0%|          | 0/6 [00:00<?, ?it/s]"
     ]
    },
    {
     "name": "stdout",
     "output_type": "stream",
     "text": [
      "{'ner': 2.5451724032143156e-06}\n",
      "{'ner': 4.6096930850415397e-10}\n"
     ]
    },
    {
     "name": "stderr",
     "output_type": "stream",
     "text": [
      "100%|██████████| 6/6 [00:00<00:00, 49.18it/s]\n",
      "100%|██████████| 6/6 [00:00<00:00, 49.53it/s]\n",
      "  0%|          | 0/6 [00:00<?, ?it/s]"
     ]
    },
    {
     "name": "stdout",
     "output_type": "stream",
     "text": [
      "{'ner': 2.500978674803386e-07}\n",
      "{'ner': 1.737313224650916e-05}\n"
     ]
    },
    {
     "name": "stderr",
     "output_type": "stream",
     "text": [
      "100%|██████████| 6/6 [00:00<00:00, 50.42it/s]\n",
      "100%|██████████| 6/6 [00:00<00:00, 53.21it/s]\n",
      "  0%|          | 0/6 [00:00<?, ?it/s]"
     ]
    },
    {
     "name": "stdout",
     "output_type": "stream",
     "text": [
      "{'ner': 1.3117509421055844e-08}\n",
      "{'ner': 1.1459777043732613e-12}\n"
     ]
    },
    {
     "name": "stderr",
     "output_type": "stream",
     "text": [
      "100%|██████████| 6/6 [00:00<00:00, 53.47it/s]\n",
      "100%|██████████| 6/6 [00:00<00:00, 55.71it/s]\n",
      "  0%|          | 0/6 [00:00<?, ?it/s]"
     ]
    },
    {
     "name": "stdout",
     "output_type": "stream",
     "text": [
      "{'ner': 6.112934081932147e-11}\n",
      "{'ner': 2.0531262408618194e-07}\n"
     ]
    },
    {
     "name": "stderr",
     "output_type": "stream",
     "text": [
      "100%|██████████| 6/6 [00:00<00:00, 54.13it/s]\n",
      "100%|██████████| 6/6 [00:00<00:00, 54.36it/s]\n",
      "  0%|          | 0/6 [00:00<?, ?it/s]"
     ]
    },
    {
     "name": "stdout",
     "output_type": "stream",
     "text": [
      "{'ner': 2.777067182671519e-11}\n",
      "{'ner': 2.1671669220748682e-06}\n"
     ]
    },
    {
     "name": "stderr",
     "output_type": "stream",
     "text": [
      "100%|██████████| 6/6 [00:00<00:00, 55.07it/s]\n",
      "100%|██████████| 6/6 [00:00<00:00, 52.80it/s]\n",
      "  0%|          | 0/6 [00:00<?, ?it/s]"
     ]
    },
    {
     "name": "stdout",
     "output_type": "stream",
     "text": [
      "{'ner': 2.983020254808775e-07}\n",
      "{'ner': 1.2061690478657577e-06}\n"
     ]
    },
    {
     "name": "stderr",
     "output_type": "stream",
     "text": [
      "100%|██████████| 6/6 [00:00<00:00, 52.05it/s]\n",
      "100%|██████████| 6/6 [00:00<00:00, 53.57it/s]\n",
      "  0%|          | 0/6 [00:00<?, ?it/s]"
     ]
    },
    {
     "name": "stdout",
     "output_type": "stream",
     "text": [
      "{'ner': 1.9227830442497907e-09}\n",
      "{'ner': 0.0014251745493759566}\n"
     ]
    },
    {
     "name": "stderr",
     "output_type": "stream",
     "text": [
      "100%|██████████| 6/6 [00:00<00:00, 52.77it/s]\n",
      "100%|██████████| 6/6 [00:00<00:00, 54.79it/s]\n",
      "  0%|          | 0/6 [00:00<?, ?it/s]"
     ]
    },
    {
     "name": "stdout",
     "output_type": "stream",
     "text": [
      "{'ner': 8.96658786807838e-08}\n",
      "{'ner': 0.003896628554585851}\n"
     ]
    },
    {
     "name": "stderr",
     "output_type": "stream",
     "text": [
      "100%|██████████| 6/6 [00:00<00:00, 54.56it/s]\n",
      "100%|██████████| 6/6 [00:00<00:00, 56.08it/s]\n",
      "  0%|          | 0/6 [00:00<?, ?it/s]"
     ]
    },
    {
     "name": "stdout",
     "output_type": "stream",
     "text": [
      "{'ner': 1.0474045227699122e-10}\n",
      "{'ner': 1.8787387759727127e-11}\n"
     ]
    },
    {
     "name": "stderr",
     "output_type": "stream",
     "text": [
      "100%|██████████| 6/6 [00:00<00:00, 55.28it/s]\n",
      "100%|██████████| 6/6 [00:00<00:00, 55.41it/s]\n",
      "  0%|          | 0/6 [00:00<?, ?it/s]"
     ]
    },
    {
     "name": "stdout",
     "output_type": "stream",
     "text": [
      "{'ner': 2.374126182268725e-10}\n",
      "{'ner': 2.1231575236597122e-08}\n"
     ]
    },
    {
     "name": "stderr",
     "output_type": "stream",
     "text": [
      "100%|██████████| 6/6 [00:00<00:00, 55.46it/s]\n",
      "100%|██████████| 6/6 [00:00<00:00, 51.09it/s]\n",
      "  0%|          | 0/6 [00:00<?, ?it/s]"
     ]
    },
    {
     "name": "stdout",
     "output_type": "stream",
     "text": [
      "{'ner': 1.887101435953114e-09}\n",
      "{'ner': 1.711994309057509e-06}\n"
     ]
    },
    {
     "name": "stderr",
     "output_type": "stream",
     "text": [
      "100%|██████████| 6/6 [00:00<00:00, 53.55it/s]\n",
      "100%|██████████| 6/6 [00:00<00:00, 55.01it/s]\n",
      "  0%|          | 0/6 [00:00<?, ?it/s]"
     ]
    },
    {
     "name": "stdout",
     "output_type": "stream",
     "text": [
      "{'ner': 2.6437123344223094e-09}\n",
      "{'ner': 9.405954554153001e-12}\n"
     ]
    },
    {
     "name": "stderr",
     "output_type": "stream",
     "text": [
      "100%|██████████| 6/6 [00:00<00:00, 54.19it/s]\n",
      "100%|██████████| 6/6 [00:00<00:00, 54.90it/s]\n",
      "  0%|          | 0/6 [00:00<?, ?it/s]"
     ]
    },
    {
     "name": "stdout",
     "output_type": "stream",
     "text": [
      "{'ner': 3.679622674777563e-07}\n",
      "{'ner': 1.077077202441292e-10}\n"
     ]
    },
    {
     "name": "stderr",
     "output_type": "stream",
     "text": [
      "100%|██████████| 6/6 [00:00<00:00, 52.76it/s]\n",
      "100%|██████████| 6/6 [00:00<00:00, 51.94it/s]\n",
      "  0%|          | 0/6 [00:00<?, ?it/s]"
     ]
    },
    {
     "name": "stdout",
     "output_type": "stream",
     "text": [
      "{'ner': 7.217920560386205e-11}\n",
      "{'ner': 4.563918922965613e-12}\n"
     ]
    },
    {
     "name": "stderr",
     "output_type": "stream",
     "text": [
      "100%|██████████| 6/6 [00:00<00:00, 48.89it/s]\n",
      "100%|██████████| 6/6 [00:00<00:00, 49.87it/s]\n",
      "  0%|          | 0/6 [00:00<?, ?it/s]"
     ]
    },
    {
     "name": "stdout",
     "output_type": "stream",
     "text": [
      "{'ner': 5.930400563155839e-11}\n",
      "{'ner': 8.727348810640366e-09}\n"
     ]
    },
    {
     "name": "stderr",
     "output_type": "stream",
     "text": [
      "100%|██████████| 6/6 [00:00<00:00, 47.53it/s]\n",
      "100%|██████████| 6/6 [00:00<00:00, 46.09it/s]\n",
      "  0%|          | 0/6 [00:00<?, ?it/s]"
     ]
    },
    {
     "name": "stdout",
     "output_type": "stream",
     "text": [
      "{'ner': 5.355634090787912e-12}\n",
      "{'ner': 3.9815009495261333e-10}\n"
     ]
    },
    {
     "name": "stderr",
     "output_type": "stream",
     "text": [
      "100%|██████████| 6/6 [00:00<00:00, 43.62it/s]\n",
      "100%|██████████| 6/6 [00:00<00:00, 45.71it/s]\n",
      "  0%|          | 0/6 [00:00<?, ?it/s]"
     ]
    },
    {
     "name": "stdout",
     "output_type": "stream",
     "text": [
      "{'ner': 4.7225230118774204e-08}\n",
      "{'ner': 1.8665417256366144e-08}\n"
     ]
    },
    {
     "name": "stderr",
     "output_type": "stream",
     "text": [
      "100%|██████████| 6/6 [00:00<00:00, 45.23it/s]\n",
      "100%|██████████| 6/6 [00:00<00:00, 45.33it/s]\n",
      "  0%|          | 0/6 [00:00<?, ?it/s]"
     ]
    },
    {
     "name": "stdout",
     "output_type": "stream",
     "text": [
      "{'ner': 1.0157635174112374e-06}\n",
      "{'ner': 1.593032140438632e-06}\n"
     ]
    },
    {
     "name": "stderr",
     "output_type": "stream",
     "text": [
      "100%|██████████| 6/6 [00:00<00:00, 43.95it/s]\n",
      "100%|██████████| 6/6 [00:00<00:00, 42.84it/s]\n",
      "  0%|          | 0/6 [00:00<?, ?it/s]"
     ]
    },
    {
     "name": "stdout",
     "output_type": "stream",
     "text": [
      "{'ner': 3.44451010822139e-10}\n",
      "{'ner': 1.4778865198193382e-10}\n"
     ]
    },
    {
     "name": "stderr",
     "output_type": "stream",
     "text": [
      "100%|██████████| 6/6 [00:00<00:00, 42.08it/s]\n",
      "100%|██████████| 6/6 [00:00<00:00, 41.36it/s]\n",
      "  0%|          | 0/6 [00:00<?, ?it/s]"
     ]
    },
    {
     "name": "stdout",
     "output_type": "stream",
     "text": [
      "{'ner': 1.607739597273905e-11}\n",
      "{'ner': 3.352005665894437e-08}\n"
     ]
    },
    {
     "name": "stderr",
     "output_type": "stream",
     "text": [
      "100%|██████████| 6/6 [00:00<00:00, 40.69it/s]\n",
      "100%|██████████| 6/6 [00:00<00:00, 40.25it/s]\n",
      "  0%|          | 0/6 [00:00<?, ?it/s]"
     ]
    },
    {
     "name": "stdout",
     "output_type": "stream",
     "text": [
      "{'ner': 2.297454491508431e-12}\n",
      "{'ner': 1.440190626222984e-08}\n"
     ]
    },
    {
     "name": "stderr",
     "output_type": "stream",
     "text": [
      "100%|██████████| 6/6 [00:00<00:00, 39.96it/s]\n",
      "100%|██████████| 6/6 [00:00<00:00, 38.87it/s]\n",
      "  0%|          | 0/6 [00:00<?, ?it/s]"
     ]
    },
    {
     "name": "stdout",
     "output_type": "stream",
     "text": [
      "{'ner': 5.926571691517205e-12}\n",
      "{'ner': 6.240909267351477e-11}\n"
     ]
    },
    {
     "name": "stderr",
     "output_type": "stream",
     "text": [
      "100%|██████████| 6/6 [00:00<00:00, 38.35it/s]\n",
      "100%|██████████| 6/6 [00:00<00:00, 36.59it/s]\n",
      "  0%|          | 0/6 [00:00<?, ?it/s]"
     ]
    },
    {
     "name": "stdout",
     "output_type": "stream",
     "text": [
      "{'ner': 4.3190060143837885e-11}\n",
      "{'ner': 1.9659869316878324e-12}\n"
     ]
    },
    {
     "name": "stderr",
     "output_type": "stream",
     "text": [
      "100%|██████████| 6/6 [00:00<00:00, 37.58it/s]\n",
      "100%|██████████| 6/6 [00:00<00:00, 37.29it/s]\n",
      "  0%|          | 0/6 [00:00<?, ?it/s]"
     ]
    },
    {
     "name": "stdout",
     "output_type": "stream",
     "text": [
      "{'ner': 3.250985455769265e-11}\n",
      "{'ner': 2.355748260332562e-09}\n"
     ]
    },
    {
     "name": "stderr",
     "output_type": "stream",
     "text": [
      "100%|██████████| 6/6 [00:00<00:00, 35.76it/s]\n",
      "100%|██████████| 6/6 [00:00<00:00, 35.71it/s]\n"
     ]
    },
    {
     "name": "stdout",
     "output_type": "stream",
     "text": [
      "{'ner': 1.3280179184245696e-11}\n",
      "{'ner': 0.00010287620114499149}\n",
      "Entities [('Horses', 'ANIMAL')]\n",
      "Tokens [('Horses', 'ANIMAL', 3), ('are', '', 2), ('too', '', 2), ('tall', '', 2), ('and', '', 2), ('they', '', 2), ('pretend', '', 2), ('to', '', 2), ('care', '', 2), ('about', '', 2), ('your', '', 2), ('feelings', '', 2)]\n",
      "Entities [('horses', 'ANIMAL')]\n",
      "Tokens [('horses', 'ANIMAL', 3), ('?', '', 2)]\n",
      "Entities []\n",
      "Tokens [('Do', '', 2), ('they', '', 2), ('bite', '', 2), ('?', '', 2)]\n",
      "Entities [('horses', 'ANIMAL')]\n",
      "Tokens [('horses', 'ANIMAL', 3), ('are', '', 2), ('too', '', 2), ('tall', '', 2), ('and', '', 2), ('they', '', 2), ('pretend', '', 2), ('to', '', 2), ('care', '', 2), ('about', '', 2), ('your', '', 2), ('feelings', '', 2)]\n",
      "Entities [('horses', 'ANIMAL')]\n",
      "Tokens [('they', '', 2), ('pretend', '', 2), ('to', '', 2), ('care', '', 2), ('about', '', 2), ('your', '', 2), ('feelings', '', 2), (',', '', 2), ('those', '', 2), ('horses', 'ANIMAL', 3)]\n",
      "Entities [('horses', 'ANIMAL')]\n",
      "Tokens [('horses', 'ANIMAL', 3), ('pretend', '', 2), ('to', '', 2), ('care', '', 2), ('about', '', 2), ('your', '', 2), ('feelings', '', 2)]\n",
      "Saved model to /media/rafael/D/2020 RAFAEL/Faculdade/ICs/IC Direito/codes/pre-processing/model_test\n",
      "Loading from /media/rafael/D/2020 RAFAEL/Faculdade/ICs/IC Direito/codes/pre-processing/model_test\n",
      "Entities [('Horses', 'ANIMAL')]\n",
      "Tokens [('Horses', 'ANIMAL', 3), ('are', '', 2), ('too', '', 2), ('tall', '', 2), ('and', '', 2), ('they', '', 2), ('pretend', '', 2), ('to', '', 2), ('care', '', 2), ('about', '', 2), ('your', '', 2), ('feelings', '', 2)]\n",
      "Entities [('horses', 'ANIMAL')]\n",
      "Tokens [('horses', 'ANIMAL', 3), ('?', '', 2)]\n",
      "Entities []\n",
      "Tokens [('Do', '', 2), ('they', '', 2), ('bite', '', 2), ('?', '', 2)]\n",
      "Entities [('horses', 'ANIMAL')]\n",
      "Tokens [('horses', 'ANIMAL', 3), ('are', '', 2), ('too', '', 2), ('tall', '', 2), ('and', '', 2), ('they', '', 2), ('pretend', '', 2), ('to', '', 2), ('care', '', 2), ('about', '', 2), ('your', '', 2), ('feelings', '', 2)]\n",
      "Entities [('horses', 'ANIMAL')]\n",
      "Tokens [('they', '', 2), ('pretend', '', 2), ('to', '', 2), ('care', '', 2), ('about', '', 2), ('your', '', 2), ('feelings', '', 2), (',', '', 2), ('those', '', 2), ('horses', 'ANIMAL', 3)]\n",
      "Entities [('horses', 'ANIMAL')]\n",
      "Tokens [('horses', 'ANIMAL', 3), ('pretend', '', 2), ('to', '', 2), ('care', '', 2), ('about', '', 2), ('your', '', 2), ('feelings', '', 2)]\n"
     ]
    }
   ],
   "source": [
    "from __future__ import unicode_literals, print_function\n",
    "\n",
    "import plac\n",
    "import random\n",
    "from pathlib import Path\n",
    "import spacy\n",
    "\n",
    "# new entity label\n",
    "LABEL = 'ANIMAL'\n",
    "\n",
    "\n",
    "TRAIN_DATA = [\n",
    "    (\"Horses are too tall and they pretend to care about your feelings\", {\n",
    "        'entities': [(0, 6, 'ANIMAL')]\n",
    "    }),\n",
    "\n",
    "    (\"Do they bite?\", {\n",
    "        'entities': []\n",
    "    }),\n",
    "\n",
    "    (\"horses are too tall and they pretend to care about your feelings\", {\n",
    "        'entities': [(0, 6, 'ANIMAL')]\n",
    "    }),\n",
    "\n",
    "    (\"horses pretend to care about your feelings\", {\n",
    "        'entities': [(0, 6, 'ANIMAL')]\n",
    "    }),\n",
    "\n",
    "    (\"they pretend to care about your feelings, those horses\", {\n",
    "        'entities': [(48, 54, 'ANIMAL')]\n",
    "    }),\n",
    "\n",
    "    (\"horses?\", {\n",
    "        'entities': [(0, 6, 'ANIMAL')]\n",
    "    })\n",
    "]\n",
    "model = None\n",
    "output_dir=Path(\"/media/rafael/D/2020 RAFAEL/Faculdade/ICs/IC Direito/codes/pre-processing/model_test/\")\n",
    "n_iter=100\n",
    "\n",
    "if model is not None:\n",
    "    nlp = spacy.load(model)  # load existing spaCy model\n",
    "    print(\"Loaded model '%s'\" % model)\n",
    "else:\n",
    "    nlp = spacy.blank('en')  # create blank Language class\n",
    "    print(\"Created blank 'en' model\")\n",
    "    \n",
    "# create the built-in pipeline components and add them to the pipeline\n",
    "    # nlp.create_pipe works for built-ins that are registered with spaCy\n",
    "if 'ner' not in nlp.pipe_names:\n",
    "    ner = nlp.create_pipe('ner')\n",
    "    nlp.add_pipe(ner, last=True)\n",
    "# otherwise, get it so we can add labels\n",
    "else:\n",
    "    ner = nlp.get_pipe('ner')\n",
    "    \n",
    "# add labels\n",
    "for _, annotations in TRAIN_DATA:\n",
    "    for ent in annotations.get('entities'):\n",
    "        ner.add_label(ent[2])\n",
    "\n",
    "    # get names of other pipes to disable them during training\n",
    "other_pipes = [pipe for pipe in nlp.pipe_names if pipe != 'ner']\n",
    "with nlp.disable_pipes(*other_pipes):  # only train NER\n",
    "    optimizer = nlp.begin_training()\n",
    "    for itn in range(n_iter):\n",
    "        random.shuffle(TRAIN_DATA)\n",
    "        losses = {}\n",
    "        for text, annotations in tqdm(TRAIN_DATA):\n",
    "            nlp.update(\n",
    "                [text],  # batch of texts\n",
    "                [annotations],  # batch of annotations\n",
    "                drop=0.5,  # dropout - make it harder to memorise data\n",
    "                sgd=optimizer,  # callable to update weights\n",
    "                losses=losses)\n",
    "        print(losses)\n",
    "for text, _ in TRAIN_DATA:\n",
    "    doc = nlp(text)\n",
    "    print('Entities', [(ent.text, ent.label_) for ent in doc.ents])\n",
    "    print('Tokens', [(t.text, t.ent_type_, t.ent_iob) for t in doc])\n",
    "    \n",
    "if output_dir is not None:\n",
    "    output_dir = Path(output_dir)\n",
    "    if not output_dir.exists():\n",
    "        output_dir.mkdir()\n",
    "    nlp.to_disk(output_dir)\n",
    "    print(\"Saved model to\", output_dir)\n",
    "    \n",
    "# test the saved model\n",
    "print(\"Loading from\", output_dir)\n",
    "nlp2 = spacy.load(output_dir)\n",
    "for text, _ in TRAIN_DATA:\n",
    "    doc = nlp2(text)\n",
    "    print('Entities', [(ent.text, ent.label_) for ent in doc.ents])\n",
    "    print('Tokens', [(t.text, t.ent_type_, t.ent_iob) for t in doc])"
   ]
  },
  {
   "cell_type": "markdown",
   "metadata": {},
   "source": [
    "### FIM TESTE TRAIN"
   ]
  },
  {
   "cell_type": "code",
   "execution_count": 21,
   "metadata": {
    "collapsed": true,
    "jupyter": {
     "outputs_hidden": true
    }
   },
   "outputs": [
    {
     "data": {
      "text/plain": [
       "[\"'Nome': Erick Carvalho dos Santos, 'Sexo': 'Masculino', 'Pessoa': 'Física'\",\n",
       " \"'Nome': Hortencia Zambom de Paiva, 'Sexo': 'Feminino', 'Pessoa': 'Física'\",\n",
       " \"'Nome': MARIA APARECIDA PANEGACI DE ARAUJO, 'Sexo': 'Feminino', 'Pessoa': 'Física'\",\n",
       " \"'Nome': Silas Tiago Alves Xavier, 'Sexo': 'Masculino', 'Pessoa': 'Física'\",\n",
       " \"'Nome': Mario Capobianco, 'Sexo': 'Masculino', 'Pessoa': 'Física'\",\n",
       " \"'Nome': JEAN CARLO AMADO, 'Sexo': 'Masculino', 'Pessoa': 'Física'\",\n",
       " \"'Nome': WASHINGTON LUIZ PEREIRA DE ALMEIDA, 'Sexo': 'Masculino', 'Pessoa': 'Física'\",\n",
       " 0,\n",
       " 0,\n",
       " 0,\n",
       " 0,\n",
       " \"'Nome': Banco Santander Brasil SA e outro, 'Pessoa': 'Jurídica'\",\n",
       " \"'Nome': Marcos Balbino Pereira, 'Sexo': 'Masculino', 'Pessoa': 'Física'\",\n",
       " \"'Nome': Mundaka Investimentos Ltda, 'Pessoa': 'Jurídica'\",\n",
       " \"'Nome': VALTER DA SILVA, 'Sexo': 'Masculino', 'Pessoa': 'Física'\",\n",
       " \"'Nome': Iara Marta França Xavier, 'Sexo': 'Feminino', 'Pessoa': 'Física'\",\n",
       " \"'Nome': M. R. D. C. B., 'Pessoa': 'Segredo de Justiça'\",\n",
       " \"'Nome': Verailza Rocha Luz, 'Sexo': 'Feminino', 'Pessoa': 'Física'\",\n",
       " \"'Nome': Banco Bradesco Sa, 'Pessoa': 'Jurídica'\",\n",
       " \"'Nome': CREDIFIBRA S/A CREDITO FINANCIAMENTO E INVESTIMENTO, 'Pessoa': 'Jurídica'\",\n",
       " 0,\n",
       " \"'Nome': Neuza Schimidt Vilela, 'Sexo': 'Feminino', 'Pessoa': 'Física'\",\n",
       " \"'Nome': Intersteel Acos e Metais Ltda, 'Pessoa': 'Jurídica'\",\n",
       " \"'Nome': Tânia Crystina Engler de Siqueira, 'Sexo': 'Feminino', 'Pessoa': 'Física'\",\n",
       " \"'Nome': BANCO BRADESCO FINANCIAMENTOS S/A., 'Pessoa': 'Jurídica'\",\n",
       " \"'Nome': LEILA NHOATO DE GODOY GRAMACHO, 'Sexo': 'Feminino', 'Pessoa': 'Física'\",\n",
       " \"'Nome': G.L.P., 'Pessoa': 'Segredo de Justiça'\",\n",
       " 0,\n",
       " \"'Nome': Jaú, 'Sexo': 'Masculino', 'Pessoa': 'Física'\",\n",
       " \"'Nome': Lima & Fratoni Ltda, 'Sexo': 'Masculino', 'Pessoa': 'Física'\",\n",
       " \"'Nome': Rodrigo Ferreira Delgado, 'Sexo': 'Masculino', 'Pessoa': 'Física'\",\n",
       " \"'Nome': Luiz Giovanini, 'Sexo': 'Masculino', 'Pessoa': 'Física'\",\n",
       " \"'Nome': Pimenta & Pimenta Comércio de Veículos Ltda, 'Pessoa': 'Jurídica'\",\n",
       " \"'Nome': Paulo Jose Barbosa, 'Sexo': 'Masculino', 'Pessoa': 'Física'\",\n",
       " \"'Nome': NEWPAV CONSTRUÇÃO E PAVIMENTAÇÃO LTDA, 'Pessoa': 'Jurídica'\",\n",
       " \"'Nome': AYMORÉ CRÉDITO FINANCIAMENTO E INVESTIMENTO S/A, 'Sexo': 'Masculino', 'Pessoa': 'Física'\",\n",
       " \"'Nome': João Gomes da Silva, 'Sexo': 'Masculino', 'Pessoa': 'Física'\",\n",
       " \"'Nome': Laura Judith Novik Falcão, 'Sexo': 'Feminino', 'Pessoa': 'Física'\",\n",
       " \"'Nome': EM COLÉGIO UNIVERSITÁRIO DE TABOAO DA SERRA LTDA EPP, 'Pessoa': 'Jurídica'\",\n",
       " \"'Nome': Madeu e Costa Ltda, 'Pessoa': 'Jurídica'\",\n",
       " \"'Nome': S.C.D., 'Pessoa': 'Segredo de Justiça'\",\n",
       " \"'Nome': ,I. G. A. B. E OUTROS, 'Pessoa': 'Segredo de Justiça'\",\n",
       " \"'Nome': Vagner Antonio Soares, 'Sexo': 'Masculino', 'Pessoa': 'Física'\",\n",
       " \"'Nome': Banco Pecunia S/A, 'Pessoa': 'Jurídica'\",\n",
       " \"'Nome': SPF Colchões Ltda, 'Pessoa': 'Jurídica'\",\n",
       " \"'Nome': A.S.S., 'Pessoa': 'Segredo de Justiça'\",\n",
       " 0,\n",
       " \"'Nome': I. G. T., 'Pessoa': 'Segredo de Justiça'\",\n",
       " \"'Nome': Jucineia Pereira da Trindade, 'Sexo': 'Feminino', 'Pessoa': 'Física'\",\n",
       " \"'Nome': FRILAN DISTRIBUIDORA DE GENEROS ALIMENTICIOS LTDA., 'Pessoa': 'Jurídica'\",\n",
       " \"'Nome': RAFAEL JULIANO RIBEIRO, 'Sexo': 'Masculino', 'Pessoa': 'Física'\",\n",
       " \"'Nome': Condominio Residencial London, 'Pessoa': 'Jurídica'\",\n",
       " \"'Nome': VALFORTE ACESSÓRIOS INDUSTRIAIS LTDA., 'Pessoa': 'Jurídica'\",\n",
       " \"'Nome': L.G.V.G., 'Pessoa': 'Segredo de Justiça'\",\n",
       " \"'Nome': PMJT TINTAS E VERNIZES LTDA,EM FASE DE EXECUCAO , 'Pessoa': 'Jurídica'\",\n",
       " \"'Nome': Sabrina Alves Figueiredo, 'Sexo': 'Feminino', 'Pessoa': 'Física'\",\n",
       " \"'Nome': Adilson Ferreira de Moraes, 'Sexo': 'Masculino', 'Pessoa': 'Física'\",\n",
       " \"'Nome': Gaplan Administradora de Bens Sc Ltda, 'Pessoa': 'Jurídica'\",\n",
       " \"'Nome': Jackson Coutinho Caldeira, 'Sexo': 'Masculino', 'Pessoa': 'Física'\",\n",
       " \"'Nome': Mario Fernandes Vieira, 'Sexo': 'Masculino', 'Pessoa': 'Física'\",\n",
       " \"'Nome': Elizabeth Satico Adachi, 'Sexo': 'Feminino', 'Pessoa': 'Física'\",\n",
       " 0,\n",
       " 0,\n",
       " \"'Nome': Banco do Brasil S/A, 'Pessoa': 'Jurídica'\",\n",
       " \"'Nome': Itaú Unibanco S/A, 'Pessoa': 'Jurídica'\",\n",
       " \"'Nome': Joaquim Carlos Pereira, 'Sexo': 'Masculino', 'Pessoa': 'Física'\",\n",
       " \"'Nome': Aurea Santos Alves, 'Sexo': 'Feminino', 'Pessoa': 'Física'\",\n",
       " \"'Nome': Antonia Luciene Maciel Vaz e outro, 'Sexo': 'Feminino', 'Pessoa': 'Física'\",\n",
       " \"'Nome': Sevetor Sistema de Ensino Ltda, 'Pessoa': 'Jurídica'\",\n",
       " 0,\n",
       " \"'Nome': Dimas Rocha de Aquino, 'Sexo': 'Masculino', 'Pessoa': 'Física'\",\n",
       " \"'Nome': Gilson Cosme Magalhães, 'Sexo': 'Masculino', 'Pessoa': 'Física'\",\n",
       " \"'Nome': D.C.R.A., 'Pessoa': 'Segredo de Justiça'\",\n",
       " \"'Nome': Jose Dorival Tesser, 'Sexo': 'Masculino', 'Pessoa': 'Física'\",\n",
       " \"'Nome': FIORINDO PINATTO, 'Sexo': 'Masculino', 'Pessoa': 'Física'\",\n",
       " \"'Nome': Jose Augusto Marinho Silva, 'Sexo': 'Masculino', 'Pessoa': 'Física'\",\n",
       " \"'Nome': Silvia Nicácio, 'Sexo': 'Feminino', 'Pessoa': 'Física'\",\n",
       " \"'Nome': Tereza Virgilia da Silva, 'Sexo': 'Feminino', 'Pessoa': 'Física'\",\n",
       " \"'Nome': Lúcia de Fátima Seleghim, 'Sexo': 'Feminino', 'Pessoa': 'Física'\",\n",
       " \"'Nome': Maria Vieira de Oliveira, 'Sexo': 'Feminino', 'Pessoa': 'Física'\",\n",
       " \"'Nome': Euclides Brighenti e outros, 'Sexo': 'Masculino', 'Pessoa': 'Física'\",\n",
       " 0,\n",
       " \"'Nome': Mario Andreassa, 'Sexo': 'Masculino', 'Pessoa': 'Física'\",\n",
       " \"'Nome': ISABELLA VITÓRIA DA COSTA MACHADO, 'Sexo': 'Feminino', 'Pessoa': 'Física'\",\n",
       " \"'Nome': Valeska Lopes Monteiro de Souza, 'Sexo': 'Feminino', 'Pessoa': 'Física'\",\n",
       " \"'Nome': Adriana Caetano da Silva, 'Sexo': 'Feminino', 'Pessoa': 'Física'\",\n",
       " \"'Nome': Itaú Unibanco S/A, 'Pessoa': 'Jurídica'\",\n",
       " \"'Nome': Doraci Messias de Almeida, 'Sexo': 'Feminino', 'Pessoa': 'Física'\",\n",
       " \"'Nome': M.L.P.E., 'Pessoa': 'Segredo de Justiça'\",\n",
       " 0,\n",
       " \"'Nome': Banco do Brasil S/A, 'Pessoa': 'Jurídica'\",\n",
       " \"'Nome': OSMAR HENRIQUE DOS SANTOS, 'Sexo': 'Masculino', 'Pessoa': 'Física'\",\n",
       " 0,\n",
       " \"'Nome': Riber Bag Comercio e Manutenção de Big Bag Ltda, 'Sexo': 'Masculino', 'Pessoa': 'Física'\",\n",
       " \"'Nome': Banco Bradesco Sa, 'Pessoa': 'Jurídica'\",\n",
       " \"'Nome': Maria Alves Moreira, 'Sexo': 'Feminino', 'Pessoa': 'Física'\",\n",
       " 0,\n",
       " \"'Nome': Rozeli Aparecida Costa, 'Sexo': 'Feminino', 'Pessoa': 'Física'\",\n",
       " \"'Nome': Carlos Roberto da Silva, 'Sexo': 'Masculino', 'Pessoa': 'Física'\",\n",
       " 0,\n",
       " 0,\n",
       " \"'Nome': INDUSTRIA DE MOVEIS MOVELAR S/A, 'Pessoa': 'Jurídica'\",\n",
       " \"'Nome': Fernando Reato da Mata, 'Sexo': 'Masculino', 'Pessoa': 'Física'\",\n",
       " 0,\n",
       " 0,\n",
       " \"'Nome': V.L.P., 'Pessoa': 'Segredo de Justiça'\",\n",
       " \"'Nome': Nilson Antonio Leal, 'Sexo': 'Masculino', 'Pessoa': 'Física'\",\n",
       " \"'Nome': F.P.L., 'Pessoa': 'Segredo de Justiça'\",\n",
       " \"'Nome': K.R.C.B., 'Pessoa': 'Segredo de Justiça'\",\n",
       " \"'Nome': MARCO ERNANI HYSSA LUIZ, 'Sexo': 'Masculino', 'Pessoa': 'Física'\",\n",
       " \"'Nome': Priscilla Alves Bocci, 'Sexo': 'Feminino', 'Pessoa': 'Física'\",\n",
       " \"'Nome': F.V.G., 'Pessoa': 'Segredo de Justiça'\",\n",
       " \"'Nome': S. Fernandes Auto Partes e Ferramentas Ltda, 'Pessoa': 'Jurídica'\",\n",
       " \"'Nome': Derik Oliveira Proença, 'Sexo': 'Masculino', 'Pessoa': 'Física'\",\n",
       " \"'Nome': N. M. V. S., 'Pessoa': 'Segredo de Justiça'\",\n",
       " \"'Nome': Banco Itaucard S.A., 'Pessoa': 'Jurídica'\",\n",
       " \"'Nome': G.S.F., 'Pessoa': 'Segredo de Justiça'\",\n",
       " \"'Nome': Genivaldo Bispo Moreira, 'Sexo': 'Masculino', 'Pessoa': 'Física'\",\n",
       " \"'Nome': Banco Safra S/A, 'Pessoa': 'Jurídica'\",\n",
       " \"'Nome': BANCO DO BRASIL S/A, 'Pessoa': 'Jurídica'\",\n",
       " \"'Nome': Emilia Sanches Marques Bulgarelli, 'Sexo': 'Feminino', 'Pessoa': 'Física'\",\n",
       " \"'Nome': Fabio Henrique Vedovello e outros, 'Sexo': 'Masculino', 'Pessoa': 'Física'\",\n",
       " \"'Nome': ENI APARECIDA SIVERA BERTOLINI, 'Sexo': 'Feminino', 'Pessoa': 'Física'\",\n",
       " 0,\n",
       " \"'Nome': Emanuelle Sophia Monteiro da Silva, 'Sexo': 'Feminino', 'Pessoa': 'Física'\",\n",
       " \"'Nome': Rita Candida Custódio Campos, 'Sexo': 'Feminino', 'Pessoa': 'Física'\",\n",
       " \"'Nome': Neusa Aparecida da Costa Souza, 'Sexo': 'Feminino', 'Pessoa': 'Física'\",\n",
       " \"'Nome': Ariovaldo Rodrigues Correa, 'Sexo': 'Masculino', 'Pessoa': 'Física'\",\n",
       " \"'Nome': Belmiro Hernandez, 'Sexo': 'Masculino', 'Pessoa': 'Física'\",\n",
       " \"'Nome': EXODO INDUSTRIA E COMERCIO DE PRODUTOS ALIMENTICIOS LTDA, 'Sexo': 'Masculino', 'Pessoa': 'Física'\",\n",
       " 0,\n",
       " \"'Nome': FRIGORÍFICO AVÍCOLA VOTUPORANGA LTDA, 'Pessoa': 'Jurídica'\",\n",
       " 0,\n",
       " \"'Nome': JOSE DE GOES NETO, 'Sexo': 'Masculino', 'Pessoa': 'Física'\",\n",
       " \"'Nome': Banco Bradesco S/A, 'Pessoa': 'Jurídica'\",\n",
       " \"'Nome': Cinthya Gomes Torres, 'Sexo': 'Feminino', 'Pessoa': 'Física'\",\n",
       " \"'Nome': Condominio Edificio Araucaria, 'Pessoa': 'Jurídica'\",\n",
       " 0,\n",
       " \"'Nome': BANCO DO BRASIL SA, 'Pessoa': 'Jurídica'\",\n",
       " 0,\n",
       " \"'Nome': Marcio Pereira de Mello e outro, 'Sexo': 'Masculino', 'Pessoa': 'Física'\",\n",
       " \"'Nome': José Alexandre Pires, 'Sexo': 'Masculino', 'Pessoa': 'Física'\",\n",
       " \"'Nome': DISTRIBUIDORA C N VIOLA DE ALIMENTOS LTDA, 'Pessoa': 'Jurídica'\",\n",
       " \"'Nome': Paula Andrea Capps Fernandes, 'Sexo': 'Feminino', 'Pessoa': 'Física'\",\n",
       " \"'Nome': Maria Salete dos Santos Silva, 'Sexo': 'Feminino', 'Pessoa': 'Física'\",\n",
       " 0,\n",
       " \"'Nome': Ana Gomes Batista, 'Sexo': 'Feminino', 'Pessoa': 'Física'\",\n",
       " \"'Nome': ZELIA SALTARELLI TOMASINI, 'Sexo': 'Feminino', 'Pessoa': 'Física'\",\n",
       " \"'Nome': Química Santa Rita Ltda, 'Pessoa': 'Jurídica'\",\n",
       " \"'Nome': J. N. C., 'Pessoa': 'Segredo de Justiça'\",\n",
       " \"'Nome': M.F.D.B., 'Pessoa': 'Segredo de Justiça'\",\n",
       " \"'Nome': Mercedes Gimenez Rubira Rafih, 'Sexo': 'Feminino', 'Pessoa': 'Física'\",\n",
       " \"'Nome': Maria Aparecida Sarraf, 'Sexo': 'Feminino', 'Pessoa': 'Física'\",\n",
       " 0,\n",
       " \"'Nome': E.P.C.D., 'Pessoa': 'Segredo de Justiça'\",\n",
       " \"'Nome': ,P. H. R. M., 'Pessoa': 'Segredo de Justiça'\",\n",
       " 0,\n",
       " \"'Nome': A.J.L., 'Pessoa': 'Segredo de Justiça'\",\n",
       " \"'Nome': Banco Itaú Sa, 'Pessoa': 'Jurídica'\",\n",
       " \"'Nome': Wesley Henerique Lima da Silva, 'Sexo': 'Masculino', 'Pessoa': 'Física'\",\n",
       " \"'Nome': Rosilda Aparecida da Silva, 'Sexo': 'Feminino', 'Pessoa': 'Física'\",\n",
       " \"'Nome': Claudio Benedito, 'Sexo': 'Masculino', 'Pessoa': 'Física'\",\n",
       " \"'Nome': Rafael Beraldo Dourado e outro, 'Sexo': 'Masculino', 'Pessoa': 'Física'\",\n",
       " \"'Nome': C.M.M.F. e outro, 'Pessoa': 'Segredo de Justiça'\",\n",
       " \"'Nome': MARCUS VINICIUS ADOLFO DE ALMEIDA, 'Sexo': 'Masculino', 'Pessoa': 'Física'\",\n",
       " \"'Nome': Jonathan Celestino Ferraz, 'Sexo': 'Masculino', 'Pessoa': 'Física'\",\n",
       " \"'Nome': José Carlos de Assis e outros, 'Sexo': 'Masculino', 'Pessoa': 'Física'\",\n",
       " \"'Nome': R.H.H., 'Pessoa': 'Segredo de Justiça'\",\n",
       " 0,\n",
       " 0,\n",
       " \"'Nome': Aldo Batista de Oliveira, 'Sexo': 'Masculino', 'Pessoa': 'Física'\",\n",
       " \"'Nome': Olivia Christina Cunha Querne Mansur, 'Sexo': 'Feminino', 'Pessoa': 'Física'\",\n",
       " \"'Nome': Master Comércio e Serviços Administrativos Ltda Me, 'Pessoa': 'Jurídica'\",\n",
       " \"'Nome': PRUDENTE TRUCK CENTER LTDA EPP, 'Sexo': 'Masculino', 'Pessoa': 'Física'\",\n",
       " \"'Nome': Antonia Maria Franciscato Silvani, 'Sexo': 'Feminino', 'Pessoa': 'Física'\",\n",
       " \"'Nome': Odeir Aparecido de Moraes Reis, 'Sexo': 'Masculino', 'Pessoa': 'Física'\",\n",
       " \"'Nome': Luiz Gustavo Beck Franco, 'Sexo': 'Masculino', 'Pessoa': 'Física'\",\n",
       " \"'Nome': Colégio Dante Alighieri, 'Pessoa': 'Jurídica'\",\n",
       " \"'Nome': Delazari & Dellazari Ltda, 'Pessoa': 'Jurídica'\",\n",
       " \"'Nome': ADEMIR DONISETE LEITE DE GODOY, 'Sexo': 'Masculino', 'Pessoa': 'Física'\",\n",
       " 0,\n",
       " \"'Nome': Jesus Miguel da Silva, 'Sexo': 'Masculino', 'Pessoa': 'Física'\",\n",
       " \"'Nome': Menil Comercio de Pecas Ltda, 'Pessoa': 'Jurídica'\",\n",
       " \"'Nome': Banco Bradesco S/A, 'Pessoa': 'Jurídica'\",\n",
       " \"'Nome': José Milton Marçura, 'Sexo': 'Masculino', 'Pessoa': 'Física'\",\n",
       " \"'Nome': Banco Nossa Caixa Sa, 'Pessoa': 'Jurídica'\",\n",
       " \"'Nome': Adilson Francisco Batista, 'Sexo': 'Masculino', 'Pessoa': 'Física'\",\n",
       " \"'Nome': E.M.S., 'Pessoa': 'Segredo de Justiça'\",\n",
       " \"'Nome': Cibrasec Companhia Brasileira de Securitizacao, 'Pessoa': 'Jurídica'\",\n",
       " \"'Nome': Sem despejo, 'Sexo': 'Masculino', 'Pessoa': 'Física'\",\n",
       " \"'Nome': Neusa Elias da Silva, 'Sexo': 'Feminino', 'Pessoa': 'Física'\",\n",
       " \"'Nome': Rosemeire Fernandes Garcia, 'Sexo': 'Feminino', 'Pessoa': 'Física'\",\n",
       " \"'Nome': Andrea Cristina Cabral, 'Sexo': 'Feminino', 'Pessoa': 'Física'\",\n",
       " \"'Nome': Alba Rosa Abbate Paulo de Olivera, 'Sexo': 'Feminino', 'Pessoa': 'Física'\",\n",
       " \"'Nome': Luiz Carlos Citran, 'Sexo': 'Masculino', 'Pessoa': 'Física'\",\n",
       " 0,\n",
       " \"'Nome': JOSE EDSON CORREIA DE SANTANA, 'Sexo': 'Masculino', 'Pessoa': 'Física'\",\n",
       " \"'Nome': Oswaldo Fernandes de Souza Junior, 'Sexo': 'Masculino', 'Pessoa': 'Física'\",\n",
       " \"'Nome': Vcts Comercio de Roupas e Calçados Ltda, 'Pessoa': 'Jurídica'\",\n",
       " \"'Nome': BANCO DO BRASIL S.A., 'Pessoa': 'Jurídica'\",\n",
       " \"'Nome': Pedro Luiz Piunti, 'Sexo': 'Masculino', 'Pessoa': 'Física'\",\n",
       " \"'Nome': Laura Ligabó, 'Sexo': 'Feminino', 'Pessoa': 'Física'\",\n",
       " \"'Nome': Banco Cnh Capital S/A, 'Pessoa': 'Jurídica'\",\n",
       " \"'Nome': A.C., 'Pessoa': 'Segredo de Justiça'\",\n",
       " \"'Nome': Comercial Comajo Materiais para Construção Ltda, 'Pessoa': 'Jurídica'\",\n",
       " \"'Nome': ANDREA STROMMER MONTENEGRO, 'Sexo': 'Feminino', 'Pessoa': 'Física'\",\n",
       " \"'Nome': Durlin Tintas e Vernizes Ltda, 'Pessoa': 'Jurídica'\",\n",
       " \"'Nome': Bradesco Seguros Sa, 'Pessoa': 'Jurídica'\",\n",
       " 0,\n",
       " \"'Nome': Valdir Santoliquido, 'Sexo': 'Masculino', 'Pessoa': 'Física'\",\n",
       " \"'Nome': Intherconnect Cabos e Componentes Ltda, 'Pessoa': 'Jurídica'\",\n",
       " \"'Nome': Edher Garrido Lombardi, 'Sexo': 'Masculino', 'Pessoa': 'Física'\",\n",
       " \"'Nome': Banco Bradesco Sa, 'Pessoa': 'Jurídica'\",\n",
       " \"'Nome': FABIANA APARECIDA DE SOUZA, 'Sexo': 'Feminino', 'Pessoa': 'Física'\",\n",
       " 0,\n",
       " \"'Nome': Elvira Maria da Conceição, 'Sexo': 'Feminino', 'Pessoa': 'Física'\",\n",
       " 0,\n",
       " 0,\n",
       " \"'Nome': J.B.C.O., 'Pessoa': 'Segredo de Justiça'\",\n",
       " \"'Nome': Jose Otavio Marani Barbosa e outros, 'Sexo': 'Masculino', 'Pessoa': 'Física'\",\n",
       " \"'Nome': BRADESCO ADMINISTRADORA DE CONSORCIO LTDA, 'Pessoa': 'Jurídica'\",\n",
       " \"'Nome': Lauana Medeiros Matheo de Moraes, 'Sexo': 'Feminino', 'Pessoa': 'Física'\",\n",
       " 0,\n",
       " \"'Nome': Usina Santa Rita S/A Açúcar e Álcool, 'Pessoa': 'Jurídica'\",\n",
       " \"'Nome': Condominio Edificio Conquista Santo André, 'Pessoa': 'Jurídica'\",\n",
       " 0,\n",
       " 0,\n",
       " \"'Nome': Edvaldo Silva do Nascimento, 'Sexo': 'Masculino', 'Pessoa': 'Física'\",\n",
       " \"'Nome': PRISCILLA DOS SANTOS PIRES, 'Sexo': 'Feminino', 'Pessoa': 'Física'\",\n",
       " \"'Nome': Mecânica J. J. de Birigui Ltda, 'Pessoa': 'Jurídica'\",\n",
       " \"'Nome': Grafica Benfica Ltda, 'Pessoa': 'Jurídica'\",\n",
       " \"'Nome': YANG FENG LU, 'Sexo': 'Masculino', 'Pessoa': 'Física'\",\n",
       " \"'Nome': Luiz Donizetti Damasceno, 'Sexo': 'Masculino', 'Pessoa': 'Física'\",\n",
       " \"'Nome': Anelio Antonio Ataliani, 'Sexo': 'Masculino', 'Pessoa': 'Física'\",\n",
       " \"'Nome': J.P., 'Pessoa': 'Segredo de Justiça'\",\n",
       " \"'Nome': Galmaqui Comércio de Máquinas para Padaria e Açougue Ltda, 'Pessoa': 'Jurídica'\",\n",
       " \"'Nome': Ivanor Buffon, 'Sexo': 'Masculino', 'Pessoa': 'Física'\",\n",
       " 0,\n",
       " 0,\n",
       " \"'Nome': AMERICO CELIS LEITE JUNIOR, 'Sexo': 'Masculino', 'Pessoa': 'Física'\",\n",
       " 0,\n",
       " 0,\n",
       " \"'Nome': SIDNEY ROBERTO DA SILVA, 'Sexo': 'Masculino', 'Pessoa': 'Física'\",\n",
       " \"'Nome': Espedito Augusto, 'Sexo': 'Masculino', 'Pessoa': 'Física'\",\n",
       " \"'Nome': Luis Henrique de Almeida, 'Sexo': 'Masculino', 'Pessoa': 'Física'\",\n",
       " \"'Nome': Fabricio Renan da Silva Santos, 'Sexo': 'Masculino', 'Pessoa': 'Física'\",\n",
       " \"'Nome': Itau Unibanco S/A, 'Pessoa': 'Jurídica'\",\n",
       " \"'Nome': Jonathan Campos, 'Sexo': 'Masculino', 'Pessoa': 'Física'\",\n",
       " \"'Nome': HÉLIO JOAQUIM DA COSTA MIRANDA, 'Sexo': 'Masculino', 'Pessoa': 'Física'\",\n",
       " \"'Nome': Elpidio de Almeida Neto, 'Sexo': 'Masculino', 'Pessoa': 'Física'\",\n",
       " 0,\n",
       " \"'Nome': Paulo Roberto de Abreu Camargo, 'Sexo': 'Masculino', 'Pessoa': 'Física'\",\n",
       " \"'Nome': Andrea Neves Rafael, 'Sexo': 'Feminino', 'Pessoa': 'Física'\",\n",
       " \"'Nome': Marcio Pereira dos Santos, 'Sexo': 'Masculino', 'Pessoa': 'Física'\",\n",
       " \"'Nome': MAGALI MARIA CHRISTOVAM DE NADAI, 'Sexo': 'Feminino', 'Pessoa': 'Física'\",\n",
       " \"'Nome': BANCO DO BRASIL S/A, 'Pessoa': 'Jurídica'\",\n",
       " \"'Nome': Banco Bradesco Sa, 'Pessoa': 'Jurídica'\",\n",
       " \"'Nome': Carlos Alberto Nascimento Sequeira, 'Sexo': 'Masculino', 'Pessoa': 'Física'\",\n",
       " \"'Nome': LIANE MATERIAIS DE CONSTRUÇÃO LTDA, 'Sexo': 'Feminino', 'Pessoa': 'Física'\",\n",
       " \"'Nome': LETICIA APARECIDA DA SILVA, 'Sexo': 'Feminino', 'Pessoa': 'Física'\",\n",
       " \"'Nome': Itapeva Ii Multicarteira Fidc Np, 'Pessoa': 'Jurídica'\",\n",
       " \"'Nome': Judith Prazeres Cleto e outros, 'Sexo': 'Feminino', 'Pessoa': 'Física'\",\n",
       " \"'Nome': DIRETRIZ FEIRAS E EVENTOS LTDA, 'Pessoa': 'Jurídica'\",\n",
       " \"'Nome': Cleide da Silva Alarcon, 'Sexo': 'Feminino', 'Pessoa': 'Física'\",\n",
       " \"'Nome': Agfa Gevaert do Brasil Ltda, 'Pessoa': 'Jurídica'\",\n",
       " \"'Nome': CONCESSIONARIA DE RODOVIAS DO OESTE DE SAO PAULO VIAOESTE S/A, 'Pessoa': 'Jurídica'\",\n",
       " 0,\n",
       " \"'Nome': Maria Jose Gomes da Silva, 'Sexo': 'Feminino', 'Pessoa': 'Física'\",\n",
       " \"'Nome': Marcos Roberto Silverio, 'Sexo': 'Masculino', 'Pessoa': 'Física'\",\n",
       " 0,\n",
       " 0,\n",
       " \"'Nome': Z.M., 'Pessoa': 'Segredo de Justiça'\",\n",
       " \"'Nome': J.S.C., 'Pessoa': 'Segredo de Justiça'\",\n",
       " \"'Nome': ODILO DA SILVA MAIA, 'Sexo': 'Masculino', 'Pessoa': 'Física'\",\n",
       " 0,\n",
       " \"'Nome': Gustavo Franco Esdras, 'Sexo': 'Masculino', 'Pessoa': 'Física'\",\n",
       " \"'Nome': SUELI LIMEIRA FLORENCE SOUZA, 'Sexo': 'Feminino', 'Pessoa': 'Física'\",\n",
       " \"'Nome': Flavia Maria Silva Canini, 'Sexo': 'Feminino', 'Pessoa': 'Física'\",\n",
       " \"'Nome': Ivani Justo de Oliveira, 'Sexo': 'Feminino', 'Pessoa': 'Física'\",\n",
       " 0,\n",
       " 0,\n",
       " \"'Nome': Superbrands Comercio de Produtos de Uso Pessoal Ltda, 'Pessoa': 'Jurídica'\",\n",
       " 0,\n",
       " \"'Nome': JOSE MAURO ASSUMPÇÃO JUNIOR, 'Sexo': 'Masculino', 'Pessoa': 'Física'\",\n",
       " \"'Nome': Banco Bradesco S.A., 'Pessoa': 'Jurídica'\",\n",
       " \"'Nome':  Leila Maria Campos Menezes, 'Sexo': 'Feminino', 'Pessoa': 'Física'\",\n",
       " \"'Nome': Gilvanete Morais de Oliveira e outro, 'Sexo': 'Feminino', 'Pessoa': 'Física'\",\n",
       " \"'Nome': Btg Pactual Serviços Financeiros S/A, 'Pessoa': 'Jurídica'\",\n",
       " \"'Nome': Jose Silvestre, 'Sexo': 'Masculino', 'Pessoa': 'Física'\",\n",
       " \"'Nome': Maria Aparecida dos Santos Fraiz Vasques, 'Sexo': 'Feminino', 'Pessoa': 'Física'\",\n",
       " 0,\n",
       " \"'Nome': Carolina Carvalho Santos, 'Sexo': 'Feminino', 'Pessoa': 'Física'\",\n",
       " \"'Nome': HENRIQUE JABLINSKI, 'Sexo': 'Masculino', 'Pessoa': 'Física'\",\n",
       " \"'Nome': A.R.Z. e outro, 'Pessoa': 'Segredo de Justiça'\",\n",
       " \"'Nome': Anderson da Mota Azevedo, 'Sexo': 'Masculino', 'Pessoa': 'Física'\",\n",
       " 0,\n",
       " \"'Nome': K.Y.A.M., 'Pessoa': 'Segredo de Justiça'\",\n",
       " \"'Nome': R.O.S., 'Pessoa': 'Segredo de Justiça'\",\n",
       " \"'Nome': VERA ANTONIA PAVÃO, 'Sexo': 'Feminino', 'Pessoa': 'Física'\",\n",
       " \"'Nome': M.C.F.M., 'Pessoa': 'Segredo de Justiça'\",\n",
       " \"'Nome': SELMA FARIA GARGANO, 'Sexo': 'Feminino', 'Pessoa': 'Física'\",\n",
       " \"'Nome': Clovis Salvador Benevente, 'Sexo': 'Masculino', 'Pessoa': 'Física'\",\n",
       " \"'Nome': C.E.D.C., 'Pessoa': 'Segredo de Justiça'\",\n",
       " \"'Nome': Cohab Companhia de Habitacao Popular de Bauru, 'Pessoa': 'Jurídica'\",\n",
       " \"'Nome': Leila Maria Consorti Buzineli, 'Sexo': 'Feminino', 'Pessoa': 'Física'\",\n",
       " \"'Nome': Rubens Ferro, 'Sexo': 'Masculino', 'Pessoa': 'Física'\",\n",
       " \"'Nome': Suelir da Silva Diniz, 'Sexo': 'Feminino', 'Pessoa': 'Física'\",\n",
       " \"'Nome': Cromar Cromados e Aramados Ltda, 'Pessoa': 'Jurídica'\",\n",
       " \"'Nome': Wanda Batista Ciardullo, 'Sexo': 'Feminino', 'Pessoa': 'Física'\",\n",
       " \"'Nome': Márcia Orsolini Tamer Paladini, 'Sexo': 'Feminino', 'Pessoa': 'Física'\",\n",
       " \"'Nome': Thais Segecs, 'Sexo': 'Feminino', 'Pessoa': 'Física'\",\n",
       " \"'Nome': MARIA CLARA FERRAZ RODRIGUES, 'Sexo': 'Feminino', 'Pessoa': 'Física'\",\n",
       " \"'Nome': G. B. D. S., 'Pessoa': 'Segredo de Justiça'\",\n",
       " \"'Nome': Jose Fernandes Alves, 'Sexo': 'Masculino', 'Pessoa': 'Física'\",\n",
       " \"'Nome': Telefonica Brasil S/A., 'Pessoa': 'Jurídica'\",\n",
       " \"'Nome': Ricardo Alexandre Borges e outro, 'Sexo': 'Masculino', 'Pessoa': 'Física'\",\n",
       " 0,\n",
       " \"'Nome': Jorge Gabriel da Silva, 'Sexo': 'Masculino', 'Pessoa': 'Física'\",\n",
       " \"'Nome': Keila Novaes de Oliveira, 'Sexo': 'Feminino', 'Pessoa': 'Física'\",\n",
       " \"'Nome': V.A.S., 'Pessoa': 'Segredo de Justiça'\",\n",
       " \"'Nome': Monique da Silva, 'Sexo': 'Feminino', 'Pessoa': 'Física'\",\n",
       " \"'Nome': K. de C. N. A., 'Pessoa': 'Segredo de Justiça'\",\n",
       " \"'Nome': Atos Maciel, 'Sexo': 'Masculino', 'Pessoa': 'Física'\",\n",
       " \"'Nome': H.D.S., 'Pessoa': 'Segredo de Justiça'\",\n",
       " \"'Nome': OMNI S/A, 'Pessoa': 'Jurídica'\",\n",
       " \"'Nome': Evandro Gonçalves Franco, 'Sexo': 'Masculino', 'Pessoa': 'Física'\",\n",
       " 0,\n",
       " \"'Nome': SEBASTIAO LIMA DA SILVA, 'Sexo': 'Masculino', 'Pessoa': 'Física'\",\n",
       " \"'Nome': Felifer Comercial Ltda, 'Pessoa': 'Jurídica'\",\n",
       " \"'Nome': ELOANE CARRILHO SACRAMENTO DOS SANTOS e outro, 'Sexo': 'Feminino', 'Pessoa': 'Física'\",\n",
       " \"'Nome': Juciele Cristina Alves Neres, 'Sexo': 'Feminino', 'Pessoa': 'Física'\",\n",
       " 0,\n",
       " \"'Nome': NANCI CLEO FERREIRA LOPES, 'Sexo': 'Feminino', 'Pessoa': 'Física'\",\n",
       " 0,\n",
       " \"'Nome': Interpoint Viagens e Turismo Ltda, 'Pessoa': 'Jurídica'\",\n",
       " \"'Nome': Mercedes do Carmo Graça, 'Sexo': 'Feminino', 'Pessoa': 'Física'\",\n",
       " \"'Nome': V.B., 'Pessoa': 'Segredo de Justiça'\",\n",
       " 0,\n",
       " 0,\n",
       " \"'Nome': ROSANGELA APARECIDA ALVES DA SILVA, 'Sexo': 'Feminino', 'Pessoa': 'Física'\",\n",
       " \"'Nome': MARCEL RICARDO DE OLIVEIRA, 'Sexo': 'Masculino', 'Pessoa': 'Física'\",\n",
       " \"'Nome': LUCIANO RICARDO ROSA, 'Sexo': 'Masculino', 'Pessoa': 'Física'\",\n",
       " \"'Nome': Joana Darc de Araujo Pereira, 'Sexo': 'Feminino', 'Pessoa': 'Física'\",\n",
       " \"'Nome': Diego Higino dos Santos Jardim, 'Sexo': 'Masculino', 'Pessoa': 'Física'\",\n",
       " \"'Nome': WILSON MARCIANO DE OLIVEIRA, 'Sexo': 'Masculino', 'Pessoa': 'Física'\",\n",
       " 0,\n",
       " 0,\n",
       " \"'Nome': Paulo Cesar de Andrade, 'Sexo': 'Masculino', 'Pessoa': 'Física'\",\n",
       " \"'Nome': Bon Mart Frigorífico Ltda, 'Pessoa': 'Jurídica'\",\n",
       " \"'Nome': Nilton Aparecido da Silva, 'Sexo': 'Masculino', 'Pessoa': 'Física'\",\n",
       " 0,\n",
       " \"'Nome': LUCIA HELENA PEREIRA DA SILVA, 'Sexo': 'Feminino', 'Pessoa': 'Física'\",\n",
       " \"'Nome': MMG PRESTADORA DE SERVIÇOS LTDA., 'Pessoa': 'Jurídica'\",\n",
       " \"'Nome': Fabio Rocha dos SantosMe, 'Sexo': 'Masculino', 'Pessoa': 'Física'\",\n",
       " \"'Nome': Bv Financeira S/A, 'Pessoa': 'Jurídica'\",\n",
       " \"'Nome': Antonio Aparecido Piovesana, 'Sexo': 'Masculino', 'Pessoa': 'Física'\",\n",
       " \"'Nome': MRV Engenharia e Participações S/A, 'Pessoa': 'Jurídica'\",\n",
       " \"'Nome': H. M., 'Pessoa': 'Segredo de Justiça'\",\n",
       " \"'Nome': Embargante: Consórcio Nacional Embracon Ltda, 'Pessoa': 'Jurídica'\",\n",
       " \"'Nome': J. P., 'Pessoa': 'Segredo de Justiça'\",\n",
       " \"'Nome': Coop de Ec Créd Mút Prof Saúd Reg Metrop Baix Sant e Gr Sp Ltda Unicred Metropolitana, 'Pessoa': 'Jurídica'\",\n",
       " \"'Nome': Fábio Tamada Colchões, 'Sexo': 'Masculino', 'Pessoa': 'Física'\",\n",
       " \"'Nome': J.P., 'Pessoa': 'Segredo de Justiça'\",\n",
       " \"'Nome': Ofelia Sarri Morete, 'Sexo': 'Feminino', 'Pessoa': 'Física'\",\n",
       " \"'Nome': Marisa Goivinho Gregorio, 'Sexo': 'Feminino', 'Pessoa': 'Física'\",\n",
       " \"'Nome': CPFL Comercialização Brasil S.A., 'Pessoa': 'Jurídica'\",\n",
       " \"'Nome': Mario Aparecido dos Santos, 'Sexo': 'Masculino', 'Pessoa': 'Física'\",\n",
       " \"'Nome': BANCO SANTANDER,BRASIL,S/A, 'Pessoa': 'Jurídica'\",\n",
       " \"'Nome': Neusa Silva Martins, 'Sexo': 'Feminino', 'Pessoa': 'Física'\",\n",
       " \"'Nome': Brookfield São Paulo Empreendimentos Imobiliários S/A, 'Pessoa': 'Jurídica'\",\n",
       " \"'Nome': Sociedade Padre Anchieta de Ensino Ltda, 'Pessoa': 'Jurídica'\",\n",
       " \"'Nome': José Carlos Ferreira, 'Sexo': 'Masculino', 'Pessoa': 'Física'\",\n",
       " 0,\n",
       " \"'Nome': JOSE AMERICO DE SOUZA, 'Sexo': 'Masculino', 'Pessoa': 'Física'\",\n",
       " \"'Nome': Banco do Brasil SA, 'Pessoa': 'Jurídica'\",\n",
       " \"'Nome': Agravante: Telefônica Brasil SA, 'Pessoa': 'Jurídica'\",\n",
       " \"'Nome': Daniel Simão Abib e outro, 'Sexo': 'Masculino', 'Pessoa': 'Física'\",\n",
       " \"'Nome': Marcio Vieira dos Santos, 'Sexo': 'Masculino', 'Pessoa': 'Física'\",\n",
       " \"'Nome': R.P.B.E., 'Pessoa': 'Segredo de Justiça'\",\n",
       " \"'Nome': Aparecido Silva de Andrade, 'Sexo': 'Masculino', 'Pessoa': 'Física'\",\n",
       " \"'Nome': J.N.G., 'Pessoa': 'Segredo de Justiça'\",\n",
       " \"'Nome': Renato Valente Júnior, 'Sexo': 'Masculino', 'Pessoa': 'Física'\",\n",
       " \"'Nome': Maximiliano Ramos, 'Sexo': 'Masculino', 'Pessoa': 'Física'\",\n",
       " \"'Nome': Leandro Contreira, 'Sexo': 'Masculino', 'Pessoa': 'Física'\",\n",
       " \"'Nome': Nestor Cocchiarali Filho e outros, 'Sexo': 'Masculino', 'Pessoa': 'Física'\",\n",
       " \"'Nome': Itaú Seguros Solucões Corporativas S/A, 'Pessoa': 'Jurídica'\",\n",
       " \"'Nome': Regina Maria Coccia França, 'Sexo': 'Feminino', 'Pessoa': 'Física'\",\n",
       " \"'Nome': Banco Itaucard S.A., 'Pessoa': 'Jurídica'\",\n",
       " \"'Nome': Mercedes Campana Ricci, 'Sexo': 'Feminino', 'Pessoa': 'Física'\",\n",
       " \"'Nome': FABIENE CECCHETTO OLIVEIRA, 'Sexo': 'Feminino', 'Pessoa': 'Física'\",\n",
       " \"'Nome': Cia de Saneamento Básico do Estado de São Paulo, 'Sexo': 'Feminino', 'Pessoa': 'Física'\",\n",
       " \"'Nome': Eli Lopes Nahime Andrioli, 'Sexo': 'Masculino', 'Pessoa': 'Física'\",\n",
       " \"'Nome': J.B.M., 'Pessoa': 'Segredo de Justiça'\",\n",
       " 0,\n",
       " \"'Nome': BANCO DO BRASIL S/A, 'Pessoa': 'Jurídica'\",\n",
       " \"'Nome': Condomínio Edifício Cruzeiro do Sul, 'Pessoa': 'Jurídica'\",\n",
       " \"'Nome': Liceu Salesiano Nossa Senhora Auxiliadora, 'Sexo': 'Masculino', 'Pessoa': 'Física'\",\n",
       " \"'Nome': Marcelo Pereira, 'Sexo': 'Masculino', 'Pessoa': 'Física'\",\n",
       " \"'Nome': Banco Itaucard S/A, 'Pessoa': 'Jurídica'\",\n",
       " \"'Nome': Ivani Maria Nunes Sampaio, 'Sexo': 'Feminino', 'Pessoa': 'Física'\",\n",
       " \"'Nome': Marcio Herdy Moura, 'Sexo': 'Masculino', 'Pessoa': 'Física'\",\n",
       " \"'Nome': Gomercindo do Carmo Ribas e outro, 'Sexo': 'Masculino', 'Pessoa': 'Física'\",\n",
       " \"'Nome': J.P., 'Pessoa': 'Segredo de Justiça'\",\n",
       " \"'Nome': Banco Finasa S.a, 'Pessoa': 'Jurídica'\",\n",
       " \"'Nome': M.A.S., 'Pessoa': 'Segredo de Justiça'\",\n",
       " \"'Nome': Cassio Ribeiro de Campos, 'Sexo': 'Masculino', 'Pessoa': 'Física'\",\n",
       " \"'Nome': RONALDO PEREIRA DA CRUZ, 'Sexo': 'Masculino', 'Pessoa': 'Física'\",\n",
       " 0,\n",
       " 0,\n",
       " \"'Nome': Márcio Cavani, 'Sexo': 'Masculino', 'Pessoa': 'Física'\",\n",
       " \"'Nome': LUIZ CARLOS ALVES, 'Sexo': 'Masculino', 'Pessoa': 'Física'\",\n",
       " \"'Nome': Ana Amélia Pieirini de Almeida, 'Sexo': 'Feminino', 'Pessoa': 'Física'\",\n",
       " 0,\n",
       " \"'Nome': Solange Zaccarelli Gregorio Razuk, 'Sexo': 'Feminino', 'Pessoa': 'Física'\",\n",
       " \"'Nome': BANCO BRADESCO S/A, 'Pessoa': 'Jurídica'\",\n",
       " \"'Nome': Juarez Ramos da Silva e outro, 'Sexo': 'Masculino', 'Pessoa': 'Física'\",\n",
       " 0,\n",
       " 0,\n",
       " \"'Nome': B.V. FINANCEIRA, 'Pessoa': 'Segredo de Justiça'\",\n",
       " 0,\n",
       " 0,\n",
       " \"'Nome': CLAUDIO ROBERTO RONDINA, 'Sexo': 'Masculino', 'Pessoa': 'Física'\",\n",
       " \"'Nome': Condominio Edificio Califórnia, 'Pessoa': 'Jurídica'\",\n",
       " \"'Nome': São Paulo, 'Sexo': 'Masculino', 'Pessoa': 'Física'\",\n",
       " \"'Nome': J. E. R., 'Pessoa': 'Segredo de Justiça'\",\n",
       " \"'Nome': Adolfo Eduardo Florio, 'Sexo': 'Masculino', 'Pessoa': 'Física'\",\n",
       " \"'Nome': ,C.F.I., 'Pessoa': 'Segredo de Justiça'\",\n",
       " \"'Nome': Native Indústria e Comércio de Roupas Ltda., 'Sexo': 'Feminino', 'Pessoa': 'Física'\",\n",
       " \"'Nome': Silvana Lucia de Andrade dos Santos, 'Sexo': 'Feminino', 'Pessoa': 'Física'\",\n",
       " \"'Nome': Rosalina de Fatima Araujo, 'Sexo': 'Feminino', 'Pessoa': 'Física'\",\n",
       " \"'Nome': LUCAS FERREIRA DO NASCIMENTO, 'Sexo': 'Masculino', 'Pessoa': 'Física'\",\n",
       " \"'Nome': Embu S/A Engenharia e Comercio, 'Pessoa': 'Jurídica'\",\n",
       " \"'Nome': Sbardellini & Cia Ltda Fuzil, 'Pessoa': 'Jurídica'\",\n",
       " \"'Nome': Bv Financeira S/A Credito e Financiamento, 'Pessoa': 'Jurídica'\",\n",
       " \"'Nome': A.L.L.A., 'Pessoa': 'Segredo de Justiça'\",\n",
       " \"'Nome': Severino Jose da Silva, 'Sexo': 'Masculino', 'Pessoa': 'Física'\",\n",
       " \"'Nome': Fernando Antonio de Aguiar Cataldo, 'Sexo': 'Masculino', 'Pessoa': 'Física'\",\n",
       " \"'Nome': Bruno Gonçalves Dias Moreno, 'Sexo': 'Masculino', 'Pessoa': 'Física'\",\n",
       " \"'Nome': Maria Eduarda Nosko, 'Sexo': 'Feminino', 'Pessoa': 'Física'\",\n",
       " 0,\n",
       " \"'Nome': Luiz Carlos de Oliveira, 'Sexo': 'Masculino', 'Pessoa': 'Física'\",\n",
       " \"'Nome': Braganfer Comercio de Ferros e Metais Ltda, 'Pessoa': 'Jurídica'\",\n",
       " \"'Nome': JOSÉ CARLOS GUIMARÃES, 'Sexo': 'Masculino', 'Pessoa': 'Física'\",\n",
       " \"'Nome': E.M.P., 'Pessoa': 'Segredo de Justiça'\",\n",
       " \"'Nome': E.O., 'Pessoa': 'Segredo de Justiça'\",\n",
       " \"'Nome': JOSÉ ROBERTO VIDRIH FERREIRA, 'Sexo': 'Masculino', 'Pessoa': 'Física'\",\n",
       " \"'Nome': MARIA MENDES ROSA, 'Sexo': 'Feminino', 'Pessoa': 'Física'\",\n",
       " \"'Nome': M. C. B., 'Pessoa': 'Segredo de Justiça'\",\n",
       " \"'Nome': Claudio Roberto Carpinelli, 'Sexo': 'Masculino', 'Pessoa': 'Física'\",\n",
       " \"'Nome': TANGCHIU EMPREENDIMENTOS IMOBILIÁRIOS S/C LTDA., 'Pessoa': 'Jurídica'\",\n",
       " \"'Nome': V.J.T., 'Pessoa': 'Segredo de Justiça'\",\n",
       " \"'Nome': IRENE ALVES LISBOA DE SOUZA, 'Sexo': 'Feminino', 'Pessoa': 'Física'\",\n",
       " 0,\n",
       " \"'Nome': N.C.D., 'Pessoa': 'Segredo de Justiça'\",\n",
       " 0,\n",
       " \"'Nome': Banco Itaucard S/A, 'Pessoa': 'Jurídica'\",\n",
       " \"'Nome': Irene Teixeira Martins, 'Sexo': 'Feminino', 'Pessoa': 'Física'\",\n",
       " \"'Nome': Cleone Aparecido de Oliveira, 'Sexo': 'Masculino', 'Pessoa': 'Física'\",\n",
       " \"'Nome': RESIDENCIAL ITATIBA COUNTRY CLUB, 'Pessoa': 'Jurídica'\",\n",
       " \"'Nome': Leandro Henrique Costantino, 'Sexo': 'Masculino', 'Pessoa': 'Física'\",\n",
       " 0,\n",
       " \"'Nome': Condominio Edificio Itaipu, 'Pessoa': 'Jurídica'\",\n",
       " \"'Nome': E. A. da S. S., 'Pessoa': 'Segredo de Justiça'\",\n",
       " \"'Nome': Paulo Giovanni de Carvalho, 'Sexo': 'Masculino', 'Pessoa': 'Física'\",\n",
       " \"'Nome': Lucineia Elias Sampaio, 'Sexo': 'Feminino', 'Pessoa': 'Física'\",\n",
       " 0,\n",
       " \"'Nome': Móveis Germai Ltda, 'Pessoa': 'Jurídica'\",\n",
       " \"'Nome': Paulina Terezinha Olzon, 'Sexo': 'Feminino', 'Pessoa': 'Física'\",\n",
       " \"'Nome': João Ricardo Toffolo, 'Sexo': 'Masculino', 'Pessoa': 'Física'\",\n",
       " 0,\n",
       " \"'Nome': Açofran Aços e Metais Ltda, 'Pessoa': 'Jurídica'\",\n",
       " \"'Nome': JOÃO BARBOSA DA SILVA, 'Sexo': 'Masculino', 'Pessoa': 'Física'\",\n",
       " \"'Nome': L. M. R. P. R. M. C. R. de J. P., 'Pessoa': 'Segredo de Justiça'\",\n",
       " \"'Nome': Domingos de Oliveira Santos, 'Sexo': 'Masculino', 'Pessoa': 'Física'\",\n",
       " \"'Nome': JONATHAN DE MORAIS, 'Sexo': 'Masculino', 'Pessoa': 'Física'\",\n",
       " \"'Nome': Jairo Gonçalves Molina e outros, 'Sexo': 'Masculino', 'Pessoa': 'Física'\",\n",
       " \"'Nome': Rodrigo Aparecido Chagas, 'Sexo': 'Masculino', 'Pessoa': 'Física'\",\n",
       " \"'Nome': D.S.I.F., 'Pessoa': 'Segredo de Justiça'\",\n",
       " \"'Nome': Gama Sistemas Educacionais Ltda, 'Sexo': 'Masculino', 'Pessoa': 'Física'\",\n",
       " \"'Nome': THAIS FERNANDES DA SILVA, 'Sexo': 'Feminino', 'Pessoa': 'Física'\",\n",
       " \"'Nome': CEVA FREIGHT MANAGEMENT DO BRASIL LTDA, 'Pessoa': 'Jurídica'\",\n",
       " 0,\n",
       " \"'Nome': J.V.L.O.C., 'Pessoa': 'Segredo de Justiça'\",\n",
       " \"'Nome': Madeiranit Comercio de Madeiras Ltda, 'Pessoa': 'Jurídica'\",\n",
       " 0,\n",
       " \"'Nome': Condominio Week Inn Campos do Jordão, 'Pessoa': 'Jurídica'\",\n",
       " 0,\n",
       " \"'Nome': Rogério de Souza Rondon, 'Sexo': 'Masculino', 'Pessoa': 'Física'\",\n",
       " \"'Nome': Placido dos Santos Barros, 'Sexo': 'Masculino', 'Pessoa': 'Física'\",\n",
       " 0,\n",
       " \"'Nome': André Luiz Costa Colombo, 'Sexo': 'Masculino', 'Pessoa': 'Física'\",\n",
       " \"'Nome': Willian dos Santos Shimidth Bernardo, 'Sexo': 'Masculino', 'Pessoa': 'Física'\",\n",
       " 0,\n",
       " \"'Nome': Alexandre Dourado Ferreira, 'Sexo': 'Masculino', 'Pessoa': 'Física'\",\n",
       " \"'Nome': Jacob Modolo Zanoni, 'Sexo': 'Masculino', 'Pessoa': 'Física'\",\n",
       " \"'Nome': Ramiro Faustino dos Santos, 'Sexo': 'Masculino', 'Pessoa': 'Física'\",\n",
       " \"'Nome': Auto Posto Terayama Ltda, 'Sexo': 'Masculino', 'Pessoa': 'Física'\",\n",
       " \"'Nome': L.K.S.S., 'Pessoa': 'Segredo de Justiça'\",\n",
       " \"'Nome': Banco Indusval S.a, 'Pessoa': 'Jurídica'\",\n",
       " \"'Nome': Banco Itau S/A, 'Pessoa': 'Jurídica'\",\n",
       " \"'Nome': Edcarlos Alves Lima, 'Sexo': 'Masculino', 'Pessoa': 'Física'\",\n",
       " \"'Nome': Omni S/A Credito Finaciamento e Investimento, 'Pessoa': 'Jurídica'\",\n",
       " \"'Nome': Centro de Recreação Infantil Pássaro Azul S/s Ltda, 'Pessoa': 'Jurídica'\",\n",
       " \"'Nome': Progresso e Desenvolvimento de Guarulhos S/A, 'Pessoa': 'Jurídica'\",\n",
       " \"'Nome': Anita Coutinho Dias, 'Sexo': 'Feminino', 'Pessoa': 'Física'\",\n",
       " 0,\n",
       " \"'Nome': Daniel Arrue Juan, 'Sexo': 'Masculino', 'Pessoa': 'Física'\",\n",
       " \"'Nome': Momentum Empreendimentos Imobiliarios Ltda, 'Pessoa': 'Jurídica'\",\n",
       " \"'Nome': BANCO ITAUCARD S/A, 'Pessoa': 'Jurídica'\",\n",
       " \"'Nome': P. dos S. B., 'Pessoa': 'Segredo de Justiça'\",\n",
       " \"'Nome': Maria Elsy Ross de Aviles, 'Sexo': 'Feminino', 'Pessoa': 'Física'\",\n",
       " 0,\n",
       " 0,\n",
       " \"'Nome': Rmvm Consultoria Empresarial Ltda, 'Pessoa': 'Jurídica'\",\n",
       " \"'Nome': Julio Pereira dos Santos, 'Sexo': 'Masculino', 'Pessoa': 'Física'\",\n",
       " \"'Nome': Antonia Calera Martinelli, 'Sexo': 'Feminino', 'Pessoa': 'Física'\",\n",
       " \"'Nome': Fabio Henrique Dellariva, 'Sexo': 'Masculino', 'Pessoa': 'Física'\",\n",
       " \"'Nome': Francisco Sampaio Feitosa e outros, 'Sexo': 'Masculino', 'Pessoa': 'Física'\",\n",
       " \"'Nome': Francisco de Assis Oliveira, 'Sexo': 'Masculino', 'Pessoa': 'Física'\",\n",
       " 0,\n",
       " \"'Nome': OI MÓVEL S/A, 'Pessoa': 'Jurídica'\",\n",
       " \"'Nome': CONDOMÍNIO RESERVA DOS IPÊS, 'Pessoa': 'Jurídica'\",\n",
       " \"'Nome': Banco Bradesco S/A, 'Pessoa': 'Jurídica'\",\n",
       " \"'Nome': Maria Aparecida da Rocha, 'Sexo': 'Feminino', 'Pessoa': 'Física'\",\n",
       " \"'Nome': Andreia dos Santos, 'Sexo': 'Feminino', 'Pessoa': 'Física'\",\n",
       " \"'Nome': B. dos S. O. e outro, 'Pessoa': 'Segredo de Justiça'\",\n",
       " 0,\n",
       " \"'Nome': Maria Romon Arantes, 'Sexo': 'Feminino', 'Pessoa': 'Física'\",\n",
       " \"'Nome': V.L.B., 'Pessoa': 'Segredo de Justiça'\",\n",
       " \"'Nome': B.P.F. e outro, 'Pessoa': 'Segredo de Justiça'\",\n",
       " 0,\n",
       " \"'Nome': Osicleide de Arruda, 'Sexo': 'Feminino', 'Pessoa': 'Física'\",\n",
       " \"'Nome': Itaú Unibanco S/A., 'Pessoa': 'Jurídica'\",\n",
       " \"'Nome': FERNANDO PEREZ DA CRUZ, 'Sexo': 'Masculino', 'Pessoa': 'Física'\",\n",
       " \"'Nome': OSCAR VICTOR ROLLEMBERG HANSEN, 'Sexo': 'Masculino', 'Pessoa': 'Física'\",\n",
       " \"'Nome': Bv Financeira Sa Crédito Financiamento e Investimento, 'Pessoa': 'Jurídica'\",\n",
       " \"'Nome': M.O.B., 'Pessoa': 'Segredo de Justiça'\",\n",
       " \"'Nome': Claudio Aparecido Masson Trasnportes Me, 'Sexo': 'Masculino', 'Pessoa': 'Física'\",\n",
       " \"'Nome': Sandra Rachel Scassola Dias, 'Sexo': 'Feminino', 'Pessoa': 'Física'\",\n",
       " \"'Nome': Claudinei Lucas, 'Sexo': 'Masculino', 'Pessoa': 'Física'\",\n",
       " \"'Nome': M. J. P., 'Pessoa': 'Segredo de Justiça'\",\n",
       " \"'Nome': Sebastiana Maria Pereira, 'Sexo': 'Feminino', 'Pessoa': 'Física'\",\n",
       " 0,\n",
       " \"'Nome': Daniel Cruz Lima Millani, 'Sexo': 'Masculino', 'Pessoa': 'Física'\",\n",
       " 0,\n",
       " \"'Nome': ANDRE LUIS DOS SANTOS, 'Sexo': 'Masculino', 'Pessoa': 'Física'\",\n",
       " \"'Nome': C.O., 'Pessoa': 'Segredo de Justiça'\",\n",
       " \"'Nome': CILENE MIGUEL ME, 'Sexo': 'Feminino', 'Pessoa': 'Física'\",\n",
       " \"'Nome': M.D.N.C., 'Pessoa': 'Segredo de Justiça'\",\n",
       " 0,\n",
       " 0,\n",
       " \"'Nome': Instituto de Educação Projeto Vida Ltda, 'Pessoa': 'Jurídica'\",\n",
       " 0,\n",
       " \"'Nome': Maria Aparecida Batista da Silva, 'Sexo': 'Feminino', 'Pessoa': 'Física'\",\n",
       " 0,\n",
       " \"'Nome': Alexandre Costa, 'Sexo': 'Masculino', 'Pessoa': 'Física'\",\n",
       " 0,\n",
       " 0,\n",
       " 0,\n",
       " \"'Nome': Suelene Maria Rigolin Duarte, 'Sexo': 'Feminino', 'Pessoa': 'Física'\",\n",
       " \"'Nome': Elias Jose do Carmo, 'Sexo': 'Masculino', 'Pessoa': 'Física'\",\n",
       " 0,\n",
       " \"'Nome': Alexandre Dantas Fronzaglia, 'Sexo': 'Masculino', 'Pessoa': 'Física'\",\n",
       " 0,\n",
       " \"'Nome': Colegio Prisma Ltda, 'Pessoa': 'Jurídica'\",\n",
       " \"'Nome': Banco Itaucard S.A., 'Pessoa': 'Jurídica'\",\n",
       " 0,\n",
       " \"'Nome': Banco Finasa S/A, 'Pessoa': 'Jurídica'\",\n",
       " \"'Nome': CINIRA MATIAS DE OLIVEIRA, 'Sexo': 'Feminino', 'Pessoa': 'Física'\",\n",
       " \"'Nome': SIMONE APARECIDA DE LIMA BRAZ, 'Sexo': 'Feminino', 'Pessoa': 'Física'\",\n",
       " \"'Nome': A.C.C., 'Pessoa': 'Segredo de Justiça'\",\n",
       " \"'Nome': Itaú Unibanco S/A, 'Pessoa': 'Jurídica'\",\n",
       " \"'Nome': Nestor Donizeti de Almeida, 'Sexo': 'Masculino', 'Pessoa': 'Física'\",\n",
       " 0,\n",
       " \"'Nome': A.R.G.O., 'Pessoa': 'Segredo de Justiça'\",\n",
       " \"'Nome': MARCIO BOSSOLANI, 'Sexo': 'Masculino', 'Pessoa': 'Física'\",\n",
       " \"'Nome': Arnaldo Pessagno, 'Sexo': 'Masculino', 'Pessoa': 'Física'\",\n",
       " \"'Nome': Erica Querodia, 'Sexo': 'Feminino', 'Pessoa': 'Física'\",\n",
       " \"'Nome': MAURÍLIO OPITATO DE SOUZA, 'Sexo': 'Masculino', 'Pessoa': 'Física'\",\n",
       " \"'Nome': Antonio Correa de Lima Junior, 'Sexo': 'Masculino', 'Pessoa': 'Física'\",\n",
       " \"'Nome': JOAQUIM CARLOS DE VASCONCELOS, 'Sexo': 'Masculino', 'Pessoa': 'Física'\",\n",
       " \"'Nome': ARMANDO PEREIRA DANTAS, 'Sexo': 'Masculino', 'Pessoa': 'Física'\",\n",
       " \"'Nome': Kaio da Costa e Silva, 'Sexo': 'Masculino', 'Pessoa': 'Física'\",\n",
       " 0,\n",
       " \"'Nome': Banco Bradesco Financiamentos Sa, 'Pessoa': 'Jurídica'\",\n",
       " 0,\n",
       " \"'Nome': T.E.S. e outro, 'Pessoa': 'Segredo de Justiça'\",\n",
       " \"'Nome': S.M FIORENTINO PINTURAS LTDA, 'Pessoa': 'Jurídica'\",\n",
       " \"'Nome': Azamoto Motos e Peças Ltda, 'Pessoa': 'Jurídica'\",\n",
       " 0,\n",
       " \"'Nome': Alexsandro Vieira de Souza, 'Sexo': 'Masculino', 'Pessoa': 'Física'\",\n",
       " 0,\n",
       " \"'Nome': Creusa Vieira da Silva, 'Sexo': 'Feminino', 'Pessoa': 'Física'\",\n",
       " 0,\n",
       " \"'Nome': Jenira de Oliveira Zacarias, 'Sexo': 'Feminino', 'Pessoa': 'Física'\",\n",
       " \"'Nome': Fernando Fernandes, 'Sexo': 'Masculino', 'Pessoa': 'Física'\",\n",
       " \"'Nome': Benedito Barbosa e outros, 'Sexo': 'Masculino', 'Pessoa': 'Física'\",\n",
       " 0,\n",
       " \"'Nome': MARIA REGINA DE OLIVEIRA, 'Sexo': 'Feminino', 'Pessoa': 'Física'\",\n",
       " 0,\n",
       " \"'Nome': Vivian Marcondes Vilar, 'Sexo': 'Feminino', 'Pessoa': 'Física'\",\n",
       " \"'Nome': Banco do Brasil S/A, 'Pessoa': 'Jurídica'\",\n",
       " \"'Nome': FRIGORIFICO VILMON LTDA ME, 'Pessoa': 'Jurídica'\",\n",
       " \"'Nome': Clóvis Gomes da Silva, 'Sexo': 'Masculino', 'Pessoa': 'Física'\",\n",
       " \"'Nome': Leandro Alcarde da Silva, 'Sexo': 'Masculino', 'Pessoa': 'Física'\",\n",
       " \"'Nome': Aymoré, 'Sexo': 'Masculino', 'Pessoa': 'Física'\",\n",
       " \"'Nome': C.V.B., 'Pessoa': 'Segredo de Justiça'\",\n",
       " \"'Nome': Daniel Rossit Pierri, 'Sexo': 'Masculino', 'Pessoa': 'Física'\",\n",
       " 0,\n",
       " 0,\n",
       " \"'Nome': Daphne Pivoto Negrão Palma, 'Sexo': 'Feminino', 'Pessoa': 'Física'\",\n",
       " \"'Nome': Sperta Administradora de Consórcio Nacional Ltda, 'Pessoa': 'Jurídica'\",\n",
       " \"'Nome': Basalto Pedreira e Pavimentação Ltda., 'Pessoa': 'Jurídica'\",\n",
       " \"'Nome': BANCO FIAT S/A, 'Pessoa': 'Jurídica'\",\n",
       " \"'Nome': MARCO ANTONIO GARCIA, 'Sexo': 'Masculino', 'Pessoa': 'Física'\",\n",
       " \"'Nome': ITAU UNIBANCO S/A, 'Pessoa': 'Jurídica'\",\n",
       " \"'Nome': Nadir Farina, 'Sexo': 'Feminino', 'Pessoa': 'Física'\",\n",
       " \"'Nome': Manoel Messias Menezes, 'Sexo': 'Masculino', 'Pessoa': 'Física'\",\n",
       " \"'Nome': ITAMARA INACIO CUNHA DA SILVA, 'Sexo': 'Feminino', 'Pessoa': 'Física'\",\n",
       " \"'Nome': LILIANE BISPO DA SILVA, 'Sexo': 'Feminino', 'Pessoa': 'Física'\",\n",
       " \"'Nome': Rubens Jose das Neves, 'Sexo': 'Masculino', 'Pessoa': 'Física'\",\n",
       " \"'Nome': Amarildo de Almeida, 'Sexo': 'Masculino', 'Pessoa': 'Física'\",\n",
       " \"'Nome': R.C.F.P., 'Pessoa': 'Segredo de Justiça'\",\n",
       " \"'Nome': Márcio de Miranda Seixas, 'Sexo': 'Masculino', 'Pessoa': 'Física'\",\n",
       " 0,\n",
       " 0,\n",
       " \"'Nome': Valdirene Mota Pereira Figueiredo, 'Sexo': 'Feminino', 'Pessoa': 'Física'\",\n",
       " \"'Nome': Banco Bradesco Sa, 'Pessoa': 'Jurídica'\",\n",
       " \"'Nome': L. V. B., 'Pessoa': 'Segredo de Justiça'\",\n",
       " \"'Nome': Raul Pereira Gonzales, 'Sexo': 'Masculino', 'Pessoa': 'Física'\",\n",
       " \"'Nome': Rodolfo Cesar Merlo, 'Sexo': 'Masculino', 'Pessoa': 'Física'\",\n",
       " \"'Nome': ALEX APARECIDO DE OLIVEIRA, 'Sexo': 'Masculino', 'Pessoa': 'Física'\",\n",
       " \"'Nome': BANCO PECÚNIA S/A, 'Pessoa': 'Jurídica'\",\n",
       " \"'Nome': Banco Bradesco Financiamentos Sa, 'Pessoa': 'Jurídica'\",\n",
       " \"'Nome': Tarcisio Laterza Lopes, 'Sexo': 'Masculino', 'Pessoa': 'Física'\",\n",
       " \"'Nome': V.A.P. e outro, 'Pessoa': 'Segredo de Justiça'\",\n",
       " \"'Nome': Banco do Brasil S/A, 'Pessoa': 'Jurídica'\",\n",
       " \"'Nome': Carlos Gomes Galvani, 'Sexo': 'Masculino', 'Pessoa': 'Física'\",\n",
       " \"'Nome': LEANDRO LOPES GONÇALVES, 'Sexo': 'Masculino', 'Pessoa': 'Física'\",\n",
       " 0,\n",
       " \"'Nome': A.J.M., 'Pessoa': 'Segredo de Justiça'\",\n",
       " \"'Nome': Antonio Barbosa, 'Sexo': 'Masculino', 'Pessoa': 'Física'\",\n",
       " \"'Nome': CARVAJAL INFORMAÇÃO LTDA, 'Pessoa': 'Jurídica'\",\n",
       " \"'Nome': Dineia Aparecida da Cruz Santos, 'Sexo': 'Feminino', 'Pessoa': 'Física'\",\n",
       " \"'Nome': ANTONIO CARLOS MANTUAN, 'Sexo': 'Masculino', 'Pessoa': 'Física'\",\n",
       " \"'Nome': Clemente Alves Lopes, 'Sexo': 'Masculino', 'Pessoa': 'Física'\",\n",
       " \"'Nome': Pedro Henrique Pulini Amparome, 'Sexo': 'Masculino', 'Pessoa': 'Física'\",\n",
       " \"'Nome': CENTRO MEDICO RIO PRETO LTDA, 'Pessoa': 'Jurídica'\",\n",
       " \"'Nome': Banco Itau S/A., 'Pessoa': 'Jurídica'\",\n",
       " \"'Nome': Regina Célia Ribas, 'Sexo': 'Feminino', 'Pessoa': 'Física'\",\n",
       " \"'Nome': Marisa Pereira dos Santos, 'Sexo': 'Feminino', 'Pessoa': 'Física'\",\n",
       " \"'Nome': R.E.H., 'Pessoa': 'Segredo de Justiça'\",\n",
       " \"'Nome': Douglas Coração da Fonseca, 'Sexo': 'Masculino', 'Pessoa': 'Física'\",\n",
       " \"'Nome': REDE RECAPEX PNEUS LTDA, 'Pessoa': 'Jurídica'\",\n",
       " \"'Nome': Recorrente: Companhia Piratininga de Força e Luz, 'Pessoa': 'Jurídica'\",\n",
       " \"'Nome': Bertolo Fomento Mercantil Ltda me, 'Sexo': 'Masculino', 'Pessoa': 'Física'\",\n",
       " \"'Nome': Comercial Joia Rahra Guaira Ltda Me, 'Pessoa': 'Jurídica'\",\n",
       " 0,\n",
       " \"'Nome': E. J. da S., 'Pessoa': 'Segredo de Justiça'\",\n",
       " \"'Nome': DANIELO FRANCISCO FERNANDES CORRÊA, 'Sexo': 'Masculino', 'Pessoa': 'Física'\",\n",
       " \"'Nome': André Ricardo Lapenna, 'Sexo': 'Masculino', 'Pessoa': 'Física'\",\n",
       " \"'Nome': G.C.R., 'Pessoa': 'Segredo de Justiça'\",\n",
       " \"'Nome': M.S.O.S. e outro, 'Pessoa': 'Segredo de Justiça'\",\n",
       " \"'Nome': Otavio dos Anjos Azevedo, 'Sexo': 'Masculino', 'Pessoa': 'Física'\",\n",
       " \"'Nome': L.H.S., 'Pessoa': 'Segredo de Justiça'\",\n",
       " \"'Nome': Tiago Ramos Viana de Jesus, 'Sexo': 'Masculino', 'Pessoa': 'Física'\",\n",
       " \"'Nome': Beatriz Foloni Delduque da Costa, 'Sexo': 'Feminino', 'Pessoa': 'Física'\",\n",
       " \"'Nome': Aes Tietê Sa, 'Pessoa': 'Jurídica'\",\n",
       " \"'Nome': O.D.B., 'Pessoa': 'Segredo de Justiça'\",\n",
       " \"'Nome': Alessandra Tucci de Souza, 'Sexo': 'Feminino', 'Pessoa': 'Física'\",\n",
       " 0,\n",
       " \"'Nome': Mapfre Vera Cruz Seguradora S/A, 'Pessoa': 'Jurídica'\",\n",
       " \"'Nome': Ana Claudia Soares Medeiros, 'Sexo': 'Feminino', 'Pessoa': 'Física'\",\n",
       " 0,\n",
       " \"'Nome': R. A. E OUTROS, 'Pessoa': 'Segredo de Justiça'\",\n",
       " \"'Nome': Thiagão Veículos Ltda Me, 'Pessoa': 'Jurídica'\",\n",
       " 0,\n",
       " \"'Nome': Emerson Romanholi, 'Sexo': 'Masculino', 'Pessoa': 'Física'\",\n",
       " \"'Nome': Maria Becker Xavier, 'Sexo': 'Feminino', 'Pessoa': 'Física'\",\n",
       " \"'Nome': Renan Trombela, 'Sexo': 'Masculino', 'Pessoa': 'Física'\",\n",
       " \"'Nome': JOSÉ LUIZ GHIZZI, 'Sexo': 'Masculino', 'Pessoa': 'Física'\",\n",
       " \"'Nome': Liomário Satiro de Souza, 'Sexo': 'Masculino', 'Pessoa': 'Física'\",\n",
       " \"'Nome': SACRAMENTO AGROPASTORIL LTDA, 'Sexo': 'Feminino', 'Pessoa': 'Física'\",\n",
       " \"'Nome': Q.G.S., 'Pessoa': 'Segredo de Justiça'\",\n",
       " \"'Nome': ESA Empreendimentos Imobiliarios S/C Ltda, 'Sexo': 'Feminino', 'Pessoa': 'Física'\",\n",
       " \"'Nome': OSAMU NAKANISHI, 'Sexo': 'Masculino', 'Pessoa': 'Física'\",\n",
       " \"'Nome': ERIC RODRIGO TEIXEIRA, 'Sexo': 'Masculino', 'Pessoa': 'Física'\",\n",
       " \"'Nome': Itaú Unibanco S/A, 'Pessoa': 'Jurídica'\",\n",
       " \"'Nome': Bruno Vieira Conti e outro, 'Sexo': 'Masculino', 'Pessoa': 'Física'\",\n",
       " \"'Nome': RAUL TIBERIO JÚNIOR, 'Sexo': 'Masculino', 'Pessoa': 'Física'\",\n",
       " 0,\n",
       " 0,\n",
       " \"'Nome': Alberto Caio Tamborrino Epp, 'Sexo': 'Masculino', 'Pessoa': 'Física'\",\n",
       " 0,\n",
       " \"'Nome': T.S., 'Pessoa': 'Segredo de Justiça'\",\n",
       " \"'Nome': F..I. CALDEIRARIA INDÚSTRIA E COMÉRCIO LTDA., 'Pessoa': 'Jurídica'\",\n",
       " \"'Nome': BV Financeira S/A Crédito Financiamento e Investimento, 'Pessoa': 'Jurídica'\",\n",
       " \"'Nome': F.A.M.C., 'Pessoa': 'Segredo de Justiça'\",\n",
       " \"'Nome': Aurora Ribeiro Fedozzi, 'Sexo': 'Feminino', 'Pessoa': 'Física'\",\n",
       " \"'Nome': JOSÉ CARLOS DA SILVA, 'Sexo': 'Masculino', 'Pessoa': 'Física'\",\n",
       " 0,\n",
       " \"'Nome': Banco Nossa Caixa Sa, 'Pessoa': 'Jurídica'\",\n",
       " \"'Nome': Macrocolor Reportagens Fotográficas Ltda Me, 'Pessoa': 'Jurídica'\",\n",
       " \"'Nome': Joaquim Henne, 'Sexo': 'Masculino', 'Pessoa': 'Física'\",\n",
       " \"'Nome': M. C. G. C., 'Pessoa': 'Segredo de Justiça'\",\n",
       " \"'Nome': ‘Banco Itaucard S/A, 'Pessoa': 'Jurídica'\",\n",
       " 0,\n",
       " \"'Nome': COMPAÑIA SUD AMERICANA DE VAPORES S.A, 'Pessoa': 'Jurídica'\",\n",
       " \"'Nome': Regina Célia Pimentel da Silva, 'Sexo': 'Feminino', 'Pessoa': 'Física'\",\n",
       " \"'Nome': Joselaine Cristina Marcelino, 'Sexo': 'Feminino', 'Pessoa': 'Física'\",\n",
       " \"'Nome': Alessandro Messias Alves, 'Sexo': 'Masculino', 'Pessoa': 'Física'\",\n",
       " \"'Nome': Luiz Gustavo Micheletti Sabater, 'Sexo': 'Masculino', 'Pessoa': 'Física'\",\n",
       " 0,\n",
       " 0,\n",
       " 0,\n",
       " \"'Nome': JOSE CRYZOSTON ALEXANDRE MARTINS, 'Sexo': 'Masculino', 'Pessoa': 'Física'\",\n",
       " \"'Nome': Entony Lopes Rocha da Silva e outro, 'Sexo': 'Masculino', 'Pessoa': 'Física'\",\n",
       " \"'Nome': Paulo Itallo de Carvalho Moraes, 'Sexo': 'Masculino', 'Pessoa': 'Física'\",\n",
       " \"'Nome': Sônia Maria de Souza, 'Sexo': 'Feminino', 'Pessoa': 'Física'\",\n",
       " \"'Nome': OMNI S/A CRÉDITO FINANCIAMENTO E INVESTIMENTO, 'Pessoa': 'Jurídica'\",\n",
       " \"'Nome': João Paulo de Assis, 'Sexo': 'Masculino', 'Pessoa': 'Física'\",\n",
       " \"'Nome': EDVALDO DA SILVA, 'Sexo': 'Masculino', 'Pessoa': 'Física'\",\n",
       " \"'Nome': Esmeralda de Souza Santos Mendonça, 'Sexo': 'Feminino', 'Pessoa': 'Física'\",\n",
       " \"'Nome': Sandra Maria de Oliveira, 'Sexo': 'Feminino', 'Pessoa': 'Física'\",\n",
       " \"'Nome': Priscila Rigoni de Almeida Souza, 'Sexo': 'Feminino', 'Pessoa': 'Física'\",\n",
       " \"'Nome': FABIO DONIZETE LIMA SALES, 'Sexo': 'Masculino', 'Pessoa': 'Física'\",\n",
       " 0,\n",
       " \"'Nome': Marcela Oliveira Farias Dospir, 'Sexo': 'Feminino', 'Pessoa': 'Física'\",\n",
       " 0,\n",
       " \"'Nome': Governo do Estado de São Paulo Secretaria de Estado da Saúde, 'Pessoa': 'Jurídica'\",\n",
       " \"'Nome': CONDOMÍNIO EDIFÍCIO PORANGÁ, 'Pessoa': 'Jurídica'\",\n",
       " \"'Nome': Jose Itamar Misturini, 'Sexo': 'Masculino', 'Pessoa': 'Física'\",\n",
       " \"'Nome': IRMÃOS SOLDERA LTDA, 'Pessoa': 'Jurídica'\",\n",
       " \"'Nome': NEREIDE DO CARMO PERONTI SASSO, 'Sexo': 'Feminino', 'Pessoa': 'Física'\",\n",
       " \"'Nome': Flávio Sérgio Vaz Prado, 'Sexo': 'Masculino', 'Pessoa': 'Física'\",\n",
       " \"'Nome': Adenaldo Bernardino Rodrigues, 'Sexo': 'Masculino', 'Pessoa': 'Física'\",\n",
       " \"'Nome': Gilmar Antonio Bonatti e outro, 'Sexo': 'Masculino', 'Pessoa': 'Física'\",\n",
       " \"'Nome': LAURA FERREIRA DA ROCHA SOARES, 'Sexo': 'Feminino', 'Pessoa': 'Física'\",\n",
       " \"'Nome': Comercial e Construtora Aurora Ltda, 'Pessoa': 'Jurídica'\",\n",
       " \"'Nome': DIEGO EMANUEL FERRAZ, 'Sexo': 'Masculino', 'Pessoa': 'Física'\",\n",
       " \"'Nome': Industria de Embalagens Confiança Ltda, 'Pessoa': 'Jurídica'\",\n",
       " \"'Nome': T. da S. G., 'Pessoa': 'Segredo de Justiça'\",\n",
       " \"'Nome': Paulo de Andrade Maia, 'Sexo': 'Masculino', 'Pessoa': 'Física'\",\n",
       " \"'Nome': Portal Sinalizaçao Viaria Ltda, 'Pessoa': 'Jurídica'\",\n",
       " \"'Nome': Allan Henrique Chaves Pudo, 'Sexo': 'Masculino', 'Pessoa': 'Física'\",\n",
       " 0,\n",
       " \"'Nome': Santo André, 'Sexo': 'Masculino', 'Pessoa': 'Física'\",\n",
       " 0,\n",
       " \"'Nome': Ruth Rocha Capello, 'Sexo': 'Feminino', 'Pessoa': 'Física'\",\n",
       " \"'Nome': AYMORE CREDITO FINANCIAMENTO E INVESTIMENTO SA, 'Sexo': 'Masculino', 'Pessoa': 'Física'\",\n",
       " \"'Nome': JOSE LUIZ TEIXEIRA DE CAMARGO, 'Sexo': 'Masculino', 'Pessoa': 'Física'\",\n",
       " \"'Nome': Solange Nogueirão, 'Sexo': 'Feminino', 'Pessoa': 'Física'\",\n",
       " 0,\n",
       " 0,\n",
       " 0,\n",
       " \"'Nome': Roberto de Jesus Volpiano, 'Sexo': 'Masculino', 'Pessoa': 'Física'\",\n",
       " \"'Nome': SANTANDER LEASING S.A. ARRENDAMENTO MERCANTIL, 'Pessoa': 'Jurídica'\",\n",
       " \"'Nome': Delfino Botelho da Silva, 'Sexo': 'Masculino', 'Pessoa': 'Física'\",\n",
       " 0,\n",
       " \"'Nome': Vagner Aparecido Baldin, 'Sexo': 'Masculino', 'Pessoa': 'Física'\",\n",
       " \"'Nome': V.A.C., 'Pessoa': 'Segredo de Justiça'\",\n",
       " \"'Nome': C.G.E., 'Pessoa': 'Segredo de Justiça'\",\n",
       " \"'Nome': Luís Ricardo Altoé & Cia Ltda, 'Sexo': 'Masculino', 'Pessoa': 'Física'\",\n",
       " \"'Nome': Serviços de Hematologia e Hemoterapia S/S Ltda, 'Pessoa': 'Jurídica'\",\n",
       " \"'Nome': Marlene de Castilho, 'Sexo': 'Feminino', 'Pessoa': 'Física'\",\n",
       " \"'Nome': Getulio Galvão Catib, 'Sexo': 'Masculino', 'Pessoa': 'Física'\",\n",
       " 0,\n",
       " \"'Nome': FUNDAÇÃO EDUCACIONAL INACIANA PADRE SABOIA DE MEDEIROS, 'Pessoa': 'Jurídica'\",\n",
       " \"'Nome': José Adalberto Rosa Silva, 'Sexo': 'Masculino', 'Pessoa': 'Física'\",\n",
       " \"'Nome': Engevapa Pavimentacao e Obras Ltda, 'Pessoa': 'Jurídica'\",\n",
       " \"'Nome': Banco Gmac S/A, 'Pessoa': 'Jurídica'\",\n",
       " \"'Nome': Celso Luis Barbosa, 'Sexo': 'Masculino', 'Pessoa': 'Física'\",\n",
       " \"'Nome': Onira Maciel Carlos, 'Sexo': 'Feminino', 'Pessoa': 'Física'\",\n",
       " \"'Nome': Luiz Guerino, 'Sexo': 'Masculino', 'Pessoa': 'Física'\",\n",
       " \"'Nome': Cideral Comércio e Importação de Rolamentos Ltda, 'Pessoa': 'Jurídica'\",\n",
       " \"'Nome': Mauro Eduardo Inforçato, 'Sexo': 'Masculino', 'Pessoa': 'Física'\",\n",
       " \"'Nome': E.C.R.L., 'Pessoa': 'Segredo de Justiça'\",\n",
       " \"'Nome': Douglas Mozardo, 'Sexo': 'Masculino', 'Pessoa': 'Física'\",\n",
       " \"'Nome': T.L.S., 'Pessoa': 'Segredo de Justiça'\",\n",
       " \"'Nome': LELIS SOUZA FILHO, 'Sexo': 'Masculino', 'Pessoa': 'Física'\",\n",
       " 0,\n",
       " \"'Nome': V.S., 'Pessoa': 'Segredo de Justiça'\",\n",
       " 0,\n",
       " \"'Nome': ALI ABDUL RAHIM MAJZOUB, 'Sexo': 'Masculino', 'Pessoa': 'Física'\",\n",
       " \"'Nome': C. D. S., 'Pessoa': 'Segredo de Justiça'\",\n",
       " \"'Nome': Sang Ho Lee, 'Sexo': 'Masculino', 'Pessoa': 'Física'\",\n",
       " 0,\n",
       " \"'Nome': J.A.B., 'Pessoa': 'Segredo de Justiça'\",\n",
       " \"'Nome': Celso Felicio Lopes, 'Sexo': 'Masculino', 'Pessoa': 'Física'\",\n",
       " \"'Nome': ‘Banco Itaucard S.A., 'Pessoa': 'Jurídica'\",\n",
       " \"'Nome': ROBERVAL CARDOSO DA COSTA, 'Sexo': 'Masculino', 'Pessoa': 'Física'\",\n",
       " \"'Nome': K. I. M., 'Pessoa': 'Segredo de Justiça'\",\n",
       " \"'Nome': Carlos Eduardo Scarpa, 'Sexo': 'Masculino', 'Pessoa': 'Física'\",\n",
       " 0,\n",
       " \"'Nome': L.E.B., 'Pessoa': 'Segredo de Justiça'\",\n",
       " \"'Nome': Marcelha Cristina de Carvalho Yodono, 'Sexo': 'Feminino', 'Pessoa': 'Física'\",\n",
       " \"'Nome': Tatiana Martins de Oliveira, 'Sexo': 'Feminino', 'Pessoa': 'Física'\",\n",
       " \"'Nome': Hsbc Bank Brasil Sa Banco Múltiplo, 'Pessoa': 'Jurídica'\",\n",
       " \"'Nome': A.S.P., 'Pessoa': 'Segredo de Justiça'\",\n",
       " \"'Nome': M.L.M., 'Pessoa': 'Segredo de Justiça'\",\n",
       " \"'Nome': Azelino Gouvêa de Lima, 'Sexo': 'Masculino', 'Pessoa': 'Física'\",\n",
       " \"'Nome': CLAUDIA MIRANDA GONÇALVES TANABE, 'Sexo': 'Feminino', 'Pessoa': 'Física'\",\n",
       " 0,\n",
       " \"'Nome': M. de L. S., 'Pessoa': 'Segredo de Justiça'\",\n",
       " \"'Nome': Armando de Moraes, 'Sexo': 'Masculino', 'Pessoa': 'Física'\",\n",
       " \"'Nome': A.S.G., 'Pessoa': 'Segredo de Justiça'\",\n",
       " 0,\n",
       " \"'Nome': V.G.O., 'Pessoa': 'Segredo de Justiça'\",\n",
       " \"'Nome': Raquel Fátima de Faria, 'Sexo': 'Feminino', 'Pessoa': 'Física'\",\n",
       " \"'Nome': Marco Antonio dos Santos Madeira e outro, 'Sexo': 'Masculino', 'Pessoa': 'Física'\",\n",
       " 0,\n",
       " \"'Nome': Wilson Pereira da Silva, 'Sexo': 'Masculino', 'Pessoa': 'Física'\",\n",
       " \"'Nome': Vera Lucia Benzi Braz, 'Sexo': 'Feminino', 'Pessoa': 'Física'\",\n",
       " \"'Nome': Itaú Unibanco S/A, 'Pessoa': 'Jurídica'\",\n",
       " \"'Nome': Ananias Cardoso Veras, 'Sexo': 'Masculino', 'Pessoa': 'Física'\",\n",
       " \"'Nome': Luiz Antonio Cote, 'Sexo': 'Masculino', 'Pessoa': 'Física'\",\n",
       " \"'Nome': MARIA JOSÉ DA SILVA, 'Sexo': 'Feminino', 'Pessoa': 'Física'\",\n",
       " \"'Nome': H.R.M.Q., 'Pessoa': 'Segredo de Justiça'\",\n",
       " \"'Nome': Bv Financeira Sa, 'Pessoa': 'Jurídica'\",\n",
       " \"'Nome': Calçados Pizzane Ltda, 'Pessoa': 'Jurídica'\",\n",
       " \"'Nome': C.R.B.B., 'Pessoa': 'Segredo de Justiça'\",\n",
       " \"'Nome': Mario Ricardo Gaspar Augusto, 'Sexo': 'Masculino', 'Pessoa': 'Física'\",\n",
       " \"'Nome': C.A.O.S.G., 'Pessoa': 'Segredo de Justiça'\",\n",
       " \"'Nome': Paulo Roberto Conceiçao, 'Sexo': 'Masculino', 'Pessoa': 'Física'\",\n",
       " \"'Nome': Carlos Roberto Posca, 'Sexo': 'Masculino', 'Pessoa': 'Física'\",\n",
       " \"'Nome': Arlindo Francisco da Silva, 'Sexo': 'Masculino', 'Pessoa': 'Física'\",\n",
       " 0,\n",
       " \"'Nome': Maria Aparecida Gonçalves de Campos, 'Sexo': 'Feminino', 'Pessoa': 'Física'\",\n",
       " \"'Nome': R.M.N., 'Pessoa': 'Segredo de Justiça'\",\n",
       " \"'Nome': Banco Citibank S/A, 'Pessoa': 'Jurídica'\",\n",
       " 0,\n",
       " \"'Nome': CONDOMINIO EDIFICIO AMBASSADOR FLAT SERVICE, 'Pessoa': 'Jurídica'\",\n",
       " \"'Nome': Luiz Arthur Ferreira Baldasserine, 'Sexo': 'Masculino', 'Pessoa': 'Física'\",\n",
       " \"'Nome': Edvaldo Bernardino de Brito e outro, 'Sexo': 'Masculino', 'Pessoa': 'Física'\",\n",
       " \"'Nome': Maria Jose Fidalgo Furlan, 'Sexo': 'Feminino', 'Pessoa': 'Física'\",\n",
       " \"'Nome': M.A.G.L., 'Pessoa': 'Segredo de Justiça'\",\n",
       " \"'Nome': J. F. F. L., 'Pessoa': 'Segredo de Justiça'\",\n",
       " \"'Nome': HELIO DOMINGOS DOS SANTOS, 'Sexo': 'Masculino', 'Pessoa': 'Física'\",\n",
       " \"'Nome': Ronaldo Redivo Vilar, 'Sexo': 'Masculino', 'Pessoa': 'Física'\",\n",
       " 0,\n",
       " \"'Nome': Santos e Moreira Comércio e Equipamentos de Informática LTDA ME e outro, 'Sexo': 'Masculino', 'Pessoa': 'Física'\",\n",
       " 0,\n",
       " \"'Nome': Alba Valeria Rodrigues Randi, 'Sexo': 'Feminino', 'Pessoa': 'Física'\",\n",
       " \"'Nome': MOTOROLA DO BRASIL INDUSTRIAL LDA, 'Pessoa': 'Jurídica'\",\n",
       " \"'Nome': J. S. S., 'Pessoa': 'Segredo de Justiça'\",\n",
       " \"'Nome': Alda Hipólito dos Santos, 'Sexo': 'Feminino', 'Pessoa': 'Física'\",\n",
       " 0,\n",
       " \"'Nome': Thiago Felipe Ferreira de Paula, 'Sexo': 'Masculino', 'Pessoa': 'Física'\",\n",
       " \"'Nome': Angelo Woislau Coyado, 'Sexo': 'Masculino', 'Pessoa': 'Física'\",\n",
       " \"'Nome': Fabio dos Santos, 'Sexo': 'Masculino', 'Pessoa': 'Física'\",\n",
       " \"'Nome': IVALDO DOS SANTOS, 'Sexo': 'Masculino', 'Pessoa': 'Física'\",\n",
       " \"'Nome': Zanetti Empreendimentos Imobiliários Ltda, 'Pessoa': 'Jurídica'\",\n",
       " \"'Nome': N.F.C., 'Pessoa': 'Segredo de Justiça'\",\n",
       " \"'Nome': Thayna Rodrigues do Nascmento, 'Sexo': 'Feminino', 'Pessoa': 'Física'\",\n",
       " 0,\n",
       " \"'Nome': MURILO JOSÉ DE CARVALHO, 'Sexo': 'Masculino', 'Pessoa': 'Física'\",\n",
       " \"'Nome': Banco Bradesco Financiamentos SA, 'Pessoa': 'Jurídica'\",\n",
       " \"'Nome': Aymoré Crédito Financiamento e Investimento S/A, 'Sexo': 'Masculino', 'Pessoa': 'Física'\",\n",
       " \"'Nome':  Vera Lúcia de Oliveira Pinto, 'Sexo': 'Feminino', 'Pessoa': 'Física'\",\n",
       " \"'Nome': V. L. M. E OUTROS, 'Pessoa': 'Segredo de Justiça'\",\n",
       " \"'Nome': A.C.F.P., 'Pessoa': 'Segredo de Justiça'\",\n",
       " 0,\n",
       " \"'Nome': Jose da Cruz, 'Sexo': 'Masculino', 'Pessoa': 'Física'\",\n",
       " \"'Nome': EDSON JOAQUIM DE ALMEIDA, 'Sexo': 'Masculino', 'Pessoa': 'Física'\",\n",
       " \"'Nome': Dolores Fernandes de Arruda, 'Sexo': 'Feminino', 'Pessoa': 'Física'\",\n",
       " \"'Nome': L.C.P.F., 'Pessoa': 'Segredo de Justiça'\",\n",
       " 0,\n",
       " \"'Nome': OTÁVIO GOTTARDI FILHO, 'Sexo': 'Masculino', 'Pessoa': 'Física'\",\n",
       " 0,\n",
       " \"'Nome': SILVIO ROBERTO ISOLA E OUTROS, 'Sexo': 'Masculino', 'Pessoa': 'Física'\",\n",
       " 0,\n",
       " \"'Nome': FABRÍCIO ANTUNES CORREIA, 'Sexo': 'Masculino', 'Pessoa': 'Física'\",\n",
       " 0,\n",
       " \"'Nome': Ariane Cortelaso Sabino, 'Sexo': 'Feminino', 'Pessoa': 'Física'\",\n",
       " 0,\n",
       " \"'Nome': Edmar de Almeida Muniz, 'Sexo': 'Masculino', 'Pessoa': 'Física'\",\n",
       " \"'Nome': USINA MARINGA INDUSTRIA E COMERCIO LTDA, 'Pessoa': 'Jurídica'\",\n",
       " \"'Nome': Anderson Leandro dos Santos, 'Sexo': 'Masculino', 'Pessoa': 'Física'\",\n",
       " \"'Nome': B.F., 'Pessoa': 'Segredo de Justiça'\",\n",
       " \"'Nome': Aymore Credito Financiamento e Investimento Sa, 'Sexo': 'Masculino', 'Pessoa': 'Física'\",\n",
       " \"'Nome': MARINA CELIA CORTEZ PIMENTEL, 'Sexo': 'Feminino', 'Pessoa': 'Física'\",\n",
       " \"'Nome': Rosemeire Olimpia de Andrade Piotto, 'Sexo': 'Feminino', 'Pessoa': 'Física'\",\n",
       " \"'Nome': Edivaldo Luiz Marques, 'Sexo': 'Masculino', 'Pessoa': 'Física'\",\n",
       " \"'Nome': Via Varejo S/A, 'Pessoa': 'Jurídica'\",\n",
       " \"'Nome': José Eduardo Xavier Cortez, 'Sexo': 'Masculino', 'Pessoa': 'Física'\",\n",
       " 0,\n",
       " 0,\n",
       " \"'Nome': Beatriz Lopes Garcia, 'Sexo': 'Feminino', 'Pessoa': 'Física'\",\n",
       " 0,\n",
       " \"'Nome': Jord Any Lívia Mendes Costa, 'Sexo': 'Masculino', 'Pessoa': 'Física'\",\n",
       " \"'Nome': Andréia Aparecida Carrara de Mendonça, 'Sexo': 'Feminino', 'Pessoa': 'Física'\",\n",
       " \"'Nome': Itaú Unibanco S/A., 'Pessoa': 'Jurídica'\",\n",
       " \"'Nome': M. J. S., 'Pessoa': 'Segredo de Justiça'\",\n",
       " \"'Nome': Rogério Silva de Oliveira, 'Sexo': 'Masculino', 'Pessoa': 'Física'\",\n",
       " 0,\n",
       " \"'Nome': EUNICE DE SOUZA LOPES, 'Sexo': 'Feminino', 'Pessoa': 'Física'\",\n",
       " \"'Nome': Condominio Residencial Cupecê, 'Pessoa': 'Jurídica'\",\n",
       " \"'Nome': Mario Hiroshi Mada, 'Sexo': 'Masculino', 'Pessoa': 'Física'\",\n",
       " 0,\n",
       " \"'Nome': Adélia da Silva, 'Sexo': 'Feminino', 'Pessoa': 'Física'\",\n",
       " \"'Nome': Bradesco Administradora de Consórcios Ltda, 'Pessoa': 'Jurídica'\",\n",
       " \"'Nome': R.O.R., 'Pessoa': 'Segredo de Justiça'\",\n",
       " \"'Nome': Leonardo Bardeli, 'Sexo': 'Masculino', 'Pessoa': 'Física'\",\n",
       " \"'Nome': EU SOU VIP PUBLICIDADE E ASSESSORIA LTDA. ME, 'Pessoa': 'Jurídica'\",\n",
       " \"'Nome': J.R.S., 'Pessoa': 'Segredo de Justiça'\",\n",
       " \"'Nome': ARNALDO FRANCISCO OLIVEIRA, 'Sexo': 'Masculino', 'Pessoa': 'Física'\",\n",
       " \"'Nome': VIVER INCORPORADORA E CONSTRUTORA S/A, 'Pessoa': 'Jurídica'\",\n",
       " \"'Nome': J.R.S.O., 'Pessoa': 'Segredo de Justiça'\",\n",
       " \"'Nome': MARTA ELÉIA ROMERO GUTIERRES, 'Sexo': 'Feminino', 'Pessoa': 'Física'\",\n",
       " \"'Nome': José Geronimo Galdino da Silva, 'Sexo': 'Masculino', 'Pessoa': 'Física'\",\n",
       " \"'Nome': Roberto Rulli, 'Sexo': 'Masculino', 'Pessoa': 'Física'\",\n",
       " \"'Nome': V.P.S., 'Pessoa': 'Segredo de Justiça'\",\n",
       " \"'Nome': MARCELO CARLOS DE SOUZA, 'Sexo': 'Masculino', 'Pessoa': 'Física'\",\n",
       " \"'Nome': Daniella Bruna Oliveira do Carmo, 'Sexo': 'Feminino', 'Pessoa': 'Física'\",\n",
       " \"'Nome': Rodrigo Passini Gonçalves de Araújo e outro, 'Sexo': 'Masculino', 'Pessoa': 'Física'\",\n",
       " \"'Nome': CLARA REGINA KALISZ DE KAMINSKY e outro, 'Sexo': 'Feminino', 'Pessoa': 'Física'\",\n",
       " \"'Nome': Marcio Mori, 'Sexo': 'Masculino', 'Pessoa': 'Física'\",\n",
       " \"'Nome': Roque Sebastião Profeta, 'Sexo': 'Masculino', 'Pessoa': 'Física'\",\n",
       " \"'Nome': Juliana Cristina Badanai Tamião, 'Sexo': 'Feminino', 'Pessoa': 'Física'\",\n",
       " \"'Nome': Genuína Guedes, 'Sexo': 'Feminino', 'Pessoa': 'Física'\",\n",
       " 0,\n",
       " \"'Nome': BANCO DO BRASIL S/A, 'Pessoa': 'Jurídica'\",\n",
       " \"'Nome': Robson Cezar de Lima, 'Sexo': 'Masculino', 'Pessoa': 'Física'\",\n",
       " 0,\n",
       " 0,\n",
       " \"'Nome': Banco Bradesco Sa, 'Pessoa': 'Jurídica'\",\n",
       " 0,\n",
       " \"'Nome': IONE MARQUES DE LIMA, 'Sexo': 'Feminino', 'Pessoa': 'Física'\",\n",
       " \"'Nome': Fernando Fernandes Filho, 'Sexo': 'Masculino', 'Pessoa': 'Física'\",\n",
       " 0,\n",
       " \"'Nome': NILSON FRAGA BERNARDES, 'Sexo': 'Masculino', 'Pessoa': 'Física'\",\n",
       " \"'Nome': José Carlos Landini, 'Sexo': 'Masculino', 'Pessoa': 'Física'\",\n",
       " \"'Nome': Luis Gabriel, 'Sexo': 'Masculino', 'Pessoa': 'Física'\",\n",
       " \"'Nome': GUILHERME DA ROCHA FARIA, 'Sexo': 'Masculino', 'Pessoa': 'Física'\",\n",
       " \"'Nome': Marcilio Messias Felix, 'Sexo': 'Masculino', 'Pessoa': 'Física'\",\n",
       " \"'Nome': Hélcio Barizon, 'Sexo': 'Masculino', 'Pessoa': 'Física'\",\n",
       " 0,\n",
       " 0,\n",
       " \"'Nome': Josivaldo Elias da Silva, 'Sexo': 'Masculino', 'Pessoa': 'Física'\",\n",
       " \"'Nome': ARAGUAIA COSNTRUTORA BRASILEIRA DE RODOVIAS S/A, 'Pessoa': 'Jurídica'\",\n",
       " \"'Nome': ADILSON LEAL GOMES, 'Sexo': 'Masculino', 'Pessoa': 'Física'\",\n",
       " \"'Nome': Cicera Maria Rodrigues, 'Sexo': 'Feminino', 'Pessoa': 'Física'\",\n",
       " \"'Nome': AYMORE CREDITO FINANCIAMENTO E INVESTIMENTO S/A, 'Sexo': 'Masculino', 'Pessoa': 'Física'\",\n",
       " \"'Nome': Livia Moura Gonçalves, 'Sexo': 'Feminino', 'Pessoa': 'Física'\",\n",
       " \"'Nome': Rafael Rogerio Ferreira de Sá, 'Sexo': 'Masculino', 'Pessoa': 'Física'\",\n",
       " \"'Nome': BENEDITO CESARIO DE CASTRO e outro, 'Sexo': 'Masculino', 'Pessoa': 'Física'\",\n",
       " \"'Nome': Sonia Julieta de Oliveira, 'Sexo': 'Feminino', 'Pessoa': 'Física'\",\n",
       " \"'Nome': Calama Locações para Construção Civil Ltda, 'Pessoa': 'Jurídica'\",\n",
       " \"'Nome': JOSE DE OLIVEIRA DA SILVA, 'Sexo': 'Masculino', 'Pessoa': 'Física'\",\n",
       " \"'Nome': DIRCE CAMPANHÃO BELTRÃO, 'Sexo': 'Feminino', 'Pessoa': 'Física'\",\n",
       " \"'Nome': LEANDRO ERBA DOS SANTOS, 'Sexo': 'Masculino', 'Pessoa': 'Física'\",\n",
       " \"'Nome': Ministerio Publico do Estado de Sao Paulo, 'Pessoa': 'Jurídica'\",\n",
       " \"'Nome': S.R., 'Pessoa': 'Segredo de Justiça'\",\n",
       " 0,\n",
       " \"'Nome': S. & E. C. de P. L., 'Pessoa': 'Segredo de Justiça'\",\n",
       " \"'Nome': N. D. J. N. E OUTROS, 'Pessoa': 'Segredo de Justiça'\",\n",
       " \"'Nome': Figueira & Oliveira Rio Preto Ltda Epp, 'Pessoa': 'Jurídica'\",\n",
       " \"'Nome': Vera Lucia Germeniano Pereira, 'Sexo': 'Feminino', 'Pessoa': 'Física'\",\n",
       " \"'Nome': Osana Graziela Gonçalves, 'Sexo': 'Feminino', 'Pessoa': 'Física'\",\n",
       " \"'Nome': H.R.A.D., 'Pessoa': 'Segredo de Justiça'\",\n",
       " \"'Nome': H. D. dos S., 'Pessoa': 'Segredo de Justiça'\",\n",
       " \"'Nome': G. A. D. M. O., 'Pessoa': 'Segredo de Justiça'\",\n",
       " \"'Nome': Escola Vanguarda de Educação Infantil e Fundamental S/c Ltda, 'Pessoa': 'Jurídica'\",\n",
       " 0,\n",
       " \"'Nome': Banco Itau Veiculos S/A, 'Pessoa': 'Jurídica'\",\n",
       " \"'Nome': M.M.F.G., 'Pessoa': 'Segredo de Justiça'\",\n",
       " \"'Nome': Dbs Móveis e Eletrodomésticos Ltda, 'Pessoa': 'Jurídica'\",\n",
       " \"'Nome': Wilson de Chico, 'Sexo': 'Masculino', 'Pessoa': 'Física'\",\n",
       " \"'Nome': CONCEIÇÃO APARECIDA GOMES CAMACHO DA SILVA, 'Sexo': 'Feminino', 'Pessoa': 'Física'\",\n",
       " \"'Nome': José Edésio Guidi, 'Sexo': 'Masculino', 'Pessoa': 'Física'\",\n",
       " 0,\n",
       " 0,\n",
       " \"'Nome': GUARANI S/A, 'Sexo': 'Masculino', 'Pessoa': 'Física'\",\n",
       " 0,\n",
       " \"'Nome': TANIA SUELI DA SILVA SOUZA, 'Sexo': 'Feminino', 'Pessoa': 'Física'\",\n",
       " \"'Nome': Mg Entreposto de Carnes Ltda, 'Pessoa': 'Jurídica'\",\n",
       " \"'Nome': Karen Lilian Paschoalino Bertachini, 'Sexo': 'Feminino', 'Pessoa': 'Física'\",\n",
       " 0,\n",
       " \"'Nome': Francisco Carlos de Cesare Schmied, 'Sexo': 'Masculino', 'Pessoa': 'Física'\",\n",
       " \"'Nome': Thiago Felipe Giovanella, 'Sexo': 'Masculino', 'Pessoa': 'Física'\",\n",
       " 0,\n",
       " \"'Nome': Maria Aparecida Prateano, 'Sexo': 'Feminino', 'Pessoa': 'Física'\",\n",
       " \"'Nome': D’juan Colchões Industria e Comercio Ltda, 'Pessoa': 'Jurídica'\",\n",
       " \"'Nome': Marcelo Rodrigues Madureira, 'Sexo': 'Masculino', 'Pessoa': 'Física'\",\n",
       " \"'Nome': Sergio Adriane de Souza, 'Sexo': 'Masculino', 'Pessoa': 'Física'\",\n",
       " \"'Nome': Prefeitura Municipal de Santos, 'Pessoa': 'Jurídica'\",\n",
       " \"'Nome': Antonio Abade da Silva, 'Sexo': 'Masculino', 'Pessoa': 'Física'\",\n",
       " \"'Nome': L.E.A., 'Pessoa': 'Segredo de Justiça'\",\n",
       " 0,\n",
       " \"'Nome': B.C.C.F., 'Pessoa': 'Segredo de Justiça'\",\n",
       " \"'Nome': SAMFER COMERCIAL LTDA, 'Pessoa': 'Jurídica'\",\n",
       " 0,\n",
       " 0,\n",
       " \"'Nome': Dow Agrosciences Industrial Ltda, 'Pessoa': 'Jurídica'\",\n",
       " \"'Nome': J. P., 'Pessoa': 'Segredo de Justiça'\",\n",
       " \"'Nome': Jose Firmo Ferraz Filho e outro, 'Sexo': 'Masculino', 'Pessoa': 'Física'\",\n",
       " \"'Nome': Itau Unibanco S.a, 'Pessoa': 'Jurídica'\",\n",
       " 0,\n",
       " \"'Nome': Israel Melhado da Silva, 'Sexo': 'Masculino', 'Pessoa': 'Física'\",\n",
       " \"'Nome': Magni e Nascimento Ltda Me, 'Pessoa': 'Jurídica'\",\n",
       " ...]"
      ]
     },
     "execution_count": 21,
     "metadata": {},
     "output_type": "execute_result"
    }
   ],
   "source": [
    "# reus_classificados.count(0), \n",
    "# reus_classificados, autores_classificados\n",
    "# filtrados,\n",
    "filtrados_autores\n",
    "autores_classificados.count(0), \n",
    "autores_classificados\n",
    "# primeiros_nomes_autor\n",
    "# classify_download('Hortencia')\n",
    "# filtrados_reus\n",
    "#     for frase in pri_nome.ents:\n",
    "#         print(frase.label_, frase.text)\n",
    "#     print(primeiros_nomes[i])\n",
    "#     print(list_index)"
   ]
  },
  {
   "cell_type": "code",
   "execution_count": 22,
   "metadata": {},
   "outputs": [
    {
     "data": {
      "text/plain": [
       "(nan,\n",
       " 'Processo 0003635-83.2010.8.26.0019 - Crime de Tráfico de Drogas (art. 33, da Lei 11.343/06) - Tráfico de Drogas e Condutas Afins - Justiça Pública - Os autos encontram-se-lhe com vista para manifestar quanto a prova acrescida. - ADV: PAULO EDUARDO PASCHOAL JUNIOR')"
      ]
     },
     "execution_count": 22,
     "metadata": {},
     "output_type": "execute_result"
    }
   ],
   "source": [
    "spacy.explain('MISC')\n",
    "# sp_data.loc[~sp_data['Reu'].isnull(),('Reu')]\n",
    "sp_data.loc[~sp_data['Autor'].isnull(),('Autor')]\n",
    "# sp_data['Reu'][5], sp_data['Conteúdo'][0] \n",
    "sp_data['Autor'][7], sp_data['Conteúdo'][7] \n",
    "# pd.Series(count_separator_post_filter) > 4\n",
    "# # len(ind_range), data, np.array(count_separator_post_filter)\n",
    "\n",
    "# l = []\n",
    "# tt = back_sp_data['Conteúdo']\n",
    "\n",
    "# for i in range (10):\n",
    "    \n",
    "#     for j,a in enumerate(tt.str.find(' - ')):\n",
    "        \n",
    "#         if (a != -1):\n",
    "#             l.append(tt.loc[tt.str.find(' - ') != -1].str.slice(stop=a)[j])\n",
    "#             tt.loc[j] = tt.str.slice(start= a + 3)[j]\n",
    "# l, tt"
   ]
  },
  {
   "cell_type": "code",
   "execution_count": 23,
   "metadata": {},
   "outputs": [],
   "source": [
    "# USING FOR TAKE ALL ASSUNTOS OF DOCUMENTS\n",
    "# ass = pd.Series(assuntos_all)\n",
    "# ass_possible = pd.Series(partes_all)\n",
    "\n",
    "# # a = ass.str.findall(regex_assunto1)\n",
    "# teste_1 = ass\n",
    "# teste_2 = ass_possible\n",
    "# for i,assunto in enumerate(assuntos):\n",
    "\n",
    "#     for j, possible_ass in enumerate(ass):\n",
    "#         if(ass[j].lower() == assunto.lower()):\n",
    "            \n",
    "#             teste_1.loc[j] = assunto\n",
    "            \n",
    "#         if(ass_possible[j].lower() == assunto.lower()):\n",
    "            \n",
    "#             teste_2.loc[j] = assunto\n",
    "\n",
    "##################################################################################\n",
    "##################################################################################\n",
    "##################################################################################\n",
    "# new_sp_data.loc[:,('Assunto')][data_less_4[p.str.len() > 1].index] = assunto        \n",
    "\n",
    "# def multiprocessing_compare_assunto(assuntos):\n",
    "    \n",
    "#     for i,assunto in enumerate(assuntos):\n",
    "#         positions = data_less_4['Conteúdo'].str.find(assunto)\n",
    "#         positions = positions[positions > -1]\n",
    "        \n",
    "#         if(len(positions.index) > 0):\n",
    "#             for i,position in enumerate(positions):\n",
    "# #                 print(array[positions.index], positions.index[i], position)\n",
    "\n",
    "#                 if(position < array[positions.index[i]]):\n",
    "#                     array[positions.index[i]] = position\n",
    "#                     list_list.append([positions.index[i],assunto, position])\n",
    "# #                     back_sp_data.loc[positions.index[i],('Assunto')] = assunto\n",
    "#     return list_list\n",
    "# #                     print(list_list)\n",
    "# #                     print( back_sp_data.loc[positions.index[i],('Assunto')], assunto, positions.index[i])\n",
    "\n",
    "# if __name__ == '__main__':\n",
    "#     assuntos_1 = assuntos[0 : int(len(assuntos)/4)]\n",
    "#     assuntos_2 = assuntos[int(len(assuntos)/4) : 2 * int(len(assuntos)/4)]\n",
    "#     assuntos_3 = assuntos[2 * int(len(assuntos)/4) :3 * int(len(assuntos)/4)]\n",
    "#     assuntos_4 = assuntos[3 * int(len(assuntos)/4):]\n",
    "#     starttime = time.time()\n",
    "#     pool = multiprocessing.Pool(4)\n",
    "#     tete = pool.map(multiprocessing_compare_assunto, [assuntos_1, assuntos_2, assuntos_3, assuntos_4])\n",
    "#     pool.close()\n",
    "#     print('That took {} seconds'.format(time.time() - starttime))\n",
    "\n",
    "##############################################################################\n",
    "##############################################################################\n",
    "##############################################################################\n",
    "# p = data_less_4['Conteúdo'].str.findall('Fica a defesa')\n",
    "# a = data_less_4['Conteúdo'].str.findall('tese')\n",
    "# b = data_less_4['Conteúdo'].str.find('tese')\n",
    "# d = data_less_4['Conteúdo'].str.find('teste')"
   ]
  }
 ],
 "metadata": {
  "kernelspec": {
   "display_name": "Python 3",
   "language": "python",
   "name": "python3"
  },
  "language_info": {
   "codemirror_mode": {
    "name": "ipython",
    "version": 3
   },
   "file_extension": ".py",
   "mimetype": "text/x-python",
   "name": "python",
   "nbconvert_exporter": "python",
   "pygments_lexer": "ipython3",
   "version": "3.6.9"
  }
 },
 "nbformat": 4,
 "nbformat_minor": 4
}
